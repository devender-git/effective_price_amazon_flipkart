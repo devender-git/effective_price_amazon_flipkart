{
 "cells": [
  {
   "cell_type": "code",
   "execution_count": 1,
   "id": "0c5a5c19-ed4f-4172-9f4a-1045e26f2a6b",
   "metadata": {},
   "outputs": [],
   "source": [
    "import openai\n",
    "import pandas as pd\n",
    "import json\n",
    "from langchain.agents import tool"
   ]
  },
  {
   "cell_type": "code",
   "execution_count": 2,
   "id": "0698ed60-f8ff-47c7-86ea-543abefa2c85",
   "metadata": {},
   "outputs": [],
   "source": [
    "input_data = pd.read_excel('RPA Pricing Extraction.xlsx')"
   ]
  },
  {
   "cell_type": "code",
   "execution_count": 3,
   "id": "8a98dedf-7532-4274-ae07-8aa5329af5be",
   "metadata": {},
   "outputs": [],
   "source": [
    "output_data = input_data.copy()"
   ]
  },
  {
   "cell_type": "code",
   "execution_count": 4,
   "id": "21ee00e1-c9d9-4487-9528-0f7303afcdd7",
   "metadata": {},
   "outputs": [
    {
     "data": {
      "text/html": [
       "<div>\n",
       "<style scoped>\n",
       "    .dataframe tbody tr th:only-of-type {\n",
       "        vertical-align: middle;\n",
       "    }\n",
       "\n",
       "    .dataframe tbody tr th {\n",
       "        vertical-align: top;\n",
       "    }\n",
       "\n",
       "    .dataframe thead th {\n",
       "        text-align: right;\n",
       "    }\n",
       "</style>\n",
       "<table border=\"1\" class=\"dataframe\">\n",
       "  <thead>\n",
       "    <tr style=\"text-align: right;\">\n",
       "      <th></th>\n",
       "      <th>Market Place</th>\n",
       "      <th>FSN /ASIN</th>\n",
       "      <th>Description</th>\n",
       "      <th>MRP</th>\n",
       "      <th>Current Price</th>\n",
       "      <th>Bank Offers</th>\n",
       "      <th>URL</th>\n",
       "      <th>Max Discount</th>\n",
       "      <th>IBD Bank Name/UPI</th>\n",
       "      <th>Min Swipe</th>\n",
       "      <th>Bump up</th>\n",
       "      <th>VPC(Amazon)</th>\n",
       "      <th>SuperCoins(Flipkart)</th>\n",
       "    </tr>\n",
       "  </thead>\n",
       "  <tbody>\n",
       "    <tr>\n",
       "      <th>0</th>\n",
       "      <td>Amazon</td>\n",
       "      <td>B0BKKHFGCP</td>\n",
       "      <td>Lava Blaze 5G (Glass Blue, 6GB RAM, UFS 2.2 12...</td>\n",
       "      <td>16349</td>\n",
       "      <td>11999</td>\n",
       "      <td>1. 7.5% Instant Discount up to INR 1000 on Cit...</td>\n",
       "      <td>https://www.amazon.in/dp/B0BSTTK7HS?th=1</td>\n",
       "      <td>None</td>\n",
       "      <td>None</td>\n",
       "      <td>None</td>\n",
       "      <td>None</td>\n",
       "      <td>None</td>\n",
       "      <td>None</td>\n",
       "    </tr>\n",
       "    <tr>\n",
       "      <th>1</th>\n",
       "      <td>Flipkart</td>\n",
       "      <td>MOBGHDXFPWKFSFJ2</td>\n",
       "      <td>REDMI Note 11 Pro (Stealth Black, 128 GB)  (8 ...</td>\n",
       "      <td>24999</td>\n",
       "      <td>23999</td>\n",
       "      <td>1. 10% off on Federal Bank Credit Card Txns, u...</td>\n",
       "      <td>https://www.flipkart.com/redmi-note-11-pro-ste...</td>\n",
       "      <td>None</td>\n",
       "      <td>None</td>\n",
       "      <td>None</td>\n",
       "      <td>None</td>\n",
       "      <td>None</td>\n",
       "      <td>None</td>\n",
       "    </tr>\n",
       "  </tbody>\n",
       "</table>\n",
       "</div>"
      ],
      "text/plain": [
       "  Market Place         FSN /ASIN  \\\n",
       "0       Amazon        B0BKKHFGCP   \n",
       "1     Flipkart  MOBGHDXFPWKFSFJ2   \n",
       "\n",
       "                                         Description    MRP  Current Price  \\\n",
       "0  Lava Blaze 5G (Glass Blue, 6GB RAM, UFS 2.2 12...  16349          11999   \n",
       "1  REDMI Note 11 Pro (Stealth Black, 128 GB)  (8 ...  24999          23999   \n",
       "\n",
       "                                         Bank Offers  \\\n",
       "0  1. 7.5% Instant Discount up to INR 1000 on Cit...   \n",
       "1  1. 10% off on Federal Bank Credit Card Txns, u...   \n",
       "\n",
       "                                                 URL Max Discount  \\\n",
       "0           https://www.amazon.in/dp/B0BSTTK7HS?th=1         None   \n",
       "1  https://www.flipkart.com/redmi-note-11-pro-ste...         None   \n",
       "\n",
       "  IBD Bank Name/UPI Min Swipe Bump up VPC(Amazon) SuperCoins(Flipkart)  \n",
       "0              None      None    None        None                 None  \n",
       "1              None      None    None        None                 None  "
      ]
     },
     "execution_count": 4,
     "metadata": {},
     "output_type": "execute_result"
    }
   ],
   "source": [
    "output_data[\"Max Discount\"]=None\n",
    "output_data[\"IBD Bank Name/UPI\"]=None\n",
    "output_data[\"Min Swipe\"]=None\n",
    "output_data[\"Bump up\"]=None\n",
    "output_data[\"VPC(Amazon)\"]=None\n",
    "output_data[\"SuperCoins(Flipkart)\"]=None\n",
    "output_data.drop('BUP', axis=1, inplace=True)\n",
    "output_data.drop('VPC', axis=1, inplace=True)\n",
    "output_data.drop('SuperCoins', axis=1, inplace=True)\n",
    "output_data"
   ]
  },
  {
   "cell_type": "code",
   "execution_count": 5,
   "id": "d6e9df72-7675-44f0-a887-7e0aca832107",
   "metadata": {},
   "outputs": [],
   "source": [
    "def create_content(price, offers):\n",
    "    content=f\"The Price of the SKU is {price}\\n\\nOffers:\\n\\n{offers}\\n\\nWhich is the best Offer?\"\n",
    "    return content"
   ]
  },
  {
   "cell_type": "code",
   "execution_count": 54,
   "id": "4681405c-c068-4a76-9679-126977b63ab3",
   "metadata": {},
   "outputs": [],
   "source": [
    "def process_discount_details(max_discount, min_swipe):\n",
    "    discount_perc = max_discount/min_swipe*100\n",
    "    return discount_perc"
   ]
  },
  {
   "cell_type": "code",
   "execution_count": 55,
   "id": "23b1747a-9b17-45ce-9ecf-2ba16e4ddd16",
   "metadata": {},
   "outputs": [],
   "source": [
    "#Load the LLM\n",
    "from langchain.chat_models import ChatOpenAI\n",
    "llm = ChatOpenAI(model='gpt-4-0613', temperature=0)"
   ]
  },
  {
   "cell_type": "code",
   "execution_count": 56,
   "id": "5448bf7a-93e3-4cc8-a85d-fd9858b4c6ee",
   "metadata": {},
   "outputs": [],
   "source": [
    "tools = []"
   ]
  },
  {
   "cell_type": "code",
   "execution_count": 58,
   "id": "787af3d9-e923-4e4d-b225-5e71e4e0d980",
   "metadata": {},
   "outputs": [],
   "source": [
    "\n",
    "@tool\n",
    "def best_offer_details(max_discount, bank_name, min_swipe):\n",
    "    '''Get the discount details like discount amount, bank name and Minimum swipe/pucrhase from the offer which is resulting in maximum discount\n",
    "    \n",
    "    Inputs:\n",
    "        max_discount (integer): The discount amount from the best offer\n",
    "        bank_name (str): The name of the bank which is offereing the best offer\n",
    "        min_swipe (int): The minimum swipe or purchase amount from the best offer\n",
    "    '''\n",
    "    print(\"Discount%\", process_discount_details(max_discount, min_swipe))\n",
    "tools = [best_offer_details]"
   ]
  },
  {
   "cell_type": "code",
   "execution_count": 59,
   "id": "13c1e4df-f901-41bc-ab08-5c398ad5d848",
   "metadata": {},
   "outputs": [],
   "source": [
    "#Create the prompt\n",
    "\n",
    "from langchain.prompts import ChatPromptTemplate, MessagesPlaceholder\n",
    "prompt = ChatPromptTemplate.from_messages([\n",
    "    (\"system\", \"You are a helpful assistant which helps in the identification of the best offer. In any offer when not explicitly mentioned assume any percentage discount/cashback as percentage of SKU price. Assume membership if that is one of the condition for any offer. Assume Prime membership wherever applicable & transactions are not Amazon business transactions.\"),\n",
    "    (\"human\", \"{input}\"),\n",
    "    MessagesPlaceholder(variable_name=\"agent_scratchpad\"),\n",
    "])"
   ]
  },
  {
   "cell_type": "code",
   "execution_count": 60,
   "id": "ae30d948-37cb-4056-a2b0-4e744cfb16b8",
   "metadata": {},
   "outputs": [],
   "source": [
    "#Bind the tool with the LLM\n",
    "from langchain.tools.render import format_tool_to_openai_function\n",
    "llm_with_tools = llm.bind(\n",
    "    functions=[format_tool_to_openai_function(t) for t in tools]\n",
    ")"
   ]
  },
  {
   "cell_type": "code",
   "execution_count": 61,
   "id": "da217691-0dea-4145-a92a-2287c729f1e1",
   "metadata": {},
   "outputs": [],
   "source": [
    "#Create the Agent\n",
    "\n",
    "from langchain.agents.format_scratchpad import format_to_openai_functions\n",
    "from langchain.agents.output_parsers import OpenAIFunctionsAgentOutputParser\n",
    "agent = {\n",
    "    \"input\": lambda x: x[\"input\"],\n",
    "    \"agent_scratchpad\": lambda x: format_to_openai_functions(x['intermediate_steps'])\n",
    "} | prompt | llm_with_tools | OpenAIFunctionsAgentOutputParser()"
   ]
  },
  {
   "cell_type": "code",
   "execution_count": 62,
   "id": "50ce8b28-9ad4-4ddf-bc6d-1af439d5483f",
   "metadata": {},
   "outputs": [],
   "source": [
    "#Create the agent_executor\n",
    "\n",
    "from langchain.agents import AgentExecutor\n",
    "agent_executor = AgentExecutor(agent=agent, tools=tools, verbose=True, return_intermediate_steps=True)"
   ]
  },
  {
   "cell_type": "code",
   "execution_count": 63,
   "id": "5dfa1aa8-c662-44ab-8501-baabfb1dc5d5",
   "metadata": {},
   "outputs": [
    {
     "name": "stdout",
     "output_type": "stream",
     "text": [
      "\n",
      "\n",
      "\u001b[1m> Entering new AgentExecutor chain...\u001b[0m\n",
      "\u001b[32;1m\u001b[1;3m\n",
      "Invoking: `best_offer_details` with `{'max_discount': 250, 'bank_name': 'HSBC', 'min_swipe': 1000}`\n",
      "responded: The best offer would be \"5% Instant Discount up to INR 250 on HSBC Cashback Card Credit Card Transactions. Minimum purchase value INR 1000\" as it is the only offer that is applicable for the given SKU price of INR 15999. All other offers require a minimum purchase value that is higher than the SKU price.\n",
      "\n",
      "Now, let's calculate the discount:\n",
      "\n",
      "5% of 15999 = 799.95. But the maximum discount is capped at INR 250. So, the discount that can be availed is INR 250.\n",
      "\n",
      "Let's use the best_offer_details function to get the details of the best offer.\n",
      "\n",
      "\u001b[0mDiscount% 25.0\n",
      "\u001b[36;1m\u001b[1;3mNone\u001b[0m\u001b[32;1m\u001b[1;3mThe best offer is a 5% Instant Discount up to INR 250 on HSBC Cashback Card Credit Card Transactions with a minimum purchase value of INR 1000.\u001b[0m\n",
      "\n",
      "\u001b[1m> Finished chain.\u001b[0m\n"
     ]
    }
   ],
   "source": [
    "response = agent_executor.invoke({\"input\": \"The Price of the SKU is 15999\\n\\nOffers:\\n\\n1. Flat INR 2100 Instant Discount on HDFC Bank Credit CardTxn. Minimum purchase value INR 17999\\n\\n2. Flat INR 2100 Instant Discount on ICICI Bank Credit Cards (excluding Amazon Pay ICICI Credit Card) Credit CardTxn. Minimum purchase value INR 17999\\n\\n3. Flat INR 2000 Instant Discount on HDFC Bank Debit Card EMI Txn. Minimum purchase value INR 19999\\n\\n4. 5% Instant Discount up to INR 250 on HSBC Cashback Card Credit Card Transactions. Minimum purchase value INR 1000\\n\\n5. Get 5% back with Amazon Pay ICICI Bank credit card for Prime members. 3% back for others. Not applicable on Amazon business transactions.\\n\\n6. ₹100 cashback & ₹500 welcome rewards on Amazon Pay Later.\\n\\nWhich is the best Offer?\"})"
   ]
  },
  {
   "cell_type": "code",
   "execution_count": 53,
   "id": "d5075acb-5fa2-42ab-996e-2316029f9ff0",
   "metadata": {},
   "outputs": [
    {
     "data": {
      "text/plain": [
       "{'max_discount': 799.95,\n",
       " 'bank_name': 'Amazon Pay ICICI Bank',\n",
       " 'min_swipe': 15999}"
      ]
     },
     "execution_count": 53,
     "metadata": {},
     "output_type": "execute_result"
    }
   ],
   "source": [
    "response['intermediate_steps'][0][0].tool_input"
   ]
  },
  {
   "cell_type": "code",
   "execution_count": 24,
   "id": "51c99f55-a273-4643-9d66-8162cb082898",
   "metadata": {},
   "outputs": [
    {
     "data": {
      "text/plain": [
       "{'input': 'The Price of the SKU is 15999\\n\\nOffers:\\n\\n1. Flat INR 2100 Instant Discount on HDFC Bank Credit CardTxn. Minimum purchase value INR 17999\\n\\n2. Flat INR 2100 Instant Discount on ICICI Bank Credit Cards (excluding Amazon Pay ICICI Credit Card) Credit CardTxn. Minimum purchase value INR 17999\\n\\n3. Flat INR 2000 Instant Discount on HDFC Bank Debit Card EMI Txn. Minimum purchase value INR 19999\\n\\n4. 5% Instant Discount up to INR 250 on HSBC Cashback Card Credit Card Transactions. Minimum purchase value INR 1000\\n\\n5. Get 5% back with Amazon Pay ICICI Bank credit card for Prime members. 3% back for others. Not applicable on Amazon business transactions.\\n\\n6. ₹100 cashback & ₹500 welcome rewards on Amazon Pay Later.\\n\\nWhich is the best Offer?',\n",
       " 'output': 'The best offer is a 5% Instant Discount up to INR 800 on HSBC Cashback Card Credit Card Transactions with a minimum purchase value of INR 1000.',\n",
       " 'intermediate_steps': [(AgentActionMessageLog(tool='offer_formatted_output', tool_input={'max_discount': 800, 'bank_name': 'HSBC Cashback Card', 'min_swipe': 1000}, log=\"\\nInvoking: `offer_formatted_output` with `{'max_discount': 800, 'bank_name': 'HSBC Cashback Card', 'min_swipe': 1000}`\\nresponded: Since the price of the SKU is 15999, offers 1, 2 and 3 are not applicable as they require a minimum purchase value of more than 15999. \\n\\nOffer 4 gives a 5% discount which amounts to 15999 * 5/100 = 799.95 INR.\\n\\nOffer 5 is not quantifiable as it depends on the membership status and is not applicable on Amazon business transactions.\\n\\nOffer 6 gives a cashback of 100 INR.\\n\\nSo, the best offer is Offer 4 from HSBC Cashback Card which gives a discount of approximately 800 INR. \\n\\nLet's use the function to get the formatted output.\\n\\n\", message_log=[AIMessage(content=\"Since the price of the SKU is 15999, offers 1, 2 and 3 are not applicable as they require a minimum purchase value of more than 15999. \\n\\nOffer 4 gives a 5% discount which amounts to 15999 * 5/100 = 799.95 INR.\\n\\nOffer 5 is not quantifiable as it depends on the membership status and is not applicable on Amazon business transactions.\\n\\nOffer 6 gives a cashback of 100 INR.\\n\\nSo, the best offer is Offer 4 from HSBC Cashback Card which gives a discount of approximately 800 INR. \\n\\nLet's use the function to get the formatted output.\", additional_kwargs={'function_call': {'name': 'offer_formatted_output', 'arguments': '{\\n  \"max_discount\": 800,\\n  \"bank_name\": \"HSBC Cashback Card\",\\n  \"min_swipe\": 1000\\n}'}}, example=False)]),\n",
       "   None)]}"
      ]
     },
     "execution_count": 24,
     "metadata": {},
     "output_type": "execute_result"
    }
   ],
   "source": [
    "response"
   ]
  },
  {
   "cell_type": "code",
   "execution_count": null,
   "id": "a122b4b6-9dfc-4247-b974-749a8f46d5dc",
   "metadata": {},
   "outputs": [],
   "source": []
  }
 ],
 "metadata": {
  "kernelspec": {
   "display_name": "Python 3 (ipykernel)",
   "language": "python",
   "name": "python3"
  },
  "language_info": {
   "codemirror_mode": {
    "name": "ipython",
    "version": 3
   },
   "file_extension": ".py",
   "mimetype": "text/x-python",
   "name": "python",
   "nbconvert_exporter": "python",
   "pygments_lexer": "ipython3",
   "version": "3.10.2"
  }
 },
 "nbformat": 4,
 "nbformat_minor": 5
}
