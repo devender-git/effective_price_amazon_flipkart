{
 "cells": [
  {
   "cell_type": "code",
   "execution_count": 1,
   "id": "0c5a5c19-ed4f-4172-9f4a-1045e26f2a6b",
   "metadata": {},
   "outputs": [],
   "source": [
    "import openai\n",
    "import pandas as pd\n",
    "import json\n",
    "import requests\n",
    "from tenacity import retry, wait_random_exponential, stop_after_attempt\n",
    "import re"
   ]
  },
  {
   "cell_type": "code",
   "execution_count": null,
   "id": "0698ed60-f8ff-47c7-86ea-543abefa2c85",
   "metadata": {},
   "outputs": [],
   "source": [
    "input_data = pd.read_excel('rpa pricing extraction.xlsx')"
   ]
  },
  {
   "cell_type": "code",
   "execution_count": null,
   "id": "8a98dedf-7532-4274-ae07-8aa5329af5be",
   "metadata": {},
   "outputs": [],
   "source": [
    "output_data = input_data.copy()"
   ]
  },
  {
   "cell_type": "code",
   "execution_count": null,
   "id": "21ee00e1-c9d9-4487-9528-0f7303afcdd7",
   "metadata": {},
   "outputs": [],
   "source": [
    "output_data[\"Max Discount\"]=None\n",
    "output_data[\"IBD Bank Name/UPI\"]=None\n",
    "output_data[\"Min Swipe\"]=None\n",
    "output_data[\"Bump up\"]=None\n",
    "output_data[\"VPC(Amazon)\"]=None\n",
    "output_data[\"SuperCoins(Flipkart)\"]=None\n",
    "output_data.drop('BUP', axis=1, inplace=True)\n",
    "output_data.drop('VPC', axis=1, inplace=True)\n",
    "output_data.drop('SuperCoins', axis=1, inplace=True)\n",
    "output_data"
   ]
  },
  {
   "cell_type": "code",
   "execution_count": null,
   "id": "d6e9df72-7675-44f0-a887-7e0aca832107",
   "metadata": {},
   "outputs": [],
   "source": [
    "def create_content(price, offers):\n",
    "    content=f\"The Price of the SKU is {price}\\n\\nOffers:\\n\\n{offers}\\n\\nWhich is the best Offer?\"\n",
    "    return content"
   ]
  },
  {
   "cell_type": "code",
   "execution_count": 2,
   "id": "64bd1526-a130-4959-b5d4-d407445877f5",
   "metadata": {},
   "outputs": [],
   "source": [
    "GPT_MODEL='gpt-3.5-turbo-1106'\n",
    "#GPT_MODEL='gpt-4-0613'"
   ]
  },
  {
   "cell_type": "code",
   "execution_count": 3,
   "id": "14b039a1-8aac-4a4d-b0c4-f38177305794",
   "metadata": {},
   "outputs": [],
   "source": [
    "@retry(wait=wait_random_exponential(multiplier=1, max=40), stop=stop_after_attempt(3))\n",
    "def chat_completion_request(messages, functions=None, function_call=None, model=GPT_MODEL):\n",
    "    headers = {\n",
    "        \"Content-Type\": \"application/json\",\n",
    "        \"Authorization\": \"Bearer \" + openai.api_key,\n",
    "    }\n",
    "    json_data = {\"model\": model, \"messages\": messages, \"response_format\":{ \"type\": \"json_object\" }}\n",
    "    if functions is not None:\n",
    "        json_data.update({\"functions\": functions})\n",
    "    if function_call is not None:\n",
    "        json_data.update({\"function_call\": function_call})\n",
    "    try:\n",
    "        response = requests.post(\n",
    "            \"https://api.openai.com/v1/chat/completions\",\n",
    "            headers=headers,\n",
    "            json=json_data,\n",
    "        )\n",
    "        return response\n",
    "    except Exception as e:\n",
    "        print(\"Unable to generate ChatCompletion response\")\n",
    "        print(f\"Exception: {e}\")\n",
    "        return e"
   ]
  },
  {
   "cell_type": "code",
   "execution_count": 17,
   "id": "5030dc22-7c5e-47ee-b6bc-b4760898b746",
   "metadata": {},
   "outputs": [],
   "source": [
    "def extract_discount_details(data):\n",
    "    try:\n",
    "        # Parse the JSON string in the 'arguments' field\n",
    "        arguments_json = json.loads(data['content'])\n",
    "        print(\"ARGUMENTS_JSON\", arguments_json)\n",
    "        data_list = list(arguments_json.items())\n",
    "\n",
    "        # Extract values\n",
    "        discount_bank = data_list[0][1]\n",
    "        discount_amount = data_list[1][1]\n",
    "        discount_minimum_purchase = data_list[2][1]\n",
    "\n",
    "        return discount_bank, discount_amount, discount_minimum_purchase\n",
    "\n",
    "    except (json.JSONDecodeError, ValueError) as e:\n",
    "        print(f\"Error extracting discount details: {e}\")\n",
    "        return None, None, None"
   ]
  },
  {
   "cell_type": "code",
   "execution_count": 18,
   "id": "68d3329f-63ac-4d28-8d65-47ed45413967",
   "metadata": {},
   "outputs": [],
   "source": [
    "def extract_bup_details(bup_details):\n",
    "    bup=0\n",
    "    bup = re.sub(r'[^\\d.]', '', bup_details)\n",
    "    return bup\n",
    "    "
   ]
  },
  {
   "cell_type": "code",
   "execution_count": 19,
   "id": "91a4b715-6ecc-4b1f-987d-d742a4d334ac",
   "metadata": {},
   "outputs": [],
   "source": [
    "def extract_vpc_details(vpc_details):\n",
    "    vpc=0\n",
    "    vpc = re.sub(r'[^\\d.]', '', vpc_details)\n",
    "    return vpc"
   ]
  },
  {
   "cell_type": "code",
   "execution_count": 20,
   "id": "31dae9ce-4ddb-48e8-bfb2-965514ecdc0b",
   "metadata": {},
   "outputs": [],
   "source": [
    "def extract_supercoins_details(supercoins_details):\n",
    "    supercoins=0\n",
    "    #supercoins = re.sub(r'[^\\d.]', '', supercoins_details)\n",
    "    supercoins=re.findall(r'\\d+', supercoins_details)[0] if re.findall(r'\\d+', supercoins_details) else None\n",
    "    return supercoins"
   ]
  },
  {
   "cell_type": "code",
   "execution_count": 21,
   "id": "bed62367-a822-4a62-9608-097cd2f76aa1",
   "metadata": {},
   "outputs": [],
   "source": [
    "#len(output_data)"
   ]
  },
  {
   "cell_type": "code",
   "execution_count": 22,
   "id": "14aa8220-54b4-4e53-9172-601a396a0beb",
   "metadata": {},
   "outputs": [],
   "source": [
    "messages = [\n",
    "    {\"role\": \"system\", \"content\": \"You are a helpful assistant designed to output JSON. You help in identifying the offer with maximum discount. If any offer have more than one discount % always take the higher one. Summarize the best offer at the end by clearly mentioning Maximum discount/cashback, Bank Name & minimum swipe amount on separate lines\"},\n",
    "    {\"role\": \"user\", \"content\": \"The Price of SKU is 17999\\n\\nOffers:\\n\\n1. Get 5% back with Amazon Pay ICICI Bank credit card for Prime members. 3% back for others. Not applicable on Amazon business transactions.\\n2. ₹100 cashback & ₹500 welcome rewards on Amazon Pay Later. Activate now. Pay next month at Zero interest or in EMIs! T&C apply.\\n3. Flat INR 500 Instant Discount on ICICI Bank Credit Cards (excluding Amazon Pay ICICI Credit Card) Credit Card Txn. Minimum purchase value INR 15999\\n4. Flat INR 750 Instant Discount on OneCard Credit Card Non EMI Txn. Minimum purchase value INR 15999\\n5. Flat ₹3,000 off on HDFC Bank Credit Card EMI Trxns on orders priced ₹50,000 and above\\n\\nWhich is the best offer?\"},\n",
    "    {\"role\": \"assistant\", \"content\": \"Assuming prime member from the first offer the maximum discount applicable is 5%, since 5% is greater than 3%. So the discount amount is 5% of price of sku, which is 17999. This equals 900. From the second offer the maximum discount is 100 cashback + 500 welcome rewards= 600. so the discount from this offer is 600. From the third offer since the purchase value 17999 is greater than Minimum purchase value of ₹15999, hence the discount amount is applicable & it is equal to ₹500. From the fourth offer the discount = ₹750 since the Minimum pucrhase value of ₹15999 is less than than ₹17999. From the fifth offer the discount is not applicable since sku price (17999) is less than 50000. Comparing the discounts from all offers the maximum discount is ₹900. So maximum discount = ₹900; Bank Name = Amazon Pay ICICI Bank, Minimum Swipe for availing maximum discount = 0\"},\n",
    "    {\"role\": \"user\", \"content\": \"The Price of the SKU is 18999\\n\\nOffers:\\n\\n1. Flat INR 2000 Instant Discount on HDFC Bank Credit CardTxn. Minimum purchase value INR 17999\\n2. Flat INR 2100 Instant Discount on ICICI Bank Credit Cards (excluding Amazon Pay ICICI Credit Card) Credit CardTxn. Minimum purchase value INR 17999\\n3. Flat INR 2000 Instant Discount on HDFC Bank Debit Card EMI Txn. Minimum purchase value INR 19999\\n4. 5% Instant Discount up to INR 250 on HSBC Cashback Card Credit Card Transactions. Minimum purchase value INR 1000\\n5. Get 5% back with Amazon Pay ICICI Bank credit card for Prime members. 3% back for others. Not applicable on Amazon business transactions.\\n6. ₹100 cashback & ₹2150 welcome rewards on Amazon Pay Later.\\n\\nWhich is the best Offer\"},\n",
    "    {\"role\": \"assistant\", \"content\": \"From the first offer since the price value of 18999 is greater than 17999 the discount amount is applicable & it is equal to 2000 . From the second offer since the price value of 18999 is greater than 17999 the discount amount is 2100. From the third offer since the price value of 18999 is less than minimum purchase value of 19999, the discount value is not applicable. From the fourth offer, the discount amount is 5% of the price of the SKU, up to a maximum of 250. Since the price of the SKU is 18999, the discount amount will be 250. Assuming prime member, from the fifth offer, the maximum discount applicable is 5%, since 5% is greater than 3%. So the discount amount is 5% of the price of the SKU, which is 18999. This equals 950.From the sixth offer, the discount amount is 100 cashback + 2150 welcome rewards = 2250. Comparing the discounts from the offers, the maximum discount is 2250. So, \\nthe maximum discount applicable = 2250\\nBank Name = Amazon Pay Later\\nMinimum Swipe for availing maximum Discount = 0\"},\n",
    "    {\"role\": \"user\", \"content\": \"The Price of the SKU is 18999\\n\\nOffers:\\n\\n1. Flat INR 2000 Instant Discount on HDFC Bank Credit CardTxn. Minimum purchase value INR 17999\\n2. Flat INR 2100 Instant Discount on ICICI Bank Credit Cards (excluding Amazon Pay ICICI Credit Card) Credit CardTxn. Minimum purchase value INR 17999\\n3. Flat INR 2000 Instant Discount on HDFC Bank Debit Card EMI Txn. Minimum purchase value INR 19999\\n4. 5% Instant Discount up to INR 250 on HSBC Cashback Card Credit Card Transactions. Minimum purchase value INR 1000\\n5. Get 5% back with Amazon Pay ICICI Bank credit card for Prime members. 3% back for others. Not applicable on Amazon business transactions.\\n6. ₹100 cashback & ₹500 welcome rewards on Amazon Pay Later.\\n\\nWhich is the best Offer?\"},\n",
    "]"
   ]
  },
  {
   "cell_type": "code",
   "execution_count": 23,
   "id": "07898b22-6664-4d41-ac38-27a620005199",
   "metadata": {},
   "outputs": [
    {
     "name": "stdout",
     "output_type": "stream",
     "text": [
      "{'role': 'assistant', 'content': '{\\n  \"Maximum discount/cashback\": \"₹2100\",\\n  \"Bank Name\": \"ICICI Bank\",\\n  \"Minimum swipe amount\": \"₹17999\"\\n}'}\n"
     ]
    }
   ],
   "source": [
    "output=chat_completion_request(messages)\n",
    "print(output.json()['choices'][0]['message'])"
   ]
  },
  {
   "cell_type": "code",
   "execution_count": 24,
   "id": "04e52f74-bf94-4c8d-8d79-477d91b2435c",
   "metadata": {},
   "outputs": [
    {
     "name": "stdout",
     "output_type": "stream",
     "text": [
      "stop\n"
     ]
    }
   ],
   "source": [
    "response = output.json()['choices'][0]['message']\n",
    "finish_reason = output.json()['choices'][0]['finish_reason']\n",
    "print(finish_reason)"
   ]
  },
  {
   "cell_type": "code",
   "execution_count": 25,
   "id": "0b0caa21-f715-4002-b9c7-2109d28f25b5",
   "metadata": {},
   "outputs": [
    {
     "name": "stdout",
     "output_type": "stream",
     "text": [
      "ARGUMENTS_JSON {'Maximum discount/cashback': '₹2100', 'Bank Name': 'ICICI Bank', 'Minimum swipe amount': '₹17999'}\n",
      "\n"
     ]
    }
   ],
   "source": [
    "bank_name = \"\"\n",
    "max_discount=0\n",
    "min_swipe=0\n",
    "\n",
    "if finish_reason=='stop':\n",
    "    bank_name, max_discount, min_swipe = extract_discount_details(response)\n",
    "    print(bank_name)"
   ]
  },
  {
   "cell_type": "code",
   "execution_count": 15,
   "id": "b337d30d-ebc7-4cce-b6d0-3d1f622b3379",
   "metadata": {},
   "outputs": [
    {
     "data": {
      "text/plain": [
       "''"
      ]
     },
     "execution_count": 15,
     "metadata": {},
     "output_type": "execute_result"
    }
   ],
   "source": [
    "bank_name"
   ]
  },
  {
   "cell_type": "code",
   "execution_count": null,
   "id": "b6132c09-63ff-43d2-ad70-d46350c3bb2e",
   "metadata": {},
   "outputs": [],
   "source": [
    "for i in range(len(output_data)):\n",
    "    print(\"value of i\", i)\n",
    "    sku_price = output_data['Current Price'][i]\n",
    "    sku_offers = output_data['Bank Offers'][i]\n",
    "    content = create_content(sku_price, sku_offers)\n",
    "    print(content)\n",
    "    content\n",
    "    messages = [\n",
    "    {\"role\": \"system\", \"content\": \"You are a helpful assistant designed to output JSON. You help in identifying the offer with maximum discount. If any offer have more than one discount % always take the higher one. Summarize the best offer at the end by clearly mentioning Maximum discount/cashback, Bank Name & minimum swipe amount on separate lines\"},\n",
    "    {\"role\": \"user\", \"content\": \"The Price of SKU is 17999\\n\\nOffers:\\n\\n1. Get 5% back with Amazon Pay ICICI Bank credit card for Prime members. 3% back for others. Not applicable on Amazon business transactions.\\n2. ₹100 cashback & ₹500 welcome rewards on Amazon Pay Later. Activate now. Pay next month at Zero interest or in EMIs! T&C apply.\\n3. Flat INR 500 Instant Discount on ICICI Bank Credit Cards (excluding Amazon Pay ICICI Credit Card) Credit Card Txn. Minimum purchase value INR 15999\\n4. Flat INR 750 Instant Discount on OneCard Credit Card Non EMI Txn. Minimum purchase value INR 15999\\n5. Flat ₹3,000 off on HDFC Bank Credit Card EMI Trxns on orders priced ₹50,000 and above\\n\\nWhich is the best offer?\"},\n",
    "    {\"role\": \"assistant\", \"content\": \"Assuming prime member from the first offer the maximum discount applicable is 5%, since 5% is greater than 3%. So the discount amount is 5% of price of sku, which is 17999. This equals 900. From the second offer the maximum discount is 100 cashback + 500 welcome rewards= 600. so the discount from this offer is 600. From the third offer since the purchase value 17999 is greater than Minimum purchase value of ₹15999, hence the discount amount is applicable & it is equal to ₹500. From the fourth offer the discount = ₹750 since the Minimum pucrhase value of ₹15999 is less than than ₹17999. From the fifth offer the discount is not applicable since sku price (17999) is less than 50000. Comparing the discounts from all offers the maximum discount is ₹900. So maximum discount = ₹900; Bank Name = Amazon Pay ICICI Bank, Minimum Swipe for availing maximum discount = 0\"},\n",
    "    {\"role\": \"user\", \"content\": \"The Price of the SKU is 18999\\n\\nOffers:\\n\\n1. Flat INR 2000 Instant Discount on HDFC Bank Credit CardTxn. Minimum purchase value INR 17999\\n2. Flat INR 2100 Instant Discount on ICICI Bank Credit Cards (excluding Amazon Pay ICICI Credit Card) Credit CardTxn. Minimum purchase value INR 17999\\n3. Flat INR 2000 Instant Discount on HDFC Bank Debit Card EMI Txn. Minimum purchase value INR 19999\\n4. 5% Instant Discount up to INR 250 on HSBC Cashback Card Credit Card Transactions. Minimum purchase value INR 1000\\n5. Get 5% back with Amazon Pay ICICI Bank credit card for Prime members. 3% back for others. Not applicable on Amazon business transactions.\\n6. ₹100 cashback & ₹2150 welcome rewards on Amazon Pay Later.\\n\\nWhich is the best Offer\"},\n",
    "    {\"role\": \"assistant\", \"content\": \"From the first offer since the price value of 18999 is greater than 17999 the discount amount is applicable & it is equal to 2000 . From the second offer since the price value of 18999 is greater than 17999 the discount amount is 2100. From the third offer since the price value of 18999 is less than minimum purchase value of 19999, the discount value is not applicable. From the fourth offer, the discount amount is 5% of the price of the SKU, up to a maximum of 250. Since the price of the SKU is 18999, the discount amount will be 250. Assuming prime member, from the fifth offer, the maximum discount applicable is 5%, since 5% is greater than 3%. So the discount amount is 5% of the price of the SKU, which is 18999. This equals 950.From the sixth offer, the discount amount is 100 cashback + 2150 welcome rewards = 2250. Comparing the discounts from the offers, the maximum discount is 2250. So, \\nthe maximum discount applicable = 2250\\nBank Name = Amazon Pay Later\\nMinimum Swipe for availing maximum Discount = 0\"},\n",
    "    {\"role\": \"user\", \"content\": \"The Price of the SKU is 18999\\n\\nOffers:\\n\\n1. Flat INR 2000 Instant Discount on HDFC Bank Credit CardTxn. Minimum purchase value INR 17999\\n2. Flat INR 2100 Instant Discount on ICICI Bank Credit Cards (excluding Amazon Pay ICICI Credit Card) Credit CardTxn. Minimum purchase value INR 17999\\n3. Flat INR 2000 Instant Discount on HDFC Bank Debit Card EMI Txn. Minimum purchase value INR 19999\\n4. 5% Instant Discount up to INR 250 on HSBC Cashback Card Credit Card Transactions. Minimum purchase value INR 1000\\n5. Get 5% back with Amazon Pay ICICI Bank credit card for Prime members. 3% back for others. Not applicable on Amazon business transactions.\\n6. ₹100 cashback & ₹500 welcome rewards on Amazon Pay Later.\\n\\nWhich is the best Offer?\"},\n",
    "    {\"role\": \"assistant\", \"content\": \"From the first offer since the price value of 18999 is greater than 17999 the discount amount is applicable & it is equal to 2000 . From the second offer since the price value of 18999 is greater than 17999 the discount amount is applicable & it is equal to 2100. From the third offer since the price value of 18999 is less than minimum purchase value of 19999, the discount value is not applicable. From the fourth offer, the discount amount is 5% of the price of the SKU, up to a maximum of 250. Since the price of the SKU is 18999, the discount amount will be 250. Assuming prime member, from the fifth offer, the maximum discount applicable is 5%, since 5% is greater than 3%. So the discount amount is 5% of the price of the SKU, which is 18999. This equals 950.From the sixth offer, the discount amount is 100 cashback + 500 welcome rewards = 600. Comparing the discounts from the offers, the maximum discount is 2000. So, \\nthe maximum discount applicable = 2000\\nBank Name = HDFC Bank Credit Card\\nMinimum Swipe for availing maximum Discount = 17999\"},\n",
    "    {\"role\": \"user\", \"content\": content}\n",
    "    ]\n",
    "    output=chat_completion_request(messages)\n",
    "    print(output.json()['choices'][0]['message'])\n",
    "    response = output.json()['choices'][0]['message']\n",
    "    finish_reason = output.json()['choices'][0]['finish_reason']\n",
    "    bank_name = \"\"\n",
    "    max_discount=0\n",
    "    min_swipe=0\n",
    "    print( \"FINISH REASON:\", finish_reason)\n",
    "    if finish_reason=='stop':\n",
    "        bank_name, max_discount, min_swipe = extract_discount_details(response)\n",
    "    output_data[\"Max Discount\"][i] = max_discount\n",
    "    output_data['IBD Bank Name/UPI'][i] = bank_name\n",
    "    output_data['Min Swipe'][i]= min_swipe\n",
    "\n",
    "    if input_data[\"BUP\"][i] != None and pd.isna(input_data[\"BUP\"][i])==False:\n",
    "        bup= extract_bup_details(input_data[\"BUP\"][i])\n",
    "        #print(bup)\n",
    "        output_data['Bump up'][i]=bup\n",
    "\n",
    "    if input_data[\"VPC\"][i] != None and pd.isna(input_data[\"VPC\"][i])==False:\n",
    "        #print(\"VPC value from input file\", input_data[\"VPC\"][i])\n",
    "        vpc= extract_vpc_details(input_data[\"VPC\"][i])\n",
    "        output_data['VPC(Amazon)'][i]=vpc\n",
    "\n",
    "    if input_data[\"SuperCoins\"][i] != None and pd.isna(input_data[\"SuperCoins\"][i])==False:\n",
    "        #print('supercoins', output_data[\"SuperCoins(Flipkart)\"][i])\n",
    "        supercoins= extract_supercoins_details(input_data[\"SuperCoins\"][i])\n",
    "        output_data['SuperCoins(Flipkart)'][i]=supercoins\n",
    "    output_data.to_excel('output_data.xlsx')\n",
    "\n"
   ]
  },
  {
   "cell_type": "code",
   "execution_count": null,
   "id": "f1bdefd7-f2e9-4572-8966-5542b12b9248",
   "metadata": {},
   "outputs": [],
   "source": []
  },
  {
   "cell_type": "code",
   "execution_count": null,
   "id": "372ae3c0-cf0a-47d4-9103-9a3b7c2381e5",
   "metadata": {},
   "outputs": [],
   "source": []
  }
 ],
 "metadata": {
  "kernelspec": {
   "display_name": "Python 3 (ipykernel)",
   "language": "python",
   "name": "python3"
  },
  "language_info": {
   "codemirror_mode": {
    "name": "ipython",
    "version": 3
   },
   "file_extension": ".py",
   "mimetype": "text/x-python",
   "name": "python",
   "nbconvert_exporter": "python",
   "pygments_lexer": "ipython3",
   "version": "3.10.2"
  }
 },
 "nbformat": 4,
 "nbformat_minor": 5
}
