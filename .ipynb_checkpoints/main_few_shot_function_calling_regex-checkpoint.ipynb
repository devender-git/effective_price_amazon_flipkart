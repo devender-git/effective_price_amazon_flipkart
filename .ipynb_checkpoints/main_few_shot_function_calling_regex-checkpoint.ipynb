{
 "cells": [
  {
   "cell_type": "code",
   "execution_count": 31,
   "id": "0c5a5c19-ed4f-4172-9f4a-1045e26f2a6b",
   "metadata": {},
   "outputs": [],
   "source": [
    "import openai\n",
    "import pandas as pd\n",
    "import json\n",
    "import requests\n",
    "from tenacity import retry, wait_random_exponential, stop_after_attempt\n",
    "import re"
   ]
  },
  {
   "cell_type": "code",
   "execution_count": 32,
   "id": "0698ed60-f8ff-47c7-86ea-543abefa2c85",
   "metadata": {},
   "outputs": [],
   "source": [
    "input_data = pd.read_excel('RPA Pricing Extraction.xlsx')"
   ]
  },
  {
   "cell_type": "code",
   "execution_count": 33,
   "id": "8a98dedf-7532-4274-ae07-8aa5329af5be",
   "metadata": {},
   "outputs": [],
   "source": [
    "output_data = input_data.copy()"
   ]
  },
  {
   "cell_type": "code",
   "execution_count": 34,
   "id": "21ee00e1-c9d9-4487-9528-0f7303afcdd7",
   "metadata": {},
   "outputs": [
    {
     "data": {
      "text/html": [
       "<div>\n",
       "<style scoped>\n",
       "    .dataframe tbody tr th:only-of-type {\n",
       "        vertical-align: middle;\n",
       "    }\n",
       "\n",
       "    .dataframe tbody tr th {\n",
       "        vertical-align: top;\n",
       "    }\n",
       "\n",
       "    .dataframe thead th {\n",
       "        text-align: right;\n",
       "    }\n",
       "</style>\n",
       "<table border=\"1\" class=\"dataframe\">\n",
       "  <thead>\n",
       "    <tr style=\"text-align: right;\">\n",
       "      <th></th>\n",
       "      <th>Market Place</th>\n",
       "      <th>FSN /ASIN</th>\n",
       "      <th>Description</th>\n",
       "      <th>MRP</th>\n",
       "      <th>Current Price</th>\n",
       "      <th>Bank Offers</th>\n",
       "      <th>URL</th>\n",
       "      <th>Payload</th>\n",
       "      <th>API Status</th>\n",
       "      <th>Max Discount</th>\n",
       "      <th>IBD Bank Name/UPI</th>\n",
       "      <th>Min Swipe</th>\n",
       "      <th>Bump up</th>\n",
       "      <th>VPC(Amazon)</th>\n",
       "      <th>SuperCoins(Flipkart)</th>\n",
       "    </tr>\n",
       "  </thead>\n",
       "  <tbody>\n",
       "    <tr>\n",
       "      <th>0</th>\n",
       "      <td>Amazon</td>\n",
       "      <td>B0B52219KP</td>\n",
       "      <td>Mi Xiaomi Robot Vacuum Cleaner 2Pro, 5200 Mah,...</td>\n",
       "      <td>0</td>\n",
       "      <td>29,999</td>\n",
       "      <td>1.Additional INR 500 Instant Discount on HDFC ...</td>\n",
       "      <td>https://www.amazon.in/dp/B0B52219KP</td>\n",
       "      <td>NaN</td>\n",
       "      <td>NaN</td>\n",
       "      <td>None</td>\n",
       "      <td>None</td>\n",
       "      <td>None</td>\n",
       "      <td>None</td>\n",
       "      <td>None</td>\n",
       "      <td>None</td>\n",
       "    </tr>\n",
       "    <tr>\n",
       "      <th>1</th>\n",
       "      <td>Amazon</td>\n",
       "      <td>B0C1NYBYNQ</td>\n",
       "      <td>Mi Xiaomi Robot Vacuum-Mop 2i, 2200 Pa Powerfu...</td>\n",
       "      <td>0</td>\n",
       "      <td>18,999</td>\n",
       "      <td>1.10% Instant Discount up to INR 1500 on HDFC ...</td>\n",
       "      <td>https://www.amazon.in/dp/B0C1NYBYNQ</td>\n",
       "      <td>NaN</td>\n",
       "      <td>NaN</td>\n",
       "      <td>None</td>\n",
       "      <td>None</td>\n",
       "      <td>None</td>\n",
       "      <td>None</td>\n",
       "      <td>None</td>\n",
       "      <td>None</td>\n",
       "    </tr>\n",
       "    <tr>\n",
       "      <th>2</th>\n",
       "      <td>Amazon</td>\n",
       "      <td>B0B19VJXQZ</td>\n",
       "      <td>ECOVACS Deebot N8 2-In-1 Robotic Vacuum Cleane...</td>\n",
       "      <td>0</td>\n",
       "      <td>24,900</td>\n",
       "      <td>1.10% Instant Discount up to INR 1500 on HDFC ...</td>\n",
       "      <td>https://www.amazon.in/dp/B0B19VJXQZ</td>\n",
       "      <td>NaN</td>\n",
       "      <td>NaN</td>\n",
       "      <td>None</td>\n",
       "      <td>None</td>\n",
       "      <td>None</td>\n",
       "      <td>None</td>\n",
       "      <td>None</td>\n",
       "      <td>None</td>\n",
       "    </tr>\n",
       "    <tr>\n",
       "      <th>3</th>\n",
       "      <td>Amazon</td>\n",
       "      <td>B0CB5WQ9MM</td>\n",
       "      <td>ECOVACS Deebot N10 2-In-1 Robot Vacuum Cleaner...</td>\n",
       "      <td>0</td>\n",
       "      <td>34,900</td>\n",
       "      <td>1.Additional INR 500 Instant Discount on HDFC ...</td>\n",
       "      <td>https://www.amazon.in/dp/B0CB5WQ9MM</td>\n",
       "      <td>NaN</td>\n",
       "      <td>NaN</td>\n",
       "      <td>None</td>\n",
       "      <td>None</td>\n",
       "      <td>None</td>\n",
       "      <td>None</td>\n",
       "      <td>None</td>\n",
       "      <td>None</td>\n",
       "    </tr>\n",
       "    <tr>\n",
       "      <th>4</th>\n",
       "      <td>Amazon</td>\n",
       "      <td>B0B1B3T96K</td>\n",
       "      <td>ECOVACS Deebot N10 2-In-1 Robot Vacuum Cleaner...</td>\n",
       "      <td>0</td>\n",
       "      <td>34,900</td>\n",
       "      <td>1.Additional INR 500 Instant Discount on HDFC ...</td>\n",
       "      <td>https://www.amazon.in/dp/B0B1B3T96K</td>\n",
       "      <td>NaN</td>\n",
       "      <td>NaN</td>\n",
       "      <td>None</td>\n",
       "      <td>None</td>\n",
       "      <td>None</td>\n",
       "      <td>None</td>\n",
       "      <td>None</td>\n",
       "      <td>None</td>\n",
       "    </tr>\n",
       "    <tr>\n",
       "      <th>...</th>\n",
       "      <td>...</td>\n",
       "      <td>...</td>\n",
       "      <td>...</td>\n",
       "      <td>...</td>\n",
       "      <td>...</td>\n",
       "      <td>...</td>\n",
       "      <td>...</td>\n",
       "      <td>...</td>\n",
       "      <td>...</td>\n",
       "      <td>...</td>\n",
       "      <td>...</td>\n",
       "      <td>...</td>\n",
       "      <td>...</td>\n",
       "      <td>...</td>\n",
       "      <td>...</td>\n",
       "    </tr>\n",
       "    <tr>\n",
       "      <th>305</th>\n",
       "      <td>Amazon</td>\n",
       "      <td>B095JPKPH3</td>\n",
       "      <td>OnePlus 163.8 cm (65 inches) U Series 4K LED S...</td>\n",
       "      <td>0</td>\n",
       "      <td>61,999</td>\n",
       "      <td>1.Flat INR 1750 Instant Discount on OneCard Cr...</td>\n",
       "      <td>https://www.amazon.in/dp/B095JPKPH3</td>\n",
       "      <td>NaN</td>\n",
       "      <td>NaN</td>\n",
       "      <td>None</td>\n",
       "      <td>None</td>\n",
       "      <td>None</td>\n",
       "      <td>None</td>\n",
       "      <td>None</td>\n",
       "      <td>None</td>\n",
       "    </tr>\n",
       "    <tr>\n",
       "      <th>306</th>\n",
       "      <td>Amazon</td>\n",
       "      <td>B0C1GX9FWW</td>\n",
       "      <td>NaN</td>\n",
       "      <td>0</td>\n",
       "      <td>0</td>\n",
       "      <td>NaN</td>\n",
       "      <td>https://www.amazon.in/dp/B0C1GX9FWW</td>\n",
       "      <td>NaN</td>\n",
       "      <td>NaN</td>\n",
       "      <td>None</td>\n",
       "      <td>None</td>\n",
       "      <td>None</td>\n",
       "      <td>None</td>\n",
       "      <td>None</td>\n",
       "      <td>None</td>\n",
       "    </tr>\n",
       "    <tr>\n",
       "      <th>307</th>\n",
       "      <td>Amazon</td>\n",
       "      <td>B09WN3SRC7</td>\n",
       "      <td>Sony Bravia 164 cm (65 inches) 4K Ultra HD Sma...</td>\n",
       "      <td>0</td>\n",
       "      <td>72,990</td>\n",
       "      <td>1.Flat INR 1500 Instant Discount on HDFC Bank ...</td>\n",
       "      <td>https://www.amazon.in/dp/B09WN3SRC7</td>\n",
       "      <td>NaN</td>\n",
       "      <td>NaN</td>\n",
       "      <td>None</td>\n",
       "      <td>None</td>\n",
       "      <td>None</td>\n",
       "      <td>None</td>\n",
       "      <td>None</td>\n",
       "      <td>None</td>\n",
       "    </tr>\n",
       "    <tr>\n",
       "      <th>308</th>\n",
       "      <td>Amazon</td>\n",
       "      <td>B093LMH4N6</td>\n",
       "      <td>Mi 138.8 cm (55 inches) Q1 Series 4K Smart QLE...</td>\n",
       "      <td>0</td>\n",
       "      <td>59,999</td>\n",
       "      <td>1.Flat INR 1750 Instant Discount on OneCard Cr...</td>\n",
       "      <td>https://www.amazon.in/dp/B093LMH4N6</td>\n",
       "      <td>NaN</td>\n",
       "      <td>NaN</td>\n",
       "      <td>None</td>\n",
       "      <td>None</td>\n",
       "      <td>None</td>\n",
       "      <td>None</td>\n",
       "      <td>None</td>\n",
       "      <td>None</td>\n",
       "    </tr>\n",
       "    <tr>\n",
       "      <th>309</th>\n",
       "      <td>Amazon</td>\n",
       "      <td>B09XBFSB4Q</td>\n",
       "      <td>Xiaomi 138.8 cm (55 inches) 4K Ultra HD Smart ...</td>\n",
       "      <td>0</td>\n",
       "      <td>99,999</td>\n",
       "      <td>1.Flat INR 1750 Instant Discount on OneCard Cr...</td>\n",
       "      <td>https://www.amazon.in/dp/B09XBFSB4Q</td>\n",
       "      <td>NaN</td>\n",
       "      <td>NaN</td>\n",
       "      <td>None</td>\n",
       "      <td>None</td>\n",
       "      <td>None</td>\n",
       "      <td>None</td>\n",
       "      <td>None</td>\n",
       "      <td>None</td>\n",
       "    </tr>\n",
       "  </tbody>\n",
       "</table>\n",
       "<p>310 rows × 15 columns</p>\n",
       "</div>"
      ],
      "text/plain": [
       "    Market Place   FSN /ASIN  \\\n",
       "0         Amazon  B0B52219KP   \n",
       "1         Amazon  B0C1NYBYNQ   \n",
       "2         Amazon  B0B19VJXQZ   \n",
       "3         Amazon  B0CB5WQ9MM   \n",
       "4         Amazon  B0B1B3T96K   \n",
       "..           ...         ...   \n",
       "305       Amazon  B095JPKPH3   \n",
       "306       Amazon  B0C1GX9FWW   \n",
       "307       Amazon  B09WN3SRC7   \n",
       "308       Amazon  B093LMH4N6   \n",
       "309       Amazon  B09XBFSB4Q   \n",
       "\n",
       "                                           Description MRP Current Price  \\\n",
       "0    Mi Xiaomi Robot Vacuum Cleaner 2Pro, 5200 Mah,...   0        29,999   \n",
       "1    Mi Xiaomi Robot Vacuum-Mop 2i, 2200 Pa Powerfu...   0        18,999   \n",
       "2    ECOVACS Deebot N8 2-In-1 Robotic Vacuum Cleane...   0        24,900   \n",
       "3    ECOVACS Deebot N10 2-In-1 Robot Vacuum Cleaner...   0        34,900   \n",
       "4    ECOVACS Deebot N10 2-In-1 Robot Vacuum Cleaner...   0        34,900   \n",
       "..                                                 ...  ..           ...   \n",
       "305  OnePlus 163.8 cm (65 inches) U Series 4K LED S...   0        61,999   \n",
       "306                                                NaN   0             0   \n",
       "307  Sony Bravia 164 cm (65 inches) 4K Ultra HD Sma...   0        72,990   \n",
       "308  Mi 138.8 cm (55 inches) Q1 Series 4K Smart QLE...   0        59,999   \n",
       "309  Xiaomi 138.8 cm (55 inches) 4K Ultra HD Smart ...   0        99,999   \n",
       "\n",
       "                                           Bank Offers  \\\n",
       "0    1.Additional INR 500 Instant Discount on HDFC ...   \n",
       "1    1.10% Instant Discount up to INR 1500 on HDFC ...   \n",
       "2    1.10% Instant Discount up to INR 1500 on HDFC ...   \n",
       "3    1.Additional INR 500 Instant Discount on HDFC ...   \n",
       "4    1.Additional INR 500 Instant Discount on HDFC ...   \n",
       "..                                                 ...   \n",
       "305  1.Flat INR 1750 Instant Discount on OneCard Cr...   \n",
       "306                                                NaN   \n",
       "307  1.Flat INR 1500 Instant Discount on HDFC Bank ...   \n",
       "308  1.Flat INR 1750 Instant Discount on OneCard Cr...   \n",
       "309  1.Flat INR 1750 Instant Discount on OneCard Cr...   \n",
       "\n",
       "                                     URL  Payload  API Status Max Discount  \\\n",
       "0    https://www.amazon.in/dp/B0B52219KP      NaN         NaN         None   \n",
       "1    https://www.amazon.in/dp/B0C1NYBYNQ      NaN         NaN         None   \n",
       "2    https://www.amazon.in/dp/B0B19VJXQZ      NaN         NaN         None   \n",
       "3    https://www.amazon.in/dp/B0CB5WQ9MM      NaN         NaN         None   \n",
       "4    https://www.amazon.in/dp/B0B1B3T96K      NaN         NaN         None   \n",
       "..                                   ...      ...         ...          ...   \n",
       "305  https://www.amazon.in/dp/B095JPKPH3      NaN         NaN         None   \n",
       "306  https://www.amazon.in/dp/B0C1GX9FWW      NaN         NaN         None   \n",
       "307  https://www.amazon.in/dp/B09WN3SRC7      NaN         NaN         None   \n",
       "308  https://www.amazon.in/dp/B093LMH4N6      NaN         NaN         None   \n",
       "309  https://www.amazon.in/dp/B09XBFSB4Q      NaN         NaN         None   \n",
       "\n",
       "    IBD Bank Name/UPI Min Swipe Bump up VPC(Amazon) SuperCoins(Flipkart)  \n",
       "0                None      None    None        None                 None  \n",
       "1                None      None    None        None                 None  \n",
       "2                None      None    None        None                 None  \n",
       "3                None      None    None        None                 None  \n",
       "4                None      None    None        None                 None  \n",
       "..                ...       ...     ...         ...                  ...  \n",
       "305              None      None    None        None                 None  \n",
       "306              None      None    None        None                 None  \n",
       "307              None      None    None        None                 None  \n",
       "308              None      None    None        None                 None  \n",
       "309              None      None    None        None                 None  \n",
       "\n",
       "[310 rows x 15 columns]"
      ]
     },
     "execution_count": 34,
     "metadata": {},
     "output_type": "execute_result"
    }
   ],
   "source": [
    "output_data[\"Max Discount\"]=None\n",
    "output_data[\"IBD Bank Name/UPI\"]=None\n",
    "output_data[\"Min Swipe\"]=None\n",
    "output_data[\"Bump up\"]=None\n",
    "output_data[\"VPC(Amazon)\"]=None\n",
    "output_data[\"SuperCoins(Flipkart)\"]=None\n",
    "output_data.drop('BUP', axis=1, inplace=True)\n",
    "output_data.drop('VPC', axis=1, inplace=True)\n",
    "output_data.drop('SuperCoins', axis=1, inplace=True)\n",
    "output_data"
   ]
  },
  {
   "cell_type": "code",
   "execution_count": 35,
   "id": "d6e9df72-7675-44f0-a887-7e0aca832107",
   "metadata": {},
   "outputs": [],
   "source": [
    "def create_content(price, offers):\n",
    "    content=f\"The Price of the SKU is {price}\\n\\nOffers:\\n\\n{offers}\\n\\nWhich is the best Offer?\"\n",
    "    return content"
   ]
  },
  {
   "cell_type": "code",
   "execution_count": 36,
   "id": "64bd1526-a130-4959-b5d4-d407445877f5",
   "metadata": {},
   "outputs": [],
   "source": [
    "GPT_MODEL= 'gpt-4-0613'"
   ]
  },
  {
   "cell_type": "code",
   "execution_count": 37,
   "id": "afa69b02-dde2-4906-99ca-b4fe63816449",
   "metadata": {},
   "outputs": [],
   "source": [
    "@retry(wait=wait_random_exponential(multiplier=1, max=40), stop=stop_after_attempt(3))\n",
    "def chat_completion_request(messages, tools=None, tool_choice=None, model=GPT_MODEL):\n",
    "    headers = {\n",
    "        \"Content-Type\": \"application/json\",\n",
    "        \"Authorization\": \"Bearer \" + openai.api_key,\n",
    "    }\n",
    "    json_data = {\"model\": model, \"messages\": messages}\n",
    "    if tools is not None:\n",
    "        json_data.update({\"tools\": tools})\n",
    "    if tool_choice is not None:\n",
    "        json_data.update({\"tool_choice\": tool_choice})\n",
    "    try:\n",
    "        response = requests.post(\n",
    "            \"https://api.openai.com/v1/chat/completions\",\n",
    "            headers=headers,\n",
    "            json=json_data,\n",
    "        )\n",
    "        return response\n",
    "    except Exception as e:\n",
    "        print(\"Unable to generate ChatCompletion response\")\n",
    "        print(f\"Exception: {e}\")\n",
    "        return e"
   ]
  },
  {
   "cell_type": "code",
   "execution_count": 38,
   "id": "0a3e58cc-d36a-485d-a3f7-ac4ac45651e1",
   "metadata": {},
   "outputs": [],
   "source": [
    "tools = [\n",
    "    {\n",
    "        \"type\": \"function\",\n",
    "        \"function\": {\n",
    "            \"name\": \"offer_formatted_output\",\n",
    "            \"description\": \"Retrieve offer details including discount amount, bank name, and minimum purchase value\",\n",
    "            \"parameters\": {\n",
    "                \"type\": \"object\",\n",
    "                \"properties\": {\n",
    "                    \"discount_bank\": {\n",
    "                        \"type\": \"string\",\n",
    "                        \"description\": \"Bank providing offer\",\n",
    "                    },\n",
    "                    \"discount_amount\": {\n",
    "                        \"type\": \"integer\",\n",
    "                        \"description\": \"An offer's discount amount (example: 2000, 500)\",\n",
    "                    },\n",
    "                    \"discount_minimum_purchase\": {\n",
    "                        \"type\": \"integer\",\n",
    "                        \"description\": \"minimum purchase/swipe required to obtain discount offer\",\n",
    "                    },\n",
    "                },\n",
    "                \"required\": [\"discount_amount\"]\n",
    "            },\n",
    "        }\n",
    "    }\n",
    "]"
   ]
  },
  {
   "cell_type": "code",
   "execution_count": 39,
   "id": "6ec5116d-d123-44b0-ad84-1e78122335dd",
   "metadata": {},
   "outputs": [],
   "source": [
    "# messages = [\n",
    "#     {\"role\": \"system\", \"content\": \"You are a helpful assistant which helps in the identification of the best offer. If any offer have more than one discount % always take the higher one.\"},\n",
    "#     {\"role\": \"user\", \"content\": \"The Price of SKU is 17999\\n\\nOffers:\\n\\n1. Get 5% back with Amazon Pay ICICI Bank credit card for Prime members. 3% back for others. Not applicable on Amazon business transactions.\\n2. ₹100 cashback & ₹500 welcome rewards on Amazon Pay Later. Activate now. Pay next month at Zero interest or in EMIs! T&C apply.\\n3. Flat INR 500 Instant Discount on ICICI Bank Credit Cards (excluding Amazon Pay ICICI Credit Card) Credit Card Txn. Minimum purchase 4. value INR 15999\\n4. Flat INR 750 Instant Discount on OneCard Credit Card Non EMI Txn. Minimum purchase value INR 15999\\n5. Flat ₹3,000 off on HDFC Bank Credit Card EMI Trxns on orders priced ₹50,000 and above\\n\\nWhich is the best offer?\"},\n",
    "#     {\"role\": \"assistant\", \"content\": \"Assuming prime member from the first offer the maximum discount applicable is 5%, since 5% is greater than 3%. So the discount amount is 5% of price of sku, which is 17999. This equals 900. From the second offer the maximum discount is 100 cashback + 500 welcome rewards= 600. so the discount from this offer is 600. From the third offer since the purchase value 17999 is greater than Minimum purchase value of ₹15999, hence the discount amount is applicable & it is equal to ₹500. From the fourth offer the discount = ₹750 since the Minimum pucrhase value of ₹15999 is less than than ₹17999. From the fifth offer the discount is not applicable since sku price (17999) is less than 50000. Comparing the discounts from all offers the maximum discount is ₹900. So maximum discount = ₹900; Bank Name = Amazon Pay ICICI Bank, Minimum Swipe for availing maximum discount = 0\"},\n",
    "#     {\"role\": \"user\", \"content\": \"The Price of the SKU is 18999\\n\\nOffers:\\n\\n1. Flat INR 2000 Instant Discount on HDFC Bank Credit CardTxn. Minimum purchase value INR 17999\\n\\n2. Flat INR 2100 Instant Discount on ICICI Bank Credit Cards (excluding Amazon Pay ICICI Credit Card) Credit CardTxn. Minimum purchase value INR 17999\\n\\n3. Flat INR 2000 Instant Discount on HDFC Bank Debit Card EMI Txn. Minimum purchase value INR 19999\\n\\n4. 5% Instant Discount up to INR 250 on HSBC Cashback Card Credit Card Transactions. Minimum purchase value INR 1000\\n\\n5. Get 5% back with Amazon Pay ICICI Bank credit card for Prime members. 3% back for others. Not applicable on Amazon business transactions.\\n\\n6. ₹100 cashback & ₹2150 welcome rewards on Amazon Pay Later.\\n\\nWhich is the best Offer\"},\n",
    "#     {\"role\": \"assistant\", \"content\": \"From the first offer since the price value of 18999 is greater than 17999 the discount amount is applicable & it is equal to 2000 . From the second offer since the price value of 18999 is greater than 17999 the discount amount is 2100. From the third offer since the price value of 18999 is less than minimum purchase value of 19999, the discount value is not applicable. From the fourth offer, the discount amount is 5% of the price of the SKU, up to a maximum of 250. Since the price of the SKU is 18999, the discount amount will be 250. Assuming prime member, from the fifth offer, the maximum discount applicable is 5%, since 5% is greater than 3%. So the discount amount is 5% of the price of the SKU, which is 18999. This equals 950.From the sixth offer, the discount amount is 100 cashback + 2150 welcome rewards = 2250. Comparing the discounts from the offers, the maximum discount is 2250. So, \\nthe maximum discount applicable = 2250\\nBank Name = Amazon Pay Later\\nMinimum Swipe for availing maximum Discount = 0\"},\n",
    "#     {\"role\": \"user\", \"content\": \"The Price of the SKU is 18999\\n\\nOffers:\\n\\n1. Flat INR 2000 Instant Discount on HDFC Bank Credit CardTxn. Minimum purchase value INR 17999\\n\\n2. Flat INR 2100 Instant Discount on ICICI Bank Credit Cards (excluding Amazon Pay ICICI Credit Card) Credit CardTxn. Minimum purchase value INR 17999\\n\\n3. Flat INR 2000 Instant Discount on HDFC Bank Debit Card EMI Txn. Minimum purchase value INR 19999\\n\\n4. 5% Instant Discount up to INR 250 on HSBC Cashback Card Credit Card Transactions. Minimum purchase value INR 1000\\n\\n5. Get 5% back with Amazon Pay ICICI Bank credit card for Prime members. 3% back for others. Not applicable on Amazon business transactions.\\n\\n6. ₹100 cashback & ₹500 welcome rewards on Amazon Pay Later.\\n\\nWhich is the best Offer?\"},\n",
    "#     {\"role\": \"assistant\", \"content\": \"From the first offer since the price value of 18999 is greater than 17999 the discount amount is applicable & it is equal to 2000 . From the second offer since the price value of 18999 is greater than 17999 the discount amount is applicable & it is equal to 2100. From the third offer since the price value of 18999 is less than minimum purchase value of 19999, the discount value is not applicable. From the fourth offer, the discount amount is 5% of the price of the SKU, up to a maximum of 250. Since the price of the SKU is 18999, the discount amount will be 250. Assuming prime member, from the fifth offer, the maximum discount applicable is 5%, since 5% is greater than 3%. So the discount amount is 5% of the price of the SKU, which is 18999. This equals 950.From the sixth offer, the discount amount is 100 cashback + 500 welcome rewards = 600. Comparing the discounts from the offers, the maximum discount is 2000. So, \\nthe maximum discount applicable = 2000\\nBank Name = HDFC Bank Credit Card\\nMinimum Swipe for availing maximum Discount = 17999\"},\n",
    "#     {\"role\": \"user\", \"content\": \"The Price of the SKU is 19999\\n\\nOffers:\\n\\n1. Flat INR 2100 Instant Discount on HDFC Bank Credit CardTxn. Minimum purchase value INR 17999\\n\\n2. Flat INR 2100 Instant Discount on ICICI Bank Credit Cards (excluding Amazon Pay ICICI Credit Card) Credit CardTxn. Minimum purchase value INR 17999\\n\\n3. Flat INR 2000 Instant Discount on HDFC Bank Debit Card EMI Txn. Minimum purchase value INR 19999\\n\\n4. 5% Instant Discount up to INR 250 on HSBC Cashback Card Credit Card Transactions. Minimum purchase value INR 1000\\n\\n5. Get 5% back with Amazon Pay ICICI Bank credit card for Prime members. 3% back for others. Not applicable on Amazon business transactions.\\n\\n6. ₹100 cashback & ₹500 welcome rewards on Amazon Pay Later.\\n\\nWhich is the best Offer?\"}\n",
    "#     ]"
   ]
  },
  {
   "cell_type": "code",
   "execution_count": 40,
   "id": "0bcb9190-694e-4dfd-80a4-a5e6b24d0397",
   "metadata": {},
   "outputs": [],
   "source": [
    "# chat_response = chat_completion_request(\n",
    "#     messages, tools=tools\n",
    "# )\n",
    "# #print(chat_response.json())\n",
    "# assistant_message = chat_response.json()[\"choices\"][0][\"message\"]\n",
    "# messages.append(assistant_message)\n",
    "# assistant_message"
   ]
  },
  {
   "cell_type": "code",
   "execution_count": 41,
   "id": "5030dc22-7c5e-47ee-b6bc-b4760898b746",
   "metadata": {},
   "outputs": [],
   "source": [
    "def extract_discount_details(data):\n",
    "    try:\n",
    "        # Parse the JSON string in the 'arguments' field\n",
    "        arguments_str = data['tool_calls'][0]['function']['arguments']\n",
    "        arguments_json = json.loads(arguments_str)\n",
    "\n",
    "        # Extract values\n",
    "        discount_bank = arguments_json.get('discount_bank', '')\n",
    "        discount_amount = float(arguments_json.get('discount_amount', 0))\n",
    "        discount_minimum_purchase = float(arguments_json.get('discount_minimum_purchase', 0))\n",
    "\n",
    "        return discount_bank, discount_amount, discount_minimum_purchase\n",
    "\n",
    "    except (json.JSONDecodeError, ValueError) as e:\n",
    "        print(f\"Error extracting discount details: {e}\")\n",
    "        return None, None, None"
   ]
  },
  {
   "cell_type": "code",
   "execution_count": 62,
   "id": "f08ab04a-48f8-41db-a8f6-e0804efdd82e",
   "metadata": {},
   "outputs": [],
   "source": [
    "def extract_discount_details_content(offer_details):\n",
    "    # Split the input string into lines\n",
    "    lines = offer_details.split('\\n')\n",
    "    \n",
    "    max_discount = 0\n",
    "    bank_name = \"\"\n",
    "    min_swipe = 0\n",
    "    \n",
    "    for line in lines:\n",
    "        if \"maximum discount applicable =\" in line:\n",
    "            discount_str = line.split(\"maximum discount applicable\")[1]\n",
    "            discount_str = discount_str[:10]\n",
    "            if(pd.isna(discount_str)==False):\n",
    "                discount_value = re.sub(r\"[^\\d.]*(\\d+(\\.\\d+)?)\", '', discount_str)\n",
    "                discount = float(discount_value)\n",
    "                max_discount = max(max_discount, discount)\n",
    "        \n",
    "        if \"Bank Name =\" in line:\n",
    "            bank_name = line.split(\"Bank Name =\")[1].strip()\n",
    "            if \"Minimum Swipe for availing maximum Discount\" in bank_name:\n",
    "                bank_name = bank_name.replace(\"Minimum Swipe for availing maximum Discount\",\"\")\n",
    "        \n",
    "        if \"Minimum Swipe for availing maximum Discount =\" in line:\n",
    "            min_swipe_str = line.split(\"Minimum Swipe for availing maximum Discount\")[1]\n",
    "            min_swipe_str = min_swipe_str[:10]\n",
    "            if(pd.isna(min_swipe_str)==False and min_swipe_str != \"Not mentioned\"):\n",
    "                min_swipe_value = re.sub(r\"[^\\d.]*(\\d+(\\.\\d+)?)\", '', min_swipe_str)\n",
    "                min_swipe = float(min_swipe_value)\n",
    "            #min_swipe = int(min_swipe_str.replace(',', ''))\n",
    "    \n",
    "    return max_discount, bank_name, min_swipe"
   ]
  },
  {
   "cell_type": "code",
   "execution_count": 63,
   "id": "7e91efd0-e47c-4f24-8398-0755a7f1598a",
   "metadata": {},
   "outputs": [],
   "source": [
    "def extract_bup_details(bup_details):\n",
    "    bup=0\n",
    "    bup = re.sub(r'[^\\d.]', '', bup_details)\n",
    "    return bup\n",
    "    "
   ]
  },
  {
   "cell_type": "code",
   "execution_count": 64,
   "id": "1bfe27cb-b041-40c2-9ae4-593b7d5a40a6",
   "metadata": {},
   "outputs": [],
   "source": [
    "def extract_vpc_details(vpc_details):\n",
    "    vpc=0\n",
    "    vpc = re.sub(r'[^\\d.]', '', vpc_details)\n",
    "    return vpc"
   ]
  },
  {
   "cell_type": "code",
   "execution_count": 65,
   "id": "93edcf54-a3fb-4973-ae23-47076c833be3",
   "metadata": {},
   "outputs": [],
   "source": [
    "def extract_supercoins_details(supercoins_details):\n",
    "    supercoins=0\n",
    "    #supercoins = re.sub(r'[^\\d.]', '', supercoins_details)\n",
    "    supercoins=re.findall(r'\\d+', supercoins_details)[0] if re.findall(r'\\d+', supercoins_details) else None\n",
    "    return supercoins"
   ]
  },
  {
   "cell_type": "code",
   "execution_count": 67,
   "id": "b6132c09-63ff-43d2-ad70-d46350c3bb2e",
   "metadata": {},
   "outputs": [
    {
     "name": "stdout",
     "output_type": "stream",
     "text": [
      "value of i 0\n",
      "FEW SHOT INTERFERENCE-OPEN AI: \n",
      "{'role': 'assistant', 'content': None, 'tool_calls': [{'id': 'call_atpOGLWLLt9OdxWWuBkb5Gsg', 'type': 'function', 'function': {'name': 'offer_formatted_output', 'arguments': '{\\n\"discount_bank\": \"HDFC Bank\",\\n\"discount_amount\": 3000,\\n\"discount_minimum_purchase\": 25000\\n}'}}]}\n"
     ]
    },
    {
     "name": "stderr",
     "output_type": "stream",
     "text": [
      "C:\\Users\\devenderjhinkwan\\AppData\\Local\\Temp\\ipykernel_21788\\1298900119.py:28: SettingWithCopyWarning: \n",
      "A value is trying to be set on a copy of a slice from a DataFrame\n",
      "\n",
      "See the caveats in the documentation: https://pandas.pydata.org/pandas-docs/stable/user_guide/indexing.html#returning-a-view-versus-a-copy\n",
      "  output_data[\"Max Discount\"][i] = max_discount\n",
      "C:\\Users\\devenderjhinkwan\\AppData\\Local\\Temp\\ipykernel_21788\\1298900119.py:29: SettingWithCopyWarning: \n",
      "A value is trying to be set on a copy of a slice from a DataFrame\n",
      "\n",
      "See the caveats in the documentation: https://pandas.pydata.org/pandas-docs/stable/user_guide/indexing.html#returning-a-view-versus-a-copy\n",
      "  output_data['IBD Bank Name/UPI'][i] = bank_name\n",
      "C:\\Users\\devenderjhinkwan\\AppData\\Local\\Temp\\ipykernel_21788\\1298900119.py:30: SettingWithCopyWarning: \n",
      "A value is trying to be set on a copy of a slice from a DataFrame\n",
      "\n",
      "See the caveats in the documentation: https://pandas.pydata.org/pandas-docs/stable/user_guide/indexing.html#returning-a-view-versus-a-copy\n",
      "  output_data['Min Swipe'][i]= min_swipe\n"
     ]
    },
    {
     "name": "stdout",
     "output_type": "stream",
     "text": [
      "value of i 1\n",
      "FEW SHOT INTERFERENCE-OPEN AI: \n",
      "{'role': 'assistant', 'content': None, 'tool_calls': [{'id': 'call_axeP83iZuIZuqS0NzwnN12wy', 'type': 'function', 'function': {'name': 'offer_formatted_output', 'arguments': '{\\n\"discount_amount\": 1500,\\n\"discount_bank\": \"HDFC Bank Credit Card EMI\",\\n\"discount_minimum_purchase\": 7500\\n}'}}]}\n",
      "value of i 2\n"
     ]
    },
    {
     "name": "stderr",
     "output_type": "stream",
     "text": [
      "C:\\Users\\devenderjhinkwan\\AppData\\Local\\Temp\\ipykernel_21788\\1298900119.py:28: SettingWithCopyWarning: \n",
      "A value is trying to be set on a copy of a slice from a DataFrame\n",
      "\n",
      "See the caveats in the documentation: https://pandas.pydata.org/pandas-docs/stable/user_guide/indexing.html#returning-a-view-versus-a-copy\n",
      "  output_data[\"Max Discount\"][i] = max_discount\n",
      "C:\\Users\\devenderjhinkwan\\AppData\\Local\\Temp\\ipykernel_21788\\1298900119.py:29: SettingWithCopyWarning: \n",
      "A value is trying to be set on a copy of a slice from a DataFrame\n",
      "\n",
      "See the caveats in the documentation: https://pandas.pydata.org/pandas-docs/stable/user_guide/indexing.html#returning-a-view-versus-a-copy\n",
      "  output_data['IBD Bank Name/UPI'][i] = bank_name\n",
      "C:\\Users\\devenderjhinkwan\\AppData\\Local\\Temp\\ipykernel_21788\\1298900119.py:30: SettingWithCopyWarning: \n",
      "A value is trying to be set on a copy of a slice from a DataFrame\n",
      "\n",
      "See the caveats in the documentation: https://pandas.pydata.org/pandas-docs/stable/user_guide/indexing.html#returning-a-view-versus-a-copy\n",
      "  output_data['Min Swipe'][i]= min_swipe\n"
     ]
    },
    {
     "name": "stdout",
     "output_type": "stream",
     "text": [
      "FEW SHOT INTERFERENCE-OPEN AI: \n",
      "{'role': 'assistant', 'content': None, 'tool_calls': [{'id': 'call_6lPmKN5eCTSezowKm3kf3slZ', 'type': 'function', 'function': {'name': 'offer_formatted_output', 'arguments': '{\\n\"discount_bank\": \"HDFC Bank Credit Card EMI Trxn\",\\n\"discount_amount\": 2490,\\n\"discount_minimum_purchase\": 7500\\n}'}}]}\n",
      "value of i 3\n"
     ]
    },
    {
     "name": "stderr",
     "output_type": "stream",
     "text": [
      "C:\\Users\\devenderjhinkwan\\AppData\\Local\\Temp\\ipykernel_21788\\1298900119.py:28: SettingWithCopyWarning: \n",
      "A value is trying to be set on a copy of a slice from a DataFrame\n",
      "\n",
      "See the caveats in the documentation: https://pandas.pydata.org/pandas-docs/stable/user_guide/indexing.html#returning-a-view-versus-a-copy\n",
      "  output_data[\"Max Discount\"][i] = max_discount\n",
      "C:\\Users\\devenderjhinkwan\\AppData\\Local\\Temp\\ipykernel_21788\\1298900119.py:29: SettingWithCopyWarning: \n",
      "A value is trying to be set on a copy of a slice from a DataFrame\n",
      "\n",
      "See the caveats in the documentation: https://pandas.pydata.org/pandas-docs/stable/user_guide/indexing.html#returning-a-view-versus-a-copy\n",
      "  output_data['IBD Bank Name/UPI'][i] = bank_name\n",
      "C:\\Users\\devenderjhinkwan\\AppData\\Local\\Temp\\ipykernel_21788\\1298900119.py:30: SettingWithCopyWarning: \n",
      "A value is trying to be set on a copy of a slice from a DataFrame\n",
      "\n",
      "See the caveats in the documentation: https://pandas.pydata.org/pandas-docs/stable/user_guide/indexing.html#returning-a-view-versus-a-copy\n",
      "  output_data['Min Swipe'][i]= min_swipe\n"
     ]
    },
    {
     "name": "stdout",
     "output_type": "stream",
     "text": [
      "FEW SHOT INTERFERENCE-OPEN AI: \n",
      "{'role': 'assistant', 'content': None, 'tool_calls': [{'id': 'call_ntmVdV2mvJDtNiia7GuvXH68', 'type': 'function', 'function': {'name': 'offer_formatted_output', 'arguments': '{\\n\"discount_bank\": \"HDFC Bank Card\",\\n\"discount_amount\": 1500,\\n\"discount_minimum_purchase\": 7500\\n}'}}]}\n",
      "value of i 4\n"
     ]
    },
    {
     "name": "stderr",
     "output_type": "stream",
     "text": [
      "C:\\Users\\devenderjhinkwan\\AppData\\Local\\Temp\\ipykernel_21788\\1298900119.py:28: SettingWithCopyWarning: \n",
      "A value is trying to be set on a copy of a slice from a DataFrame\n",
      "\n",
      "See the caveats in the documentation: https://pandas.pydata.org/pandas-docs/stable/user_guide/indexing.html#returning-a-view-versus-a-copy\n",
      "  output_data[\"Max Discount\"][i] = max_discount\n",
      "C:\\Users\\devenderjhinkwan\\AppData\\Local\\Temp\\ipykernel_21788\\1298900119.py:29: SettingWithCopyWarning: \n",
      "A value is trying to be set on a copy of a slice from a DataFrame\n",
      "\n",
      "See the caveats in the documentation: https://pandas.pydata.org/pandas-docs/stable/user_guide/indexing.html#returning-a-view-versus-a-copy\n",
      "  output_data['IBD Bank Name/UPI'][i] = bank_name\n",
      "C:\\Users\\devenderjhinkwan\\AppData\\Local\\Temp\\ipykernel_21788\\1298900119.py:30: SettingWithCopyWarning: \n",
      "A value is trying to be set on a copy of a slice from a DataFrame\n",
      "\n",
      "See the caveats in the documentation: https://pandas.pydata.org/pandas-docs/stable/user_guide/indexing.html#returning-a-view-versus-a-copy\n",
      "  output_data['Min Swipe'][i]= min_swipe\n"
     ]
    },
    {
     "name": "stdout",
     "output_type": "stream",
     "text": [
      "FEW SHOT INTERFERENCE-OPEN AI: \n",
      "{'role': 'assistant', 'content': None, 'tool_calls': [{'id': 'call_18azxPlfVIAGqNPQC3j51Igl', 'type': 'function', 'function': {'name': 'offer_formatted_output', 'arguments': '{\\n\"discount_bank\": \"HDFC\",\\n\"discount_amount\": 2000,\\n\"discount_minimum_purchase\": 25000\\n}'}}]}\n",
      "value of i 5\n"
     ]
    },
    {
     "name": "stderr",
     "output_type": "stream",
     "text": [
      "C:\\Users\\devenderjhinkwan\\AppData\\Local\\Temp\\ipykernel_21788\\1298900119.py:28: SettingWithCopyWarning: \n",
      "A value is trying to be set on a copy of a slice from a DataFrame\n",
      "\n",
      "See the caveats in the documentation: https://pandas.pydata.org/pandas-docs/stable/user_guide/indexing.html#returning-a-view-versus-a-copy\n",
      "  output_data[\"Max Discount\"][i] = max_discount\n",
      "C:\\Users\\devenderjhinkwan\\AppData\\Local\\Temp\\ipykernel_21788\\1298900119.py:29: SettingWithCopyWarning: \n",
      "A value is trying to be set on a copy of a slice from a DataFrame\n",
      "\n",
      "See the caveats in the documentation: https://pandas.pydata.org/pandas-docs/stable/user_guide/indexing.html#returning-a-view-versus-a-copy\n",
      "  output_data['IBD Bank Name/UPI'][i] = bank_name\n",
      "C:\\Users\\devenderjhinkwan\\AppData\\Local\\Temp\\ipykernel_21788\\1298900119.py:30: SettingWithCopyWarning: \n",
      "A value is trying to be set on a copy of a slice from a DataFrame\n",
      "\n",
      "See the caveats in the documentation: https://pandas.pydata.org/pandas-docs/stable/user_guide/indexing.html#returning-a-view-versus-a-copy\n",
      "  output_data['Min Swipe'][i]= min_swipe\n"
     ]
    },
    {
     "name": "stdout",
     "output_type": "stream",
     "text": [
      "FEW SHOT INTERFERENCE-OPEN AI: \n",
      "{'role': 'assistant', 'content': None, 'tool_calls': [{'id': 'call_YqD3t4qMDpxmJYjvr6oMLUAF', 'type': 'function', 'function': {'name': 'offer_formatted_output', 'arguments': '{\\n\"discount_bank\": \"HDFC\",\\n\"discount_amount\": 2000,\\n\"discount_minimum_purchase\": 25000\\n}'}}]}\n",
      "value of i 6\n"
     ]
    },
    {
     "name": "stderr",
     "output_type": "stream",
     "text": [
      "C:\\Users\\devenderjhinkwan\\AppData\\Local\\Temp\\ipykernel_21788\\1298900119.py:28: SettingWithCopyWarning: \n",
      "A value is trying to be set on a copy of a slice from a DataFrame\n",
      "\n",
      "See the caveats in the documentation: https://pandas.pydata.org/pandas-docs/stable/user_guide/indexing.html#returning-a-view-versus-a-copy\n",
      "  output_data[\"Max Discount\"][i] = max_discount\n",
      "C:\\Users\\devenderjhinkwan\\AppData\\Local\\Temp\\ipykernel_21788\\1298900119.py:29: SettingWithCopyWarning: \n",
      "A value is trying to be set on a copy of a slice from a DataFrame\n",
      "\n",
      "See the caveats in the documentation: https://pandas.pydata.org/pandas-docs/stable/user_guide/indexing.html#returning-a-view-versus-a-copy\n",
      "  output_data['IBD Bank Name/UPI'][i] = bank_name\n",
      "C:\\Users\\devenderjhinkwan\\AppData\\Local\\Temp\\ipykernel_21788\\1298900119.py:30: SettingWithCopyWarning: \n",
      "A value is trying to be set on a copy of a slice from a DataFrame\n",
      "\n",
      "See the caveats in the documentation: https://pandas.pydata.org/pandas-docs/stable/user_guide/indexing.html#returning-a-view-versus-a-copy\n",
      "  output_data['Min Swipe'][i]= min_swipe\n"
     ]
    },
    {
     "name": "stdout",
     "output_type": "stream",
     "text": [
      "FEW SHOT INTERFERENCE-OPEN AI: \n",
      "{'role': 'assistant', 'content': None, 'tool_calls': [{'id': 'call_LBAyFCDEotbBhXztdwG6TdU9', 'type': 'function', 'function': {'name': 'offer_formatted_output', 'arguments': '{\\n\"discount_bank\": \"HDFC Bank\",\\n\"discount_amount\": 3500,\\n\"discount_minimum_purchase\": 25000\\n}'}}]}\n",
      "value of i 7\n"
     ]
    },
    {
     "name": "stderr",
     "output_type": "stream",
     "text": [
      "C:\\Users\\devenderjhinkwan\\AppData\\Local\\Temp\\ipykernel_21788\\1298900119.py:28: SettingWithCopyWarning: \n",
      "A value is trying to be set on a copy of a slice from a DataFrame\n",
      "\n",
      "See the caveats in the documentation: https://pandas.pydata.org/pandas-docs/stable/user_guide/indexing.html#returning-a-view-versus-a-copy\n",
      "  output_data[\"Max Discount\"][i] = max_discount\n",
      "C:\\Users\\devenderjhinkwan\\AppData\\Local\\Temp\\ipykernel_21788\\1298900119.py:29: SettingWithCopyWarning: \n",
      "A value is trying to be set on a copy of a slice from a DataFrame\n",
      "\n",
      "See the caveats in the documentation: https://pandas.pydata.org/pandas-docs/stable/user_guide/indexing.html#returning-a-view-versus-a-copy\n",
      "  output_data['IBD Bank Name/UPI'][i] = bank_name\n",
      "C:\\Users\\devenderjhinkwan\\AppData\\Local\\Temp\\ipykernel_21788\\1298900119.py:30: SettingWithCopyWarning: \n",
      "A value is trying to be set on a copy of a slice from a DataFrame\n",
      "\n",
      "See the caveats in the documentation: https://pandas.pydata.org/pandas-docs/stable/user_guide/indexing.html#returning-a-view-versus-a-copy\n",
      "  output_data['Min Swipe'][i]= min_swipe\n"
     ]
    },
    {
     "name": "stdout",
     "output_type": "stream",
     "text": [
      "FEW SHOT INTERFERENCE-OPEN AI: \n",
      "{'role': 'assistant', 'content': None, 'tool_calls': [{'id': 'call_hZDF9J0NloI9Rg93JGG9iQlS', 'type': 'function', 'function': {'name': 'offer_formatted_output', 'arguments': '{\\n\"discount_bank\": \"HDFC Bank\",\\n\"discount_amount\": 2000,\\n\"discount_minimum_purchase\": 17999\\n}'}}]}\n",
      "value of i 8\n"
     ]
    },
    {
     "name": "stderr",
     "output_type": "stream",
     "text": [
      "C:\\Users\\devenderjhinkwan\\AppData\\Local\\Temp\\ipykernel_21788\\1298900119.py:28: SettingWithCopyWarning: \n",
      "A value is trying to be set on a copy of a slice from a DataFrame\n",
      "\n",
      "See the caveats in the documentation: https://pandas.pydata.org/pandas-docs/stable/user_guide/indexing.html#returning-a-view-versus-a-copy\n",
      "  output_data[\"Max Discount\"][i] = max_discount\n",
      "C:\\Users\\devenderjhinkwan\\AppData\\Local\\Temp\\ipykernel_21788\\1298900119.py:29: SettingWithCopyWarning: \n",
      "A value is trying to be set on a copy of a slice from a DataFrame\n",
      "\n",
      "See the caveats in the documentation: https://pandas.pydata.org/pandas-docs/stable/user_guide/indexing.html#returning-a-view-versus-a-copy\n",
      "  output_data['IBD Bank Name/UPI'][i] = bank_name\n",
      "C:\\Users\\devenderjhinkwan\\AppData\\Local\\Temp\\ipykernel_21788\\1298900119.py:30: SettingWithCopyWarning: \n",
      "A value is trying to be set on a copy of a slice from a DataFrame\n",
      "\n",
      "See the caveats in the documentation: https://pandas.pydata.org/pandas-docs/stable/user_guide/indexing.html#returning-a-view-versus-a-copy\n",
      "  output_data['Min Swipe'][i]= min_swipe\n"
     ]
    },
    {
     "name": "stdout",
     "output_type": "stream",
     "text": [
      "FEW SHOT INTERFERENCE-OPEN AI: \n",
      "{'role': 'assistant', 'content': None, 'tool_calls': [{'id': 'call_Tfx8vpYucLB24zk55ac0YAEk', 'type': 'function', 'function': {'name': 'offer_formatted_output', 'arguments': '{\\n\"discount_bank\": \"HDFC Bank Credit Card\",\\n\"discount_amount\": 1490,\\n\"discount_minimum_purchase\": 7500\\n}'}}]}\n",
      "value of i 9\n"
     ]
    },
    {
     "name": "stderr",
     "output_type": "stream",
     "text": [
      "C:\\Users\\devenderjhinkwan\\AppData\\Local\\Temp\\ipykernel_21788\\1298900119.py:28: SettingWithCopyWarning: \n",
      "A value is trying to be set on a copy of a slice from a DataFrame\n",
      "\n",
      "See the caveats in the documentation: https://pandas.pydata.org/pandas-docs/stable/user_guide/indexing.html#returning-a-view-versus-a-copy\n",
      "  output_data[\"Max Discount\"][i] = max_discount\n",
      "C:\\Users\\devenderjhinkwan\\AppData\\Local\\Temp\\ipykernel_21788\\1298900119.py:29: SettingWithCopyWarning: \n",
      "A value is trying to be set on a copy of a slice from a DataFrame\n",
      "\n",
      "See the caveats in the documentation: https://pandas.pydata.org/pandas-docs/stable/user_guide/indexing.html#returning-a-view-versus-a-copy\n",
      "  output_data['IBD Bank Name/UPI'][i] = bank_name\n",
      "C:\\Users\\devenderjhinkwan\\AppData\\Local\\Temp\\ipykernel_21788\\1298900119.py:30: SettingWithCopyWarning: \n",
      "A value is trying to be set on a copy of a slice from a DataFrame\n",
      "\n",
      "See the caveats in the documentation: https://pandas.pydata.org/pandas-docs/stable/user_guide/indexing.html#returning-a-view-versus-a-copy\n",
      "  output_data['Min Swipe'][i]= min_swipe\n"
     ]
    },
    {
     "name": "stdout",
     "output_type": "stream",
     "text": [
      "FEW SHOT INTERFERENCE-OPEN AI: \n",
      "{'role': 'assistant', 'content': None, 'tool_calls': [{'id': 'call_mZDG1bS4TBSvsWHRRjtvbb8F', 'type': 'function', 'function': {'name': 'offer_formatted_output', 'arguments': '{\\n\"discount_bank\": \"HDFC Bank Debit Card\",\\n\"discount_amount\": 999,\\n\"discount_minimum_purchase\": 7500\\n}'}}]}\n",
      "value of i 10\n"
     ]
    },
    {
     "name": "stderr",
     "output_type": "stream",
     "text": [
      "C:\\Users\\devenderjhinkwan\\AppData\\Local\\Temp\\ipykernel_21788\\1298900119.py:28: SettingWithCopyWarning: \n",
      "A value is trying to be set on a copy of a slice from a DataFrame\n",
      "\n",
      "See the caveats in the documentation: https://pandas.pydata.org/pandas-docs/stable/user_guide/indexing.html#returning-a-view-versus-a-copy\n",
      "  output_data[\"Max Discount\"][i] = max_discount\n",
      "C:\\Users\\devenderjhinkwan\\AppData\\Local\\Temp\\ipykernel_21788\\1298900119.py:29: SettingWithCopyWarning: \n",
      "A value is trying to be set on a copy of a slice from a DataFrame\n",
      "\n",
      "See the caveats in the documentation: https://pandas.pydata.org/pandas-docs/stable/user_guide/indexing.html#returning-a-view-versus-a-copy\n",
      "  output_data['IBD Bank Name/UPI'][i] = bank_name\n",
      "C:\\Users\\devenderjhinkwan\\AppData\\Local\\Temp\\ipykernel_21788\\1298900119.py:30: SettingWithCopyWarning: \n",
      "A value is trying to be set on a copy of a slice from a DataFrame\n",
      "\n",
      "See the caveats in the documentation: https://pandas.pydata.org/pandas-docs/stable/user_guide/indexing.html#returning-a-view-versus-a-copy\n",
      "  output_data['Min Swipe'][i]= min_swipe\n"
     ]
    },
    {
     "name": "stdout",
     "output_type": "stream",
     "text": [
      "FEW SHOT INTERFERENCE-OPEN AI: \n",
      "{'role': 'assistant', 'content': None, 'tool_calls': [{'id': 'call_mZDG1bS4TBSvsWHRRjtvbb8F', 'type': 'function', 'function': {'name': 'offer_formatted_output', 'arguments': '{\\n\"discount_bank\": \"HDFC Bank Credit Card\",\\n\"discount_amount\": 1500,\\n\"discount_minimum_purchase\": 7500\\n}'}}]}\n",
      "value of i 11\n"
     ]
    },
    {
     "name": "stderr",
     "output_type": "stream",
     "text": [
      "C:\\Users\\devenderjhinkwan\\AppData\\Local\\Temp\\ipykernel_21788\\1298900119.py:28: SettingWithCopyWarning: \n",
      "A value is trying to be set on a copy of a slice from a DataFrame\n",
      "\n",
      "See the caveats in the documentation: https://pandas.pydata.org/pandas-docs/stable/user_guide/indexing.html#returning-a-view-versus-a-copy\n",
      "  output_data[\"Max Discount\"][i] = max_discount\n",
      "C:\\Users\\devenderjhinkwan\\AppData\\Local\\Temp\\ipykernel_21788\\1298900119.py:29: SettingWithCopyWarning: \n",
      "A value is trying to be set on a copy of a slice from a DataFrame\n",
      "\n",
      "See the caveats in the documentation: https://pandas.pydata.org/pandas-docs/stable/user_guide/indexing.html#returning-a-view-versus-a-copy\n",
      "  output_data['IBD Bank Name/UPI'][i] = bank_name\n",
      "C:\\Users\\devenderjhinkwan\\AppData\\Local\\Temp\\ipykernel_21788\\1298900119.py:30: SettingWithCopyWarning: \n",
      "A value is trying to be set on a copy of a slice from a DataFrame\n",
      "\n",
      "See the caveats in the documentation: https://pandas.pydata.org/pandas-docs/stable/user_guide/indexing.html#returning-a-view-versus-a-copy\n",
      "  output_data['Min Swipe'][i]= min_swipe\n"
     ]
    },
    {
     "name": "stdout",
     "output_type": "stream",
     "text": [
      "FEW SHOT INTERFERENCE-OPEN AI: \n",
      "{'role': 'assistant', 'content': None, 'tool_calls': [{'id': 'call_HJllMMLhK6OPkwqyP2GQwVmU', 'type': 'function', 'function': {'name': 'offer_formatted_output', 'arguments': '{\\n\"discount_bank\": \"Citibank Credit Card\",\\n\"discount_amount\": 1250,\\n\"discount_minimum_purchase\": 5000\\n}'}}]}\n",
      "value of i 12\n"
     ]
    },
    {
     "name": "stderr",
     "output_type": "stream",
     "text": [
      "C:\\Users\\devenderjhinkwan\\AppData\\Local\\Temp\\ipykernel_21788\\1298900119.py:28: SettingWithCopyWarning: \n",
      "A value is trying to be set on a copy of a slice from a DataFrame\n",
      "\n",
      "See the caveats in the documentation: https://pandas.pydata.org/pandas-docs/stable/user_guide/indexing.html#returning-a-view-versus-a-copy\n",
      "  output_data[\"Max Discount\"][i] = max_discount\n",
      "C:\\Users\\devenderjhinkwan\\AppData\\Local\\Temp\\ipykernel_21788\\1298900119.py:29: SettingWithCopyWarning: \n",
      "A value is trying to be set on a copy of a slice from a DataFrame\n",
      "\n",
      "See the caveats in the documentation: https://pandas.pydata.org/pandas-docs/stable/user_guide/indexing.html#returning-a-view-versus-a-copy\n",
      "  output_data['IBD Bank Name/UPI'][i] = bank_name\n",
      "C:\\Users\\devenderjhinkwan\\AppData\\Local\\Temp\\ipykernel_21788\\1298900119.py:30: SettingWithCopyWarning: \n",
      "A value is trying to be set on a copy of a slice from a DataFrame\n",
      "\n",
      "See the caveats in the documentation: https://pandas.pydata.org/pandas-docs/stable/user_guide/indexing.html#returning-a-view-versus-a-copy\n",
      "  output_data['Min Swipe'][i]= min_swipe\n"
     ]
    },
    {
     "name": "stdout",
     "output_type": "stream",
     "text": [
      "FEW SHOT INTERFERENCE-OPEN AI: \n",
      "{'role': 'assistant', 'content': None, 'tool_calls': [{'id': 'call_iQCicUvOw7U7zoBUbtM7baHm', 'type': 'function', 'function': {'name': 'offer_formatted_output', 'arguments': '{\\n\"discount_bank\": \"Citibank\",\\n\"discount_amount\": 699,\\n\"discount_minimum_purchase\": 5000\\n}'}}]}\n",
      "value of i 13\n"
     ]
    },
    {
     "name": "stderr",
     "output_type": "stream",
     "text": [
      "C:\\Users\\devenderjhinkwan\\AppData\\Local\\Temp\\ipykernel_21788\\1298900119.py:28: SettingWithCopyWarning: \n",
      "A value is trying to be set on a copy of a slice from a DataFrame\n",
      "\n",
      "See the caveats in the documentation: https://pandas.pydata.org/pandas-docs/stable/user_guide/indexing.html#returning-a-view-versus-a-copy\n",
      "  output_data[\"Max Discount\"][i] = max_discount\n",
      "C:\\Users\\devenderjhinkwan\\AppData\\Local\\Temp\\ipykernel_21788\\1298900119.py:29: SettingWithCopyWarning: \n",
      "A value is trying to be set on a copy of a slice from a DataFrame\n",
      "\n",
      "See the caveats in the documentation: https://pandas.pydata.org/pandas-docs/stable/user_guide/indexing.html#returning-a-view-versus-a-copy\n",
      "  output_data['IBD Bank Name/UPI'][i] = bank_name\n",
      "C:\\Users\\devenderjhinkwan\\AppData\\Local\\Temp\\ipykernel_21788\\1298900119.py:30: SettingWithCopyWarning: \n",
      "A value is trying to be set on a copy of a slice from a DataFrame\n",
      "\n",
      "See the caveats in the documentation: https://pandas.pydata.org/pandas-docs/stable/user_guide/indexing.html#returning-a-view-versus-a-copy\n",
      "  output_data['Min Swipe'][i]= min_swipe\n"
     ]
    },
    {
     "name": "stdout",
     "output_type": "stream",
     "text": [
      "FEW SHOT INTERFERENCE-OPEN AI: \n",
      "{'role': 'assistant', 'content': None, 'tool_calls': [{'id': 'call_nKn2yPngdytgagDFHmTftwob', 'type': 'function', 'function': {'name': 'offer_formatted_output', 'arguments': '{\\n\"discount_bank\": \"Citibank\",\\n\"discount_amount\": 1000,\\n\"discount_minimum_purchase\": 5000\\n}'}}]}\n",
      "value of i 14\n"
     ]
    },
    {
     "name": "stderr",
     "output_type": "stream",
     "text": [
      "C:\\Users\\devenderjhinkwan\\AppData\\Local\\Temp\\ipykernel_21788\\1298900119.py:28: SettingWithCopyWarning: \n",
      "A value is trying to be set on a copy of a slice from a DataFrame\n",
      "\n",
      "See the caveats in the documentation: https://pandas.pydata.org/pandas-docs/stable/user_guide/indexing.html#returning-a-view-versus-a-copy\n",
      "  output_data[\"Max Discount\"][i] = max_discount\n",
      "C:\\Users\\devenderjhinkwan\\AppData\\Local\\Temp\\ipykernel_21788\\1298900119.py:29: SettingWithCopyWarning: \n",
      "A value is trying to be set on a copy of a slice from a DataFrame\n",
      "\n",
      "See the caveats in the documentation: https://pandas.pydata.org/pandas-docs/stable/user_guide/indexing.html#returning-a-view-versus-a-copy\n",
      "  output_data['IBD Bank Name/UPI'][i] = bank_name\n",
      "C:\\Users\\devenderjhinkwan\\AppData\\Local\\Temp\\ipykernel_21788\\1298900119.py:30: SettingWithCopyWarning: \n",
      "A value is trying to be set on a copy of a slice from a DataFrame\n",
      "\n",
      "See the caveats in the documentation: https://pandas.pydata.org/pandas-docs/stable/user_guide/indexing.html#returning-a-view-versus-a-copy\n",
      "  output_data['Min Swipe'][i]= min_swipe\n"
     ]
    },
    {
     "name": "stdout",
     "output_type": "stream",
     "text": [
      "FEW SHOT INTERFERENCE-OPEN AI: \n",
      "{'role': 'assistant', 'content': None, 'tool_calls': [{'id': 'call_EWmogXxj3ihmFQ7DlbmcNnta', 'type': 'function', 'function': {'name': 'offer_formatted_output', 'arguments': '{\\n\"discount_bank\": \"Citibank\",\\n\"discount_amount\": 694,\\n\"discount_minimum_purchase\": 5000\\n}'}}]}\n",
      "value of i 15\n"
     ]
    },
    {
     "name": "stderr",
     "output_type": "stream",
     "text": [
      "C:\\Users\\devenderjhinkwan\\AppData\\Local\\Temp\\ipykernel_21788\\1298900119.py:28: SettingWithCopyWarning: \n",
      "A value is trying to be set on a copy of a slice from a DataFrame\n",
      "\n",
      "See the caveats in the documentation: https://pandas.pydata.org/pandas-docs/stable/user_guide/indexing.html#returning-a-view-versus-a-copy\n",
      "  output_data[\"Max Discount\"][i] = max_discount\n",
      "C:\\Users\\devenderjhinkwan\\AppData\\Local\\Temp\\ipykernel_21788\\1298900119.py:29: SettingWithCopyWarning: \n",
      "A value is trying to be set on a copy of a slice from a DataFrame\n",
      "\n",
      "See the caveats in the documentation: https://pandas.pydata.org/pandas-docs/stable/user_guide/indexing.html#returning-a-view-versus-a-copy\n",
      "  output_data['IBD Bank Name/UPI'][i] = bank_name\n",
      "C:\\Users\\devenderjhinkwan\\AppData\\Local\\Temp\\ipykernel_21788\\1298900119.py:30: SettingWithCopyWarning: \n",
      "A value is trying to be set on a copy of a slice from a DataFrame\n",
      "\n",
      "See the caveats in the documentation: https://pandas.pydata.org/pandas-docs/stable/user_guide/indexing.html#returning-a-view-versus-a-copy\n",
      "  output_data['Min Swipe'][i]= min_swipe\n"
     ]
    },
    {
     "name": "stdout",
     "output_type": "stream",
     "text": [
      "FEW SHOT INTERFERENCE-OPEN AI: \n",
      "{'role': 'assistant', 'content': None, 'tool_calls': [{'id': 'call_a6tmqZdhLsJmuPdomuGHV0dx', 'type': 'function', 'function': {'name': 'offer_formatted_output', 'arguments': '{\\n\"discount_amount\": 0\\n}'}}]}\n",
      "value of i 16\n"
     ]
    },
    {
     "name": "stderr",
     "output_type": "stream",
     "text": [
      "C:\\Users\\devenderjhinkwan\\AppData\\Local\\Temp\\ipykernel_21788\\1298900119.py:28: SettingWithCopyWarning: \n",
      "A value is trying to be set on a copy of a slice from a DataFrame\n",
      "\n",
      "See the caveats in the documentation: https://pandas.pydata.org/pandas-docs/stable/user_guide/indexing.html#returning-a-view-versus-a-copy\n",
      "  output_data[\"Max Discount\"][i] = max_discount\n",
      "C:\\Users\\devenderjhinkwan\\AppData\\Local\\Temp\\ipykernel_21788\\1298900119.py:29: SettingWithCopyWarning: \n",
      "A value is trying to be set on a copy of a slice from a DataFrame\n",
      "\n",
      "See the caveats in the documentation: https://pandas.pydata.org/pandas-docs/stable/user_guide/indexing.html#returning-a-view-versus-a-copy\n",
      "  output_data['IBD Bank Name/UPI'][i] = bank_name\n",
      "C:\\Users\\devenderjhinkwan\\AppData\\Local\\Temp\\ipykernel_21788\\1298900119.py:30: SettingWithCopyWarning: \n",
      "A value is trying to be set on a copy of a slice from a DataFrame\n",
      "\n",
      "See the caveats in the documentation: https://pandas.pydata.org/pandas-docs/stable/user_guide/indexing.html#returning-a-view-versus-a-copy\n",
      "  output_data['Min Swipe'][i]= min_swipe\n"
     ]
    },
    {
     "name": "stdout",
     "output_type": "stream",
     "text": [
      "FEW SHOT INTERFERENCE-OPEN AI: \n",
      "{'role': 'assistant', 'content': None, 'tool_calls': [{'id': 'call_onpDx32PO9oCRMQXR8bzCU1H', 'type': 'function', 'function': {'name': 'offer_formatted_output', 'arguments': '{\\n\"discount_bank\": \"Citibank\",\\n\"discount_amount\": 743,\\n\"discount_minimum_purchase\": 5000\\n}'}}]}\n",
      "value of i 17\n"
     ]
    },
    {
     "name": "stderr",
     "output_type": "stream",
     "text": [
      "C:\\Users\\devenderjhinkwan\\AppData\\Local\\Temp\\ipykernel_21788\\1298900119.py:28: SettingWithCopyWarning: \n",
      "A value is trying to be set on a copy of a slice from a DataFrame\n",
      "\n",
      "See the caveats in the documentation: https://pandas.pydata.org/pandas-docs/stable/user_guide/indexing.html#returning-a-view-versus-a-copy\n",
      "  output_data[\"Max Discount\"][i] = max_discount\n",
      "C:\\Users\\devenderjhinkwan\\AppData\\Local\\Temp\\ipykernel_21788\\1298900119.py:29: SettingWithCopyWarning: \n",
      "A value is trying to be set on a copy of a slice from a DataFrame\n",
      "\n",
      "See the caveats in the documentation: https://pandas.pydata.org/pandas-docs/stable/user_guide/indexing.html#returning-a-view-versus-a-copy\n",
      "  output_data['IBD Bank Name/UPI'][i] = bank_name\n",
      "C:\\Users\\devenderjhinkwan\\AppData\\Local\\Temp\\ipykernel_21788\\1298900119.py:30: SettingWithCopyWarning: \n",
      "A value is trying to be set on a copy of a slice from a DataFrame\n",
      "\n",
      "See the caveats in the documentation: https://pandas.pydata.org/pandas-docs/stable/user_guide/indexing.html#returning-a-view-versus-a-copy\n",
      "  output_data['Min Swipe'][i]= min_swipe\n"
     ]
    },
    {
     "name": "stdout",
     "output_type": "stream",
     "text": [
      "FEW SHOT INTERFERENCE-OPEN AI: \n",
      "{'role': 'assistant', 'content': None, 'tool_calls': [{'id': 'call_8To8mZ7ymrae5MgGdyQ1hghb', 'type': 'function', 'function': {'name': 'offer_formatted_output', 'arguments': '{\\n\"discount_amount\": 0\\n}'}}]}\n",
      "600.00\n",
      "value of i 18\n"
     ]
    },
    {
     "name": "stderr",
     "output_type": "stream",
     "text": [
      "C:\\Users\\devenderjhinkwan\\AppData\\Local\\Temp\\ipykernel_21788\\1298900119.py:28: SettingWithCopyWarning: \n",
      "A value is trying to be set on a copy of a slice from a DataFrame\n",
      "\n",
      "See the caveats in the documentation: https://pandas.pydata.org/pandas-docs/stable/user_guide/indexing.html#returning-a-view-versus-a-copy\n",
      "  output_data[\"Max Discount\"][i] = max_discount\n",
      "C:\\Users\\devenderjhinkwan\\AppData\\Local\\Temp\\ipykernel_21788\\1298900119.py:29: SettingWithCopyWarning: \n",
      "A value is trying to be set on a copy of a slice from a DataFrame\n",
      "\n",
      "See the caveats in the documentation: https://pandas.pydata.org/pandas-docs/stable/user_guide/indexing.html#returning-a-view-versus-a-copy\n",
      "  output_data['IBD Bank Name/UPI'][i] = bank_name\n",
      "C:\\Users\\devenderjhinkwan\\AppData\\Local\\Temp\\ipykernel_21788\\1298900119.py:30: SettingWithCopyWarning: \n",
      "A value is trying to be set on a copy of a slice from a DataFrame\n",
      "\n",
      "See the caveats in the documentation: https://pandas.pydata.org/pandas-docs/stable/user_guide/indexing.html#returning-a-view-versus-a-copy\n",
      "  output_data['Min Swipe'][i]= min_swipe\n"
     ]
    },
    {
     "name": "stdout",
     "output_type": "stream",
     "text": [
      "FEW SHOT INTERFERENCE-OPEN AI: \n",
      "{'role': 'assistant', 'content': None, 'tool_calls': [{'id': 'call_hZDF9J0NloI9Rg93JGG9iQlS', 'type': 'function', 'function': {'name': 'offer_formatted_output', 'arguments': '{\\n\"discount_amount\": 0\\n}'}}]}\n",
      "600.00\n",
      "value of i 19\n"
     ]
    },
    {
     "name": "stderr",
     "output_type": "stream",
     "text": [
      "C:\\Users\\devenderjhinkwan\\AppData\\Local\\Temp\\ipykernel_21788\\1298900119.py:28: SettingWithCopyWarning: \n",
      "A value is trying to be set on a copy of a slice from a DataFrame\n",
      "\n",
      "See the caveats in the documentation: https://pandas.pydata.org/pandas-docs/stable/user_guide/indexing.html#returning-a-view-versus-a-copy\n",
      "  output_data[\"Max Discount\"][i] = max_discount\n",
      "C:\\Users\\devenderjhinkwan\\AppData\\Local\\Temp\\ipykernel_21788\\1298900119.py:29: SettingWithCopyWarning: \n",
      "A value is trying to be set on a copy of a slice from a DataFrame\n",
      "\n",
      "See the caveats in the documentation: https://pandas.pydata.org/pandas-docs/stable/user_guide/indexing.html#returning-a-view-versus-a-copy\n",
      "  output_data['IBD Bank Name/UPI'][i] = bank_name\n",
      "C:\\Users\\devenderjhinkwan\\AppData\\Local\\Temp\\ipykernel_21788\\1298900119.py:30: SettingWithCopyWarning: \n",
      "A value is trying to be set on a copy of a slice from a DataFrame\n",
      "\n",
      "See the caveats in the documentation: https://pandas.pydata.org/pandas-docs/stable/user_guide/indexing.html#returning-a-view-versus-a-copy\n",
      "  output_data['Min Swipe'][i]= min_swipe\n"
     ]
    },
    {
     "name": "stdout",
     "output_type": "stream",
     "text": [
      "FEW SHOT INTERFERENCE-OPEN AI: \n",
      "{'role': 'assistant', 'content': None, 'tool_calls': [{'id': 'call_Dvm2t9wHv2dP94F80Jjmqfk7', 'type': 'function', 'function': {'name': 'offer_formatted_output', 'arguments': '{\\n\"discount_bank\": \"HDFC Bank Credit Card\",\\n\"discount_amount\": 500,\\n\"discount_minimum_purchase\": 6499\\n}'}}]}\n",
      "600.00\n",
      "value of i 20\n"
     ]
    },
    {
     "name": "stderr",
     "output_type": "stream",
     "text": [
      "C:\\Users\\devenderjhinkwan\\AppData\\Local\\Temp\\ipykernel_21788\\1298900119.py:28: SettingWithCopyWarning: \n",
      "A value is trying to be set on a copy of a slice from a DataFrame\n",
      "\n",
      "See the caveats in the documentation: https://pandas.pydata.org/pandas-docs/stable/user_guide/indexing.html#returning-a-view-versus-a-copy\n",
      "  output_data[\"Max Discount\"][i] = max_discount\n",
      "C:\\Users\\devenderjhinkwan\\AppData\\Local\\Temp\\ipykernel_21788\\1298900119.py:29: SettingWithCopyWarning: \n",
      "A value is trying to be set on a copy of a slice from a DataFrame\n",
      "\n",
      "See the caveats in the documentation: https://pandas.pydata.org/pandas-docs/stable/user_guide/indexing.html#returning-a-view-versus-a-copy\n",
      "  output_data['IBD Bank Name/UPI'][i] = bank_name\n",
      "C:\\Users\\devenderjhinkwan\\AppData\\Local\\Temp\\ipykernel_21788\\1298900119.py:30: SettingWithCopyWarning: \n",
      "A value is trying to be set on a copy of a slice from a DataFrame\n",
      "\n",
      "See the caveats in the documentation: https://pandas.pydata.org/pandas-docs/stable/user_guide/indexing.html#returning-a-view-versus-a-copy\n",
      "  output_data['Min Swipe'][i]= min_swipe\n"
     ]
    },
    {
     "name": "stdout",
     "output_type": "stream",
     "text": [
      "FEW SHOT INTERFERENCE-OPEN AI: \n",
      "{'role': 'assistant', 'content': None, 'tool_calls': [{'id': 'call_atpOGLWLLt9OdxWWuBkb5Gsg', 'type': 'function', 'function': {'name': 'offer_formatted_output', 'arguments': '{ \"discount_amount\": 350, \"discount_bank\": \"OneCard\", \"discount_minimum_purchase\": 7500 }'}}]}\n",
      "600.00\n",
      "value of i 21\n"
     ]
    },
    {
     "name": "stderr",
     "output_type": "stream",
     "text": [
      "C:\\Users\\devenderjhinkwan\\AppData\\Local\\Temp\\ipykernel_21788\\1298900119.py:28: SettingWithCopyWarning: \n",
      "A value is trying to be set on a copy of a slice from a DataFrame\n",
      "\n",
      "See the caveats in the documentation: https://pandas.pydata.org/pandas-docs/stable/user_guide/indexing.html#returning-a-view-versus-a-copy\n",
      "  output_data[\"Max Discount\"][i] = max_discount\n",
      "C:\\Users\\devenderjhinkwan\\AppData\\Local\\Temp\\ipykernel_21788\\1298900119.py:29: SettingWithCopyWarning: \n",
      "A value is trying to be set on a copy of a slice from a DataFrame\n",
      "\n",
      "See the caveats in the documentation: https://pandas.pydata.org/pandas-docs/stable/user_guide/indexing.html#returning-a-view-versus-a-copy\n",
      "  output_data['IBD Bank Name/UPI'][i] = bank_name\n",
      "C:\\Users\\devenderjhinkwan\\AppData\\Local\\Temp\\ipykernel_21788\\1298900119.py:30: SettingWithCopyWarning: \n",
      "A value is trying to be set on a copy of a slice from a DataFrame\n",
      "\n",
      "See the caveats in the documentation: https://pandas.pydata.org/pandas-docs/stable/user_guide/indexing.html#returning-a-view-versus-a-copy\n",
      "  output_data['Min Swipe'][i]= min_swipe\n"
     ]
    },
    {
     "name": "stdout",
     "output_type": "stream",
     "text": [
      "FEW SHOT INTERFERENCE-OPEN AI: \n",
      "{'role': 'assistant', 'content': None, 'tool_calls': [{'id': 'call_oeqzKBgai26QiyfVpcknvbTN', 'type': 'function', 'function': {'name': 'offer_formatted_output', 'arguments': '{\\n\"discount_amount\": 0\\n}'}}]}\n",
      "600.00\n",
      "value of i 22\n"
     ]
    },
    {
     "name": "stderr",
     "output_type": "stream",
     "text": [
      "C:\\Users\\devenderjhinkwan\\AppData\\Local\\Temp\\ipykernel_21788\\1298900119.py:28: SettingWithCopyWarning: \n",
      "A value is trying to be set on a copy of a slice from a DataFrame\n",
      "\n",
      "See the caveats in the documentation: https://pandas.pydata.org/pandas-docs/stable/user_guide/indexing.html#returning-a-view-versus-a-copy\n",
      "  output_data[\"Max Discount\"][i] = max_discount\n",
      "C:\\Users\\devenderjhinkwan\\AppData\\Local\\Temp\\ipykernel_21788\\1298900119.py:29: SettingWithCopyWarning: \n",
      "A value is trying to be set on a copy of a slice from a DataFrame\n",
      "\n",
      "See the caveats in the documentation: https://pandas.pydata.org/pandas-docs/stable/user_guide/indexing.html#returning-a-view-versus-a-copy\n",
      "  output_data['IBD Bank Name/UPI'][i] = bank_name\n",
      "C:\\Users\\devenderjhinkwan\\AppData\\Local\\Temp\\ipykernel_21788\\1298900119.py:30: SettingWithCopyWarning: \n",
      "A value is trying to be set on a copy of a slice from a DataFrame\n",
      "\n",
      "See the caveats in the documentation: https://pandas.pydata.org/pandas-docs/stable/user_guide/indexing.html#returning-a-view-versus-a-copy\n",
      "  output_data['Min Swipe'][i]= min_swipe\n"
     ]
    },
    {
     "name": "stdout",
     "output_type": "stream",
     "text": [
      "FEW SHOT INTERFERENCE-OPEN AI: \n",
      "{'role': 'assistant', 'content': None, 'tool_calls': [{'id': 'call_LwTShBODBIhCGouPCMXSTbcu', 'type': 'function', 'function': {'name': 'offer_formatted_output', 'arguments': '{\\n\"discount_bank\": \"Citibank Credit Card\",\\n\"discount_amount\": 849,\\n\"discount_minimum_purchase\": 5000\\n}'}}]}\n",
      "600.00\n",
      "value of i 23\n"
     ]
    },
    {
     "name": "stderr",
     "output_type": "stream",
     "text": [
      "C:\\Users\\devenderjhinkwan\\AppData\\Local\\Temp\\ipykernel_21788\\1298900119.py:28: SettingWithCopyWarning: \n",
      "A value is trying to be set on a copy of a slice from a DataFrame\n",
      "\n",
      "See the caveats in the documentation: https://pandas.pydata.org/pandas-docs/stable/user_guide/indexing.html#returning-a-view-versus-a-copy\n",
      "  output_data[\"Max Discount\"][i] = max_discount\n",
      "C:\\Users\\devenderjhinkwan\\AppData\\Local\\Temp\\ipykernel_21788\\1298900119.py:29: SettingWithCopyWarning: \n",
      "A value is trying to be set on a copy of a slice from a DataFrame\n",
      "\n",
      "See the caveats in the documentation: https://pandas.pydata.org/pandas-docs/stable/user_guide/indexing.html#returning-a-view-versus-a-copy\n",
      "  output_data['IBD Bank Name/UPI'][i] = bank_name\n",
      "C:\\Users\\devenderjhinkwan\\AppData\\Local\\Temp\\ipykernel_21788\\1298900119.py:30: SettingWithCopyWarning: \n",
      "A value is trying to be set on a copy of a slice from a DataFrame\n",
      "\n",
      "See the caveats in the documentation: https://pandas.pydata.org/pandas-docs/stable/user_guide/indexing.html#returning-a-view-versus-a-copy\n",
      "  output_data['Min Swipe'][i]= min_swipe\n"
     ]
    },
    {
     "name": "stdout",
     "output_type": "stream",
     "text": [
      "FEW SHOT INTERFERENCE-OPEN AI: \n",
      "{'role': 'assistant', 'content': None, 'tool_calls': [{'id': 'call_axeP83iZuIZuqS0NzwnN12wy', 'type': 'function', 'function': {'name': 'offer_formatted_output', 'arguments': '{\\n\"discount_bank\": \"OneCard Credit Card\",\\n\"discount_amount\": 0,\\n\"discount_minimum_purchase\": 7499\\n}'}}]}\n",
      "600.00\n",
      "value of i 24\n"
     ]
    },
    {
     "name": "stderr",
     "output_type": "stream",
     "text": [
      "C:\\Users\\devenderjhinkwan\\AppData\\Local\\Temp\\ipykernel_21788\\1298900119.py:28: SettingWithCopyWarning: \n",
      "A value is trying to be set on a copy of a slice from a DataFrame\n",
      "\n",
      "See the caveats in the documentation: https://pandas.pydata.org/pandas-docs/stable/user_guide/indexing.html#returning-a-view-versus-a-copy\n",
      "  output_data[\"Max Discount\"][i] = max_discount\n",
      "C:\\Users\\devenderjhinkwan\\AppData\\Local\\Temp\\ipykernel_21788\\1298900119.py:29: SettingWithCopyWarning: \n",
      "A value is trying to be set on a copy of a slice from a DataFrame\n",
      "\n",
      "See the caveats in the documentation: https://pandas.pydata.org/pandas-docs/stable/user_guide/indexing.html#returning-a-view-versus-a-copy\n",
      "  output_data['IBD Bank Name/UPI'][i] = bank_name\n",
      "C:\\Users\\devenderjhinkwan\\AppData\\Local\\Temp\\ipykernel_21788\\1298900119.py:30: SettingWithCopyWarning: \n",
      "A value is trying to be set on a copy of a slice from a DataFrame\n",
      "\n",
      "See the caveats in the documentation: https://pandas.pydata.org/pandas-docs/stable/user_guide/indexing.html#returning-a-view-versus-a-copy\n",
      "  output_data['Min Swipe'][i]= min_swipe\n"
     ]
    },
    {
     "name": "stdout",
     "output_type": "stream",
     "text": [
      "FEW SHOT INTERFERENCE-OPEN AI: \n",
      "{'role': 'assistant', 'content': None, 'tool_calls': [{'id': 'call_6gxpKf0qLLvm31phEiV8ceyp', 'type': 'function', 'function': {'name': 'offer_formatted_output', 'arguments': '{\\n\"discount_bank\": \"OneCard Credit Card\",\\n\"discount_amount\": 350,\\n\"discount_minimum_purchase\": 7500\\n}'}}]}\n",
      "600.00\n",
      "value of i 25\n"
     ]
    },
    {
     "name": "stderr",
     "output_type": "stream",
     "text": [
      "C:\\Users\\devenderjhinkwan\\AppData\\Local\\Temp\\ipykernel_21788\\1298900119.py:28: SettingWithCopyWarning: \n",
      "A value is trying to be set on a copy of a slice from a DataFrame\n",
      "\n",
      "See the caveats in the documentation: https://pandas.pydata.org/pandas-docs/stable/user_guide/indexing.html#returning-a-view-versus-a-copy\n",
      "  output_data[\"Max Discount\"][i] = max_discount\n",
      "C:\\Users\\devenderjhinkwan\\AppData\\Local\\Temp\\ipykernel_21788\\1298900119.py:29: SettingWithCopyWarning: \n",
      "A value is trying to be set on a copy of a slice from a DataFrame\n",
      "\n",
      "See the caveats in the documentation: https://pandas.pydata.org/pandas-docs/stable/user_guide/indexing.html#returning-a-view-versus-a-copy\n",
      "  output_data['IBD Bank Name/UPI'][i] = bank_name\n",
      "C:\\Users\\devenderjhinkwan\\AppData\\Local\\Temp\\ipykernel_21788\\1298900119.py:30: SettingWithCopyWarning: \n",
      "A value is trying to be set on a copy of a slice from a DataFrame\n",
      "\n",
      "See the caveats in the documentation: https://pandas.pydata.org/pandas-docs/stable/user_guide/indexing.html#returning-a-view-versus-a-copy\n",
      "  output_data['Min Swipe'][i]= min_swipe\n"
     ]
    },
    {
     "name": "stdout",
     "output_type": "stream",
     "text": [
      "FEW SHOT INTERFERENCE-OPEN AI: \n",
      "{'role': 'assistant', 'content': None, 'tool_calls': [{'id': 'call_sUp07oYsEMrA5IgWpplXqcxv', 'type': 'function', 'function': {'name': 'offer_formatted_output', 'arguments': '{\\n\"discount_bank\": \"None\",\\n\"discount_amount\": 0,\\n\"discount_minimum_purchase\": 5999\\n}'}}]}\n",
      "600.00\n",
      "value of i 26\n"
     ]
    },
    {
     "name": "stderr",
     "output_type": "stream",
     "text": [
      "C:\\Users\\devenderjhinkwan\\AppData\\Local\\Temp\\ipykernel_21788\\1298900119.py:28: SettingWithCopyWarning: \n",
      "A value is trying to be set on a copy of a slice from a DataFrame\n",
      "\n",
      "See the caveats in the documentation: https://pandas.pydata.org/pandas-docs/stable/user_guide/indexing.html#returning-a-view-versus-a-copy\n",
      "  output_data[\"Max Discount\"][i] = max_discount\n",
      "C:\\Users\\devenderjhinkwan\\AppData\\Local\\Temp\\ipykernel_21788\\1298900119.py:29: SettingWithCopyWarning: \n",
      "A value is trying to be set on a copy of a slice from a DataFrame\n",
      "\n",
      "See the caveats in the documentation: https://pandas.pydata.org/pandas-docs/stable/user_guide/indexing.html#returning-a-view-versus-a-copy\n",
      "  output_data['IBD Bank Name/UPI'][i] = bank_name\n",
      "C:\\Users\\devenderjhinkwan\\AppData\\Local\\Temp\\ipykernel_21788\\1298900119.py:30: SettingWithCopyWarning: \n",
      "A value is trying to be set on a copy of a slice from a DataFrame\n",
      "\n",
      "See the caveats in the documentation: https://pandas.pydata.org/pandas-docs/stable/user_guide/indexing.html#returning-a-view-versus-a-copy\n",
      "  output_data['Min Swipe'][i]= min_swipe\n"
     ]
    },
    {
     "name": "stdout",
     "output_type": "stream",
     "text": [
      "FEW SHOT INTERFERENCE-OPEN AI: \n",
      "{'role': 'assistant', 'content': None, 'tool_calls': [{'id': 'call_wzlVgTulslii1ySaGJnl48Xb', 'type': 'function', 'function': {'name': 'offer_formatted_output', 'arguments': '{\\n\"discount_bank\": \"OneCard Credit Card\",\\n\"discount_amount\": 350,\\n\"discount_minimum_purchase\": 7500\\n}'}}]}\n",
      "600.00\n",
      "value of i 27\n"
     ]
    },
    {
     "name": "stderr",
     "output_type": "stream",
     "text": [
      "C:\\Users\\devenderjhinkwan\\AppData\\Local\\Temp\\ipykernel_21788\\1298900119.py:28: SettingWithCopyWarning: \n",
      "A value is trying to be set on a copy of a slice from a DataFrame\n",
      "\n",
      "See the caveats in the documentation: https://pandas.pydata.org/pandas-docs/stable/user_guide/indexing.html#returning-a-view-versus-a-copy\n",
      "  output_data[\"Max Discount\"][i] = max_discount\n",
      "C:\\Users\\devenderjhinkwan\\AppData\\Local\\Temp\\ipykernel_21788\\1298900119.py:29: SettingWithCopyWarning: \n",
      "A value is trying to be set on a copy of a slice from a DataFrame\n",
      "\n",
      "See the caveats in the documentation: https://pandas.pydata.org/pandas-docs/stable/user_guide/indexing.html#returning-a-view-versus-a-copy\n",
      "  output_data['IBD Bank Name/UPI'][i] = bank_name\n",
      "C:\\Users\\devenderjhinkwan\\AppData\\Local\\Temp\\ipykernel_21788\\1298900119.py:30: SettingWithCopyWarning: \n",
      "A value is trying to be set on a copy of a slice from a DataFrame\n",
      "\n",
      "See the caveats in the documentation: https://pandas.pydata.org/pandas-docs/stable/user_guide/indexing.html#returning-a-view-versus-a-copy\n",
      "  output_data['Min Swipe'][i]= min_swipe\n"
     ]
    },
    {
     "name": "stdout",
     "output_type": "stream",
     "text": [
      "FEW SHOT INTERFERENCE-OPEN AI: \n",
      "{'role': 'assistant', 'content': None, 'tool_calls': [{'id': 'call_gZ4A5zCAVtwwQVvnsyyjcSWE', 'type': 'function', 'function': {'name': 'offer_formatted_output', 'arguments': '{\\n\"discount_amount\": 0\\n}'}}]}\n",
      "600.00\n",
      "value of i 28\n"
     ]
    },
    {
     "name": "stderr",
     "output_type": "stream",
     "text": [
      "C:\\Users\\devenderjhinkwan\\AppData\\Local\\Temp\\ipykernel_21788\\1298900119.py:28: SettingWithCopyWarning: \n",
      "A value is trying to be set on a copy of a slice from a DataFrame\n",
      "\n",
      "See the caveats in the documentation: https://pandas.pydata.org/pandas-docs/stable/user_guide/indexing.html#returning-a-view-versus-a-copy\n",
      "  output_data[\"Max Discount\"][i] = max_discount\n",
      "C:\\Users\\devenderjhinkwan\\AppData\\Local\\Temp\\ipykernel_21788\\1298900119.py:29: SettingWithCopyWarning: \n",
      "A value is trying to be set on a copy of a slice from a DataFrame\n",
      "\n",
      "See the caveats in the documentation: https://pandas.pydata.org/pandas-docs/stable/user_guide/indexing.html#returning-a-view-versus-a-copy\n",
      "  output_data['IBD Bank Name/UPI'][i] = bank_name\n",
      "C:\\Users\\devenderjhinkwan\\AppData\\Local\\Temp\\ipykernel_21788\\1298900119.py:30: SettingWithCopyWarning: \n",
      "A value is trying to be set on a copy of a slice from a DataFrame\n",
      "\n",
      "See the caveats in the documentation: https://pandas.pydata.org/pandas-docs/stable/user_guide/indexing.html#returning-a-view-versus-a-copy\n",
      "  output_data['Min Swipe'][i]= min_swipe\n"
     ]
    },
    {
     "name": "stdout",
     "output_type": "stream",
     "text": [
      "FEW SHOT INTERFERENCE-OPEN AI: \n",
      "{'role': 'assistant', 'content': None, 'tool_calls': [{'id': 'call_2yz06MiyNIB1kfV0ygraclO1', 'type': 'function', 'function': {'name': 'offer_formatted_output', 'arguments': '{\\n\"discount_amount\": 0\\n}'}}]}\n",
      "600.00\n",
      "value of i 29\n"
     ]
    },
    {
     "name": "stderr",
     "output_type": "stream",
     "text": [
      "C:\\Users\\devenderjhinkwan\\AppData\\Local\\Temp\\ipykernel_21788\\1298900119.py:28: SettingWithCopyWarning: \n",
      "A value is trying to be set on a copy of a slice from a DataFrame\n",
      "\n",
      "See the caveats in the documentation: https://pandas.pydata.org/pandas-docs/stable/user_guide/indexing.html#returning-a-view-versus-a-copy\n",
      "  output_data[\"Max Discount\"][i] = max_discount\n",
      "C:\\Users\\devenderjhinkwan\\AppData\\Local\\Temp\\ipykernel_21788\\1298900119.py:29: SettingWithCopyWarning: \n",
      "A value is trying to be set on a copy of a slice from a DataFrame\n",
      "\n",
      "See the caveats in the documentation: https://pandas.pydata.org/pandas-docs/stable/user_guide/indexing.html#returning-a-view-versus-a-copy\n",
      "  output_data['IBD Bank Name/UPI'][i] = bank_name\n",
      "C:\\Users\\devenderjhinkwan\\AppData\\Local\\Temp\\ipykernel_21788\\1298900119.py:30: SettingWithCopyWarning: \n",
      "A value is trying to be set on a copy of a slice from a DataFrame\n",
      "\n",
      "See the caveats in the documentation: https://pandas.pydata.org/pandas-docs/stable/user_guide/indexing.html#returning-a-view-versus-a-copy\n",
      "  output_data['Min Swipe'][i]= min_swipe\n"
     ]
    },
    {
     "name": "stdout",
     "output_type": "stream",
     "text": [
      "FEW SHOT INTERFERENCE-OPEN AI: \n",
      "{'role': 'assistant', 'content': None, 'tool_calls': [{'id': 'call_sUp07oYsEMrA5IgWpplXqcxv', 'type': 'function', 'function': {'name': 'offer_formatted_output', 'arguments': '{\\n\"discount_amount\": 0\\n}'}}]}\n",
      "600.00\n",
      "value of i 30\n"
     ]
    },
    {
     "name": "stderr",
     "output_type": "stream",
     "text": [
      "C:\\Users\\devenderjhinkwan\\AppData\\Local\\Temp\\ipykernel_21788\\1298900119.py:28: SettingWithCopyWarning: \n",
      "A value is trying to be set on a copy of a slice from a DataFrame\n",
      "\n",
      "See the caveats in the documentation: https://pandas.pydata.org/pandas-docs/stable/user_guide/indexing.html#returning-a-view-versus-a-copy\n",
      "  output_data[\"Max Discount\"][i] = max_discount\n",
      "C:\\Users\\devenderjhinkwan\\AppData\\Local\\Temp\\ipykernel_21788\\1298900119.py:29: SettingWithCopyWarning: \n",
      "A value is trying to be set on a copy of a slice from a DataFrame\n",
      "\n",
      "See the caveats in the documentation: https://pandas.pydata.org/pandas-docs/stable/user_guide/indexing.html#returning-a-view-versus-a-copy\n",
      "  output_data['IBD Bank Name/UPI'][i] = bank_name\n",
      "C:\\Users\\devenderjhinkwan\\AppData\\Local\\Temp\\ipykernel_21788\\1298900119.py:30: SettingWithCopyWarning: \n",
      "A value is trying to be set on a copy of a slice from a DataFrame\n",
      "\n",
      "See the caveats in the documentation: https://pandas.pydata.org/pandas-docs/stable/user_guide/indexing.html#returning-a-view-versus-a-copy\n",
      "  output_data['Min Swipe'][i]= min_swipe\n"
     ]
    },
    {
     "name": "stdout",
     "output_type": "stream",
     "text": [
      "FEW SHOT INTERFERENCE-OPEN AI: \n",
      "{'role': 'assistant', 'content': None, 'tool_calls': [{'id': 'call_YqD3t4qMDpxmJYjvr6oMLUAF', 'type': 'function', 'function': {'name': 'offer_formatted_output', 'arguments': '{\\n\"discount_bank\": \"OneCard Credit Card\",\\n\"discount_amount\": 350,\\n\"discount_minimum_purchase\": 7500\\n}'}}]}\n",
      "600.00\n",
      "value of i 31\n"
     ]
    },
    {
     "name": "stderr",
     "output_type": "stream",
     "text": [
      "C:\\Users\\devenderjhinkwan\\AppData\\Local\\Temp\\ipykernel_21788\\1298900119.py:28: SettingWithCopyWarning: \n",
      "A value is trying to be set on a copy of a slice from a DataFrame\n",
      "\n",
      "See the caveats in the documentation: https://pandas.pydata.org/pandas-docs/stable/user_guide/indexing.html#returning-a-view-versus-a-copy\n",
      "  output_data[\"Max Discount\"][i] = max_discount\n",
      "C:\\Users\\devenderjhinkwan\\AppData\\Local\\Temp\\ipykernel_21788\\1298900119.py:29: SettingWithCopyWarning: \n",
      "A value is trying to be set on a copy of a slice from a DataFrame\n",
      "\n",
      "See the caveats in the documentation: https://pandas.pydata.org/pandas-docs/stable/user_guide/indexing.html#returning-a-view-versus-a-copy\n",
      "  output_data['IBD Bank Name/UPI'][i] = bank_name\n",
      "C:\\Users\\devenderjhinkwan\\AppData\\Local\\Temp\\ipykernel_21788\\1298900119.py:30: SettingWithCopyWarning: \n",
      "A value is trying to be set on a copy of a slice from a DataFrame\n",
      "\n",
      "See the caveats in the documentation: https://pandas.pydata.org/pandas-docs/stable/user_guide/indexing.html#returning-a-view-versus-a-copy\n",
      "  output_data['Min Swipe'][i]= min_swipe\n"
     ]
    },
    {
     "name": "stdout",
     "output_type": "stream",
     "text": [
      "FEW SHOT INTERFERENCE-OPEN AI: \n",
      "{'role': 'assistant', 'content': None, 'tool_calls': [{'id': 'call_AOK3uIihHIVnb1T2QweVKkEl', 'type': 'function', 'function': {'name': 'offer_formatted_output', 'arguments': '{\\n\"discount_amount\": 350,\\n\"discount_bank\": \"OneCard Credit Card\",\\n\"discount_minimum_purchase\": 7500\\n}'}}]}\n",
      "600.00\n",
      "value of i 32\n"
     ]
    },
    {
     "name": "stderr",
     "output_type": "stream",
     "text": [
      "C:\\Users\\devenderjhinkwan\\AppData\\Local\\Temp\\ipykernel_21788\\1298900119.py:28: SettingWithCopyWarning: \n",
      "A value is trying to be set on a copy of a slice from a DataFrame\n",
      "\n",
      "See the caveats in the documentation: https://pandas.pydata.org/pandas-docs/stable/user_guide/indexing.html#returning-a-view-versus-a-copy\n",
      "  output_data[\"Max Discount\"][i] = max_discount\n",
      "C:\\Users\\devenderjhinkwan\\AppData\\Local\\Temp\\ipykernel_21788\\1298900119.py:29: SettingWithCopyWarning: \n",
      "A value is trying to be set on a copy of a slice from a DataFrame\n",
      "\n",
      "See the caveats in the documentation: https://pandas.pydata.org/pandas-docs/stable/user_guide/indexing.html#returning-a-view-versus-a-copy\n",
      "  output_data['IBD Bank Name/UPI'][i] = bank_name\n",
      "C:\\Users\\devenderjhinkwan\\AppData\\Local\\Temp\\ipykernel_21788\\1298900119.py:30: SettingWithCopyWarning: \n",
      "A value is trying to be set on a copy of a slice from a DataFrame\n",
      "\n",
      "See the caveats in the documentation: https://pandas.pydata.org/pandas-docs/stable/user_guide/indexing.html#returning-a-view-versus-a-copy\n",
      "  output_data['Min Swipe'][i]= min_swipe\n"
     ]
    },
    {
     "name": "stdout",
     "output_type": "stream",
     "text": [
      "FEW SHOT INTERFERENCE-OPEN AI: \n",
      "{'role': 'assistant', 'content': None, 'tool_calls': [{'id': 'call_2yz06MiyNIB1kfV0ygraclO1', 'type': 'function', 'function': {'name': 'offer_formatted_output', 'arguments': '{\\n\"discount_amount\": 350,\\n\"discount_bank\": \"OneCard Credit Card\",\\n\"discount_minimum_purchase\": 7500\\n}'}}]}\n",
      "600.00\n",
      "value of i 33\n"
     ]
    },
    {
     "name": "stderr",
     "output_type": "stream",
     "text": [
      "C:\\Users\\devenderjhinkwan\\AppData\\Local\\Temp\\ipykernel_21788\\1298900119.py:28: SettingWithCopyWarning: \n",
      "A value is trying to be set on a copy of a slice from a DataFrame\n",
      "\n",
      "See the caveats in the documentation: https://pandas.pydata.org/pandas-docs/stable/user_guide/indexing.html#returning-a-view-versus-a-copy\n",
      "  output_data[\"Max Discount\"][i] = max_discount\n",
      "C:\\Users\\devenderjhinkwan\\AppData\\Local\\Temp\\ipykernel_21788\\1298900119.py:29: SettingWithCopyWarning: \n",
      "A value is trying to be set on a copy of a slice from a DataFrame\n",
      "\n",
      "See the caveats in the documentation: https://pandas.pydata.org/pandas-docs/stable/user_guide/indexing.html#returning-a-view-versus-a-copy\n",
      "  output_data['IBD Bank Name/UPI'][i] = bank_name\n",
      "C:\\Users\\devenderjhinkwan\\AppData\\Local\\Temp\\ipykernel_21788\\1298900119.py:30: SettingWithCopyWarning: \n",
      "A value is trying to be set on a copy of a slice from a DataFrame\n",
      "\n",
      "See the caveats in the documentation: https://pandas.pydata.org/pandas-docs/stable/user_guide/indexing.html#returning-a-view-versus-a-copy\n",
      "  output_data['Min Swipe'][i]= min_swipe\n"
     ]
    },
    {
     "name": "stdout",
     "output_type": "stream",
     "text": [
      "FEW SHOT INTERFERENCE-OPEN AI: \n",
      "{'role': 'assistant', 'content': None, 'tool_calls': [{'id': 'call_LYD5SJZ7qYQmRm1q6lnQCgxD', 'type': 'function', 'function': {'name': 'offer_formatted_output', 'arguments': '{\\n\"discount_bank\": \"OneCard Credit Card\",\\n\"discount_amount\": 350,\\n\"discount_minimum_purchase\": 7500\\n}'}}]}\n",
      "600.00\n",
      "value of i 34\n"
     ]
    },
    {
     "name": "stderr",
     "output_type": "stream",
     "text": [
      "C:\\Users\\devenderjhinkwan\\AppData\\Local\\Temp\\ipykernel_21788\\1298900119.py:28: SettingWithCopyWarning: \n",
      "A value is trying to be set on a copy of a slice from a DataFrame\n",
      "\n",
      "See the caveats in the documentation: https://pandas.pydata.org/pandas-docs/stable/user_guide/indexing.html#returning-a-view-versus-a-copy\n",
      "  output_data[\"Max Discount\"][i] = max_discount\n",
      "C:\\Users\\devenderjhinkwan\\AppData\\Local\\Temp\\ipykernel_21788\\1298900119.py:29: SettingWithCopyWarning: \n",
      "A value is trying to be set on a copy of a slice from a DataFrame\n",
      "\n",
      "See the caveats in the documentation: https://pandas.pydata.org/pandas-docs/stable/user_guide/indexing.html#returning-a-view-versus-a-copy\n",
      "  output_data['IBD Bank Name/UPI'][i] = bank_name\n",
      "C:\\Users\\devenderjhinkwan\\AppData\\Local\\Temp\\ipykernel_21788\\1298900119.py:30: SettingWithCopyWarning: \n",
      "A value is trying to be set on a copy of a slice from a DataFrame\n",
      "\n",
      "See the caveats in the documentation: https://pandas.pydata.org/pandas-docs/stable/user_guide/indexing.html#returning-a-view-versus-a-copy\n",
      "  output_data['Min Swipe'][i]= min_swipe\n"
     ]
    },
    {
     "name": "stdout",
     "output_type": "stream",
     "text": [
      "FEW SHOT INTERFERENCE-OPEN AI: \n",
      "{'role': 'assistant', 'content': None, 'tool_calls': [{'id': 'call_atpOGLWLLt9OdxWWuBkb5Gsg', 'type': 'function', 'function': {'name': 'offer_formatted_output', 'arguments': '{\\n\"discount_bank\": \"OneCard Credit Card\",\\n\"discount_amount\": 350,\\n\"discount_minimum_purchase\": 7500\\n}'}}]}\n",
      "600.00\n",
      "value of i 35\n"
     ]
    },
    {
     "name": "stderr",
     "output_type": "stream",
     "text": [
      "C:\\Users\\devenderjhinkwan\\AppData\\Local\\Temp\\ipykernel_21788\\1298900119.py:28: SettingWithCopyWarning: \n",
      "A value is trying to be set on a copy of a slice from a DataFrame\n",
      "\n",
      "See the caveats in the documentation: https://pandas.pydata.org/pandas-docs/stable/user_guide/indexing.html#returning-a-view-versus-a-copy\n",
      "  output_data[\"Max Discount\"][i] = max_discount\n",
      "C:\\Users\\devenderjhinkwan\\AppData\\Local\\Temp\\ipykernel_21788\\1298900119.py:29: SettingWithCopyWarning: \n",
      "A value is trying to be set on a copy of a slice from a DataFrame\n",
      "\n",
      "See the caveats in the documentation: https://pandas.pydata.org/pandas-docs/stable/user_guide/indexing.html#returning-a-view-versus-a-copy\n",
      "  output_data['IBD Bank Name/UPI'][i] = bank_name\n",
      "C:\\Users\\devenderjhinkwan\\AppData\\Local\\Temp\\ipykernel_21788\\1298900119.py:30: SettingWithCopyWarning: \n",
      "A value is trying to be set on a copy of a slice from a DataFrame\n",
      "\n",
      "See the caveats in the documentation: https://pandas.pydata.org/pandas-docs/stable/user_guide/indexing.html#returning-a-view-versus-a-copy\n",
      "  output_data['Min Swipe'][i]= min_swipe\n"
     ]
    },
    {
     "name": "stdout",
     "output_type": "stream",
     "text": [
      "FEW SHOT INTERFERENCE-OPEN AI: \n",
      "{'role': 'assistant', 'content': None, 'tool_calls': [{'id': 'call_w2KPrWbXIjgAO8lxRLbTgIsR', 'type': 'function', 'function': {'name': 'offer_formatted_output', 'arguments': '{\\n\"discount_bank\": \"OneCard Credit Card\",\\n\"discount_amount\": 350,\\n\"discount_minimum_purchase\": 7500\\n}'}}]}\n",
      "600.00\n",
      "value of i 36\n"
     ]
    },
    {
     "name": "stderr",
     "output_type": "stream",
     "text": [
      "C:\\Users\\devenderjhinkwan\\AppData\\Local\\Temp\\ipykernel_21788\\1298900119.py:28: SettingWithCopyWarning: \n",
      "A value is trying to be set on a copy of a slice from a DataFrame\n",
      "\n",
      "See the caveats in the documentation: https://pandas.pydata.org/pandas-docs/stable/user_guide/indexing.html#returning-a-view-versus-a-copy\n",
      "  output_data[\"Max Discount\"][i] = max_discount\n",
      "C:\\Users\\devenderjhinkwan\\AppData\\Local\\Temp\\ipykernel_21788\\1298900119.py:29: SettingWithCopyWarning: \n",
      "A value is trying to be set on a copy of a slice from a DataFrame\n",
      "\n",
      "See the caveats in the documentation: https://pandas.pydata.org/pandas-docs/stable/user_guide/indexing.html#returning-a-view-versus-a-copy\n",
      "  output_data['IBD Bank Name/UPI'][i] = bank_name\n",
      "C:\\Users\\devenderjhinkwan\\AppData\\Local\\Temp\\ipykernel_21788\\1298900119.py:30: SettingWithCopyWarning: \n",
      "A value is trying to be set on a copy of a slice from a DataFrame\n",
      "\n",
      "See the caveats in the documentation: https://pandas.pydata.org/pandas-docs/stable/user_guide/indexing.html#returning-a-view-versus-a-copy\n",
      "  output_data['Min Swipe'][i]= min_swipe\n"
     ]
    },
    {
     "name": "stdout",
     "output_type": "stream",
     "text": [
      "FEW SHOT INTERFERENCE-OPEN AI: \n",
      "{'role': 'assistant', 'content': None, 'tool_calls': [{'id': 'call_Tfx8vpYucLB24zk55ac0YAEk', 'type': 'function', 'function': {'name': 'offer_formatted_output', 'arguments': '{\\n\"discount_bank\": \"None\",\\n\"discount_amount\": 0,\\n\"discount_minimum_purchase\": 6499\\n}'}}]}\n",
      "600.00\n",
      "value of i 37\n"
     ]
    },
    {
     "name": "stderr",
     "output_type": "stream",
     "text": [
      "C:\\Users\\devenderjhinkwan\\AppData\\Local\\Temp\\ipykernel_21788\\1298900119.py:28: SettingWithCopyWarning: \n",
      "A value is trying to be set on a copy of a slice from a DataFrame\n",
      "\n",
      "See the caveats in the documentation: https://pandas.pydata.org/pandas-docs/stable/user_guide/indexing.html#returning-a-view-versus-a-copy\n",
      "  output_data[\"Max Discount\"][i] = max_discount\n",
      "C:\\Users\\devenderjhinkwan\\AppData\\Local\\Temp\\ipykernel_21788\\1298900119.py:29: SettingWithCopyWarning: \n",
      "A value is trying to be set on a copy of a slice from a DataFrame\n",
      "\n",
      "See the caveats in the documentation: https://pandas.pydata.org/pandas-docs/stable/user_guide/indexing.html#returning-a-view-versus-a-copy\n",
      "  output_data['IBD Bank Name/UPI'][i] = bank_name\n",
      "C:\\Users\\devenderjhinkwan\\AppData\\Local\\Temp\\ipykernel_21788\\1298900119.py:30: SettingWithCopyWarning: \n",
      "A value is trying to be set on a copy of a slice from a DataFrame\n",
      "\n",
      "See the caveats in the documentation: https://pandas.pydata.org/pandas-docs/stable/user_guide/indexing.html#returning-a-view-versus-a-copy\n",
      "  output_data['Min Swipe'][i]= min_swipe\n"
     ]
    },
    {
     "name": "stdout",
     "output_type": "stream",
     "text": [
      "FEW SHOT INTERFERENCE-OPEN AI: \n",
      "{'role': 'assistant', 'content': None, 'tool_calls': [{'id': 'call_gGUgZZyv4tUWJO09HTvxbRLe', 'type': 'function', 'function': {'name': 'offer_formatted_output', 'arguments': '{\\n  \"discount_amount\": 0\\n}'}}]}\n",
      "600.00\n",
      "value of i 38\n"
     ]
    },
    {
     "name": "stderr",
     "output_type": "stream",
     "text": [
      "C:\\Users\\devenderjhinkwan\\AppData\\Local\\Temp\\ipykernel_21788\\1298900119.py:28: SettingWithCopyWarning: \n",
      "A value is trying to be set on a copy of a slice from a DataFrame\n",
      "\n",
      "See the caveats in the documentation: https://pandas.pydata.org/pandas-docs/stable/user_guide/indexing.html#returning-a-view-versus-a-copy\n",
      "  output_data[\"Max Discount\"][i] = max_discount\n",
      "C:\\Users\\devenderjhinkwan\\AppData\\Local\\Temp\\ipykernel_21788\\1298900119.py:29: SettingWithCopyWarning: \n",
      "A value is trying to be set on a copy of a slice from a DataFrame\n",
      "\n",
      "See the caveats in the documentation: https://pandas.pydata.org/pandas-docs/stable/user_guide/indexing.html#returning-a-view-versus-a-copy\n",
      "  output_data['IBD Bank Name/UPI'][i] = bank_name\n",
      "C:\\Users\\devenderjhinkwan\\AppData\\Local\\Temp\\ipykernel_21788\\1298900119.py:30: SettingWithCopyWarning: \n",
      "A value is trying to be set on a copy of a slice from a DataFrame\n",
      "\n",
      "See the caveats in the documentation: https://pandas.pydata.org/pandas-docs/stable/user_guide/indexing.html#returning-a-view-versus-a-copy\n",
      "  output_data['Min Swipe'][i]= min_swipe\n"
     ]
    },
    {
     "name": "stdout",
     "output_type": "stream",
     "text": [
      "FEW SHOT INTERFERENCE-OPEN AI: \n",
      "{'role': 'assistant', 'content': None, 'tool_calls': [{'id': 'call_jIUeHyzjxDRawPiU4Zkk8jIx', 'type': 'function', 'function': {'name': 'offer_formatted_output', 'arguments': '{\\n\"discount_bank\": \"HDFC Bank Credit Card\",\\n\"discount_amount\": 750,\\n\"discount_minimum_purchase\": 7500\\n}'}}]}\n",
      "600.00\n",
      "value of i 39\n"
     ]
    },
    {
     "name": "stderr",
     "output_type": "stream",
     "text": [
      "C:\\Users\\devenderjhinkwan\\AppData\\Local\\Temp\\ipykernel_21788\\1298900119.py:28: SettingWithCopyWarning: \n",
      "A value is trying to be set on a copy of a slice from a DataFrame\n",
      "\n",
      "See the caveats in the documentation: https://pandas.pydata.org/pandas-docs/stable/user_guide/indexing.html#returning-a-view-versus-a-copy\n",
      "  output_data[\"Max Discount\"][i] = max_discount\n",
      "C:\\Users\\devenderjhinkwan\\AppData\\Local\\Temp\\ipykernel_21788\\1298900119.py:29: SettingWithCopyWarning: \n",
      "A value is trying to be set on a copy of a slice from a DataFrame\n",
      "\n",
      "See the caveats in the documentation: https://pandas.pydata.org/pandas-docs/stable/user_guide/indexing.html#returning-a-view-versus-a-copy\n",
      "  output_data['IBD Bank Name/UPI'][i] = bank_name\n",
      "C:\\Users\\devenderjhinkwan\\AppData\\Local\\Temp\\ipykernel_21788\\1298900119.py:30: SettingWithCopyWarning: \n",
      "A value is trying to be set on a copy of a slice from a DataFrame\n",
      "\n",
      "See the caveats in the documentation: https://pandas.pydata.org/pandas-docs/stable/user_guide/indexing.html#returning-a-view-versus-a-copy\n",
      "  output_data['Min Swipe'][i]= min_swipe\n"
     ]
    },
    {
     "name": "stdout",
     "output_type": "stream",
     "text": [
      "FEW SHOT INTERFERENCE-OPEN AI: \n",
      "{'role': 'assistant', 'content': None, 'tool_calls': [{'id': 'call_AsV7KifYAwFeXNlBYWYiPS3S', 'type': 'function', 'function': {'name': 'offer_formatted_output', 'arguments': '{\\n\"discount_bank\": \"Citibank\",\\n\"discount_amount\": 709,\\n\"discount_minimum_purchase\": 5000\\n}'}}]}\n",
      "600.00\n",
      "value of i 40\n"
     ]
    },
    {
     "name": "stderr",
     "output_type": "stream",
     "text": [
      "C:\\Users\\devenderjhinkwan\\AppData\\Local\\Temp\\ipykernel_21788\\1298900119.py:28: SettingWithCopyWarning: \n",
      "A value is trying to be set on a copy of a slice from a DataFrame\n",
      "\n",
      "See the caveats in the documentation: https://pandas.pydata.org/pandas-docs/stable/user_guide/indexing.html#returning-a-view-versus-a-copy\n",
      "  output_data[\"Max Discount\"][i] = max_discount\n",
      "C:\\Users\\devenderjhinkwan\\AppData\\Local\\Temp\\ipykernel_21788\\1298900119.py:29: SettingWithCopyWarning: \n",
      "A value is trying to be set on a copy of a slice from a DataFrame\n",
      "\n",
      "See the caveats in the documentation: https://pandas.pydata.org/pandas-docs/stable/user_guide/indexing.html#returning-a-view-versus-a-copy\n",
      "  output_data['IBD Bank Name/UPI'][i] = bank_name\n",
      "C:\\Users\\devenderjhinkwan\\AppData\\Local\\Temp\\ipykernel_21788\\1298900119.py:30: SettingWithCopyWarning: \n",
      "A value is trying to be set on a copy of a slice from a DataFrame\n",
      "\n",
      "See the caveats in the documentation: https://pandas.pydata.org/pandas-docs/stable/user_guide/indexing.html#returning-a-view-versus-a-copy\n",
      "  output_data['Min Swipe'][i]= min_swipe\n"
     ]
    },
    {
     "name": "stdout",
     "output_type": "stream",
     "text": [
      "FEW SHOT INTERFERENCE-OPEN AI: \n",
      "{'role': 'assistant', 'content': None, 'tool_calls': [{'id': 'call_HqNvfZxIsgqbxEFxRmvnfdef', 'type': 'function', 'function': {'name': 'offer_formatted_output', 'arguments': '{\\n\"discount_amount\": 0\\n}'}}]}\n",
      "600.00\n",
      "value of i 41\n"
     ]
    },
    {
     "name": "stderr",
     "output_type": "stream",
     "text": [
      "C:\\Users\\devenderjhinkwan\\AppData\\Local\\Temp\\ipykernel_21788\\1298900119.py:28: SettingWithCopyWarning: \n",
      "A value is trying to be set on a copy of a slice from a DataFrame\n",
      "\n",
      "See the caveats in the documentation: https://pandas.pydata.org/pandas-docs/stable/user_guide/indexing.html#returning-a-view-versus-a-copy\n",
      "  output_data[\"Max Discount\"][i] = max_discount\n",
      "C:\\Users\\devenderjhinkwan\\AppData\\Local\\Temp\\ipykernel_21788\\1298900119.py:29: SettingWithCopyWarning: \n",
      "A value is trying to be set on a copy of a slice from a DataFrame\n",
      "\n",
      "See the caveats in the documentation: https://pandas.pydata.org/pandas-docs/stable/user_guide/indexing.html#returning-a-view-versus-a-copy\n",
      "  output_data['IBD Bank Name/UPI'][i] = bank_name\n",
      "C:\\Users\\devenderjhinkwan\\AppData\\Local\\Temp\\ipykernel_21788\\1298900119.py:30: SettingWithCopyWarning: \n",
      "A value is trying to be set on a copy of a slice from a DataFrame\n",
      "\n",
      "See the caveats in the documentation: https://pandas.pydata.org/pandas-docs/stable/user_guide/indexing.html#returning-a-view-versus-a-copy\n",
      "  output_data['Min Swipe'][i]= min_swipe\n"
     ]
    },
    {
     "name": "stdout",
     "output_type": "stream",
     "text": [
      "FEW SHOT INTERFERENCE-OPEN AI: \n",
      "{'role': 'assistant', 'content': None, 'tool_calls': [{'id': 'call_jIUeHyzjxDRawPiU4Zkk8jIx', 'type': 'function', 'function': {'name': 'offer_formatted_output', 'arguments': '{\\n\"discount_bank\": \"ALL Banks Card\",\\n\"discount_amount\": 1000,\\n\"discount_minimum_purchase\": 12499\\n}'}}]}\n",
      "1600.00\n",
      "value of i 42\n"
     ]
    },
    {
     "name": "stderr",
     "output_type": "stream",
     "text": [
      "C:\\Users\\devenderjhinkwan\\AppData\\Local\\Temp\\ipykernel_21788\\1298900119.py:28: SettingWithCopyWarning: \n",
      "A value is trying to be set on a copy of a slice from a DataFrame\n",
      "\n",
      "See the caveats in the documentation: https://pandas.pydata.org/pandas-docs/stable/user_guide/indexing.html#returning-a-view-versus-a-copy\n",
      "  output_data[\"Max Discount\"][i] = max_discount\n",
      "C:\\Users\\devenderjhinkwan\\AppData\\Local\\Temp\\ipykernel_21788\\1298900119.py:29: SettingWithCopyWarning: \n",
      "A value is trying to be set on a copy of a slice from a DataFrame\n",
      "\n",
      "See the caveats in the documentation: https://pandas.pydata.org/pandas-docs/stable/user_guide/indexing.html#returning-a-view-versus-a-copy\n",
      "  output_data['IBD Bank Name/UPI'][i] = bank_name\n",
      "C:\\Users\\devenderjhinkwan\\AppData\\Local\\Temp\\ipykernel_21788\\1298900119.py:30: SettingWithCopyWarning: \n",
      "A value is trying to be set on a copy of a slice from a DataFrame\n",
      "\n",
      "See the caveats in the documentation: https://pandas.pydata.org/pandas-docs/stable/user_guide/indexing.html#returning-a-view-versus-a-copy\n",
      "  output_data['Min Swipe'][i]= min_swipe\n"
     ]
    },
    {
     "name": "stdout",
     "output_type": "stream",
     "text": [
      "FEW SHOT INTERFERENCE-OPEN AI: \n",
      "{'role': 'assistant', 'content': None, 'tool_calls': [{'id': 'call_iWvVjGc7lHZUkx0LrBKuAcVM', 'type': 'function', 'function': {'name': 'offer_formatted_output', 'arguments': '{\\n\"discount_bank\": \"ALL Banks Card\",\\n\"discount_amount\": 1000,\\n\"discount_minimum_purchase\": 14499\\n}'}}]}\n",
      "1600.00\n",
      "value of i 43\n"
     ]
    },
    {
     "name": "stderr",
     "output_type": "stream",
     "text": [
      "C:\\Users\\devenderjhinkwan\\AppData\\Local\\Temp\\ipykernel_21788\\1298900119.py:28: SettingWithCopyWarning: \n",
      "A value is trying to be set on a copy of a slice from a DataFrame\n",
      "\n",
      "See the caveats in the documentation: https://pandas.pydata.org/pandas-docs/stable/user_guide/indexing.html#returning-a-view-versus-a-copy\n",
      "  output_data[\"Max Discount\"][i] = max_discount\n",
      "C:\\Users\\devenderjhinkwan\\AppData\\Local\\Temp\\ipykernel_21788\\1298900119.py:29: SettingWithCopyWarning: \n",
      "A value is trying to be set on a copy of a slice from a DataFrame\n",
      "\n",
      "See the caveats in the documentation: https://pandas.pydata.org/pandas-docs/stable/user_guide/indexing.html#returning-a-view-versus-a-copy\n",
      "  output_data['IBD Bank Name/UPI'][i] = bank_name\n",
      "C:\\Users\\devenderjhinkwan\\AppData\\Local\\Temp\\ipykernel_21788\\1298900119.py:30: SettingWithCopyWarning: \n",
      "A value is trying to be set on a copy of a slice from a DataFrame\n",
      "\n",
      "See the caveats in the documentation: https://pandas.pydata.org/pandas-docs/stable/user_guide/indexing.html#returning-a-view-versus-a-copy\n",
      "  output_data['Min Swipe'][i]= min_swipe\n"
     ]
    },
    {
     "ename": "KeyboardInterrupt",
     "evalue": "",
     "output_type": "error",
     "traceback": [
      "\u001b[1;31m---------------------------------------------------------------------------\u001b[0m",
      "\u001b[1;31mKeyboardInterrupt\u001b[0m                         Traceback (most recent call last)",
      "Cell \u001b[1;32mIn[67], line 16\u001b[0m\n\u001b[0;32m      5\u001b[0m content \u001b[38;5;241m=\u001b[39m create_content(sku_price, sku_offers)\n\u001b[0;32m      6\u001b[0m messages \u001b[38;5;241m=\u001b[39m [\n\u001b[0;32m      7\u001b[0m {\u001b[38;5;124m\"\u001b[39m\u001b[38;5;124mrole\u001b[39m\u001b[38;5;124m\"\u001b[39m: \u001b[38;5;124m\"\u001b[39m\u001b[38;5;124msystem\u001b[39m\u001b[38;5;124m\"\u001b[39m, \u001b[38;5;124m\"\u001b[39m\u001b[38;5;124mcontent\u001b[39m\u001b[38;5;124m\"\u001b[39m: \u001b[38;5;124m\"\u001b[39m\u001b[38;5;124mYou are a helpful assistant which helps in the identification of the best offer. If any offer have more than one discount \u001b[39m\u001b[38;5;132;01m% a\u001b[39;00m\u001b[38;5;124mlways take the higher one. Ignore the offer with EMI Plan\u001b[39m\u001b[38;5;124m\"\u001b[39m},\n\u001b[0;32m      8\u001b[0m {\u001b[38;5;124m\"\u001b[39m\u001b[38;5;124mrole\u001b[39m\u001b[38;5;124m\"\u001b[39m: \u001b[38;5;124m\"\u001b[39m\u001b[38;5;124muser\u001b[39m\u001b[38;5;124m\"\u001b[39m, \u001b[38;5;124m\"\u001b[39m\u001b[38;5;124mcontent\u001b[39m\u001b[38;5;124m\"\u001b[39m: \u001b[38;5;124m\"\u001b[39m\u001b[38;5;124mThe Price of SKU is 17999\u001b[39m\u001b[38;5;130;01m\\n\u001b[39;00m\u001b[38;5;130;01m\\n\u001b[39;00m\u001b[38;5;124mOffers:\u001b[39m\u001b[38;5;130;01m\\n\u001b[39;00m\u001b[38;5;130;01m\\n\u001b[39;00m\u001b[38;5;124m1. Get 5\u001b[39m\u001b[38;5;124m%\u001b[39m\u001b[38;5;124m back with Amazon Pay ICICI Bank credit card for Prime members. 3\u001b[39m\u001b[38;5;124m%\u001b[39m\u001b[38;5;124m back for others. Not applicable on Amazon business transactions.\u001b[39m\u001b[38;5;130;01m\\n\u001b[39;00m\u001b[38;5;124m2. ₹100 cashback & ₹500 welcome rewards on Amazon Pay Later. Activate now. Pay next month at Zero interest or in EMIs! T&C apply.\u001b[39m\u001b[38;5;130;01m\\n\u001b[39;00m\u001b[38;5;124m3. Flat INR 500 Instant Discount on ICICI Bank Credit Cards (excluding Amazon Pay ICICI Credit Card) Credit Card Txn. Minimum purchase 4. value INR 15999\u001b[39m\u001b[38;5;130;01m\\n\u001b[39;00m\u001b[38;5;124m4. Flat INR 750 Instant Discount on OneCard Credit Card Non EMI Txn. Minimum purchase value INR 15999\u001b[39m\u001b[38;5;130;01m\\n\u001b[39;00m\u001b[38;5;124m5. Flat ₹3,000 off on HDFC Bank Credit Card EMI Trxns on orders priced ₹50,000 and above\u001b[39m\u001b[38;5;130;01m\\n\u001b[39;00m\u001b[38;5;130;01m\\n\u001b[39;00m\u001b[38;5;124mWhich is the best offer?\u001b[39m\u001b[38;5;124m\"\u001b[39m},\n\u001b[1;32m   (...)\u001b[0m\n\u001b[0;32m     14\u001b[0m {\u001b[38;5;124m\"\u001b[39m\u001b[38;5;124mrole\u001b[39m\u001b[38;5;124m\"\u001b[39m: \u001b[38;5;124m\"\u001b[39m\u001b[38;5;124muser\u001b[39m\u001b[38;5;124m\"\u001b[39m, \u001b[38;5;124m\"\u001b[39m\u001b[38;5;124mcontent\u001b[39m\u001b[38;5;124m\"\u001b[39m: content}\n\u001b[0;32m     15\u001b[0m ]\n\u001b[1;32m---> 16\u001b[0m output\u001b[38;5;241m=\u001b[39m\u001b[43mchat_completion_request\u001b[49m\u001b[43m(\u001b[49m\u001b[43mmessages\u001b[49m\u001b[43m,\u001b[49m\u001b[43m \u001b[49m\u001b[43mtools\u001b[49m\u001b[38;5;241;43m=\u001b[39;49m\u001b[43mtools\u001b[49m\u001b[43m,\u001b[49m\u001b[43m \u001b[49m\u001b[43mtool_choice\u001b[49m\u001b[38;5;241;43m=\u001b[39;49m\u001b[43m{\u001b[49m\u001b[38;5;124;43m\"\u001b[39;49m\u001b[38;5;124;43mtype\u001b[39;49m\u001b[38;5;124;43m\"\u001b[39;49m\u001b[43m:\u001b[49m\u001b[43m \u001b[49m\u001b[38;5;124;43m\"\u001b[39;49m\u001b[38;5;124;43mfunction\u001b[39;49m\u001b[38;5;124;43m\"\u001b[39;49m\u001b[43m,\u001b[49m\u001b[43m \u001b[49m\u001b[38;5;124;43m\"\u001b[39;49m\u001b[38;5;124;43mfunction\u001b[39;49m\u001b[38;5;124;43m\"\u001b[39;49m\u001b[43m:\u001b[49m\u001b[43m \u001b[49m\u001b[43m{\u001b[49m\u001b[38;5;124;43m\"\u001b[39;49m\u001b[38;5;124;43mname\u001b[39;49m\u001b[38;5;124;43m\"\u001b[39;49m\u001b[43m:\u001b[49m\u001b[43m \u001b[49m\u001b[38;5;124;43m\"\u001b[39;49m\u001b[38;5;124;43moffer_formatted_output\u001b[39;49m\u001b[38;5;124;43m\"\u001b[39;49m\u001b[43m}\u001b[49m\u001b[43m}\u001b[49m\u001b[43m)\u001b[49m\n\u001b[0;32m     17\u001b[0m bank_name \u001b[38;5;241m=\u001b[39m \u001b[38;5;124m\"\u001b[39m\u001b[38;5;124m\"\u001b[39m\n\u001b[0;32m     18\u001b[0m max_discount\u001b[38;5;241m=\u001b[39m\u001b[38;5;241m0\u001b[39m\n",
      "File \u001b[1;32m~\\ML_PATH\\effective_price_amazon_flipkart\\myenv\\lib\\site-packages\\tenacity\\__init__.py:289\u001b[0m, in \u001b[0;36mBaseRetrying.wraps.<locals>.wrapped_f\u001b[1;34m(*args, **kw)\u001b[0m\n\u001b[0;32m    287\u001b[0m \u001b[38;5;129m@functools\u001b[39m\u001b[38;5;241m.\u001b[39mwraps(f)\n\u001b[0;32m    288\u001b[0m \u001b[38;5;28;01mdef\u001b[39;00m \u001b[38;5;21mwrapped_f\u001b[39m(\u001b[38;5;241m*\u001b[39margs: t\u001b[38;5;241m.\u001b[39mAny, \u001b[38;5;241m*\u001b[39m\u001b[38;5;241m*\u001b[39mkw: t\u001b[38;5;241m.\u001b[39mAny) \u001b[38;5;241m-\u001b[39m\u001b[38;5;241m>\u001b[39m t\u001b[38;5;241m.\u001b[39mAny:\n\u001b[1;32m--> 289\u001b[0m     \u001b[38;5;28;01mreturn\u001b[39;00m \u001b[38;5;28mself\u001b[39m(f, \u001b[38;5;241m*\u001b[39margs, \u001b[38;5;241m*\u001b[39m\u001b[38;5;241m*\u001b[39mkw)\n",
      "File \u001b[1;32m~\\ML_PATH\\effective_price_amazon_flipkart\\myenv\\lib\\site-packages\\tenacity\\__init__.py:379\u001b[0m, in \u001b[0;36mRetrying.__call__\u001b[1;34m(self, fn, *args, **kwargs)\u001b[0m\n\u001b[0;32m    377\u001b[0m retry_state \u001b[38;5;241m=\u001b[39m RetryCallState(retry_object\u001b[38;5;241m=\u001b[39m\u001b[38;5;28mself\u001b[39m, fn\u001b[38;5;241m=\u001b[39mfn, args\u001b[38;5;241m=\u001b[39margs, kwargs\u001b[38;5;241m=\u001b[39mkwargs)\n\u001b[0;32m    378\u001b[0m \u001b[38;5;28;01mwhile\u001b[39;00m \u001b[38;5;28;01mTrue\u001b[39;00m:\n\u001b[1;32m--> 379\u001b[0m     do \u001b[38;5;241m=\u001b[39m \u001b[38;5;28;43mself\u001b[39;49m\u001b[38;5;241;43m.\u001b[39;49m\u001b[43miter\u001b[49m\u001b[43m(\u001b[49m\u001b[43mretry_state\u001b[49m\u001b[38;5;241;43m=\u001b[39;49m\u001b[43mretry_state\u001b[49m\u001b[43m)\u001b[49m\n\u001b[0;32m    380\u001b[0m     \u001b[38;5;28;01mif\u001b[39;00m \u001b[38;5;28misinstance\u001b[39m(do, DoAttempt):\n\u001b[0;32m    381\u001b[0m         \u001b[38;5;28;01mtry\u001b[39;00m:\n",
      "File \u001b[1;32m~\\ML_PATH\\effective_price_amazon_flipkart\\myenv\\lib\\site-packages\\tenacity\\__init__.py:314\u001b[0m, in \u001b[0;36mBaseRetrying.iter\u001b[1;34m(self, retry_state)\u001b[0m\n\u001b[0;32m    312\u001b[0m is_explicit_retry \u001b[38;5;241m=\u001b[39m fut\u001b[38;5;241m.\u001b[39mfailed \u001b[38;5;129;01mand\u001b[39;00m \u001b[38;5;28misinstance\u001b[39m(fut\u001b[38;5;241m.\u001b[39mexception(), TryAgain)\n\u001b[0;32m    313\u001b[0m \u001b[38;5;28;01mif\u001b[39;00m \u001b[38;5;129;01mnot\u001b[39;00m (is_explicit_retry \u001b[38;5;129;01mor\u001b[39;00m \u001b[38;5;28mself\u001b[39m\u001b[38;5;241m.\u001b[39mretry(retry_state)):\n\u001b[1;32m--> 314\u001b[0m     \u001b[38;5;28;01mreturn\u001b[39;00m \u001b[43mfut\u001b[49m\u001b[38;5;241;43m.\u001b[39;49m\u001b[43mresult\u001b[49m\u001b[43m(\u001b[49m\u001b[43m)\u001b[49m\n\u001b[0;32m    316\u001b[0m \u001b[38;5;28;01mif\u001b[39;00m \u001b[38;5;28mself\u001b[39m\u001b[38;5;241m.\u001b[39mafter \u001b[38;5;129;01mis\u001b[39;00m \u001b[38;5;129;01mnot\u001b[39;00m \u001b[38;5;28;01mNone\u001b[39;00m:\n\u001b[0;32m    317\u001b[0m     \u001b[38;5;28mself\u001b[39m\u001b[38;5;241m.\u001b[39mafter(retry_state)\n",
      "File \u001b[1;32m~\\AppData\\Local\\Programs\\Python\\Python310\\lib\\concurrent\\futures\\_base.py:439\u001b[0m, in \u001b[0;36mFuture.result\u001b[1;34m(self, timeout)\u001b[0m\n\u001b[0;32m    437\u001b[0m     \u001b[38;5;28;01mraise\u001b[39;00m CancelledError()\n\u001b[0;32m    438\u001b[0m \u001b[38;5;28;01melif\u001b[39;00m \u001b[38;5;28mself\u001b[39m\u001b[38;5;241m.\u001b[39m_state \u001b[38;5;241m==\u001b[39m FINISHED:\n\u001b[1;32m--> 439\u001b[0m     \u001b[38;5;28;01mreturn\u001b[39;00m \u001b[38;5;28;43mself\u001b[39;49m\u001b[38;5;241;43m.\u001b[39;49m\u001b[43m__get_result\u001b[49m\u001b[43m(\u001b[49m\u001b[43m)\u001b[49m\n\u001b[0;32m    441\u001b[0m \u001b[38;5;28mself\u001b[39m\u001b[38;5;241m.\u001b[39m_condition\u001b[38;5;241m.\u001b[39mwait(timeout)\n\u001b[0;32m    443\u001b[0m \u001b[38;5;28;01mif\u001b[39;00m \u001b[38;5;28mself\u001b[39m\u001b[38;5;241m.\u001b[39m_state \u001b[38;5;129;01min\u001b[39;00m [CANCELLED, CANCELLED_AND_NOTIFIED]:\n",
      "File \u001b[1;32m~\\AppData\\Local\\Programs\\Python\\Python310\\lib\\concurrent\\futures\\_base.py:391\u001b[0m, in \u001b[0;36mFuture.__get_result\u001b[1;34m(self)\u001b[0m\n\u001b[0;32m    389\u001b[0m \u001b[38;5;28;01mif\u001b[39;00m \u001b[38;5;28mself\u001b[39m\u001b[38;5;241m.\u001b[39m_exception:\n\u001b[0;32m    390\u001b[0m     \u001b[38;5;28;01mtry\u001b[39;00m:\n\u001b[1;32m--> 391\u001b[0m         \u001b[38;5;28;01mraise\u001b[39;00m \u001b[38;5;28mself\u001b[39m\u001b[38;5;241m.\u001b[39m_exception\n\u001b[0;32m    392\u001b[0m     \u001b[38;5;28;01mfinally\u001b[39;00m:\n\u001b[0;32m    393\u001b[0m         \u001b[38;5;66;03m# Break a reference cycle with the exception in self._exception\u001b[39;00m\n\u001b[0;32m    394\u001b[0m         \u001b[38;5;28mself\u001b[39m \u001b[38;5;241m=\u001b[39m \u001b[38;5;28;01mNone\u001b[39;00m\n",
      "File \u001b[1;32m~\\ML_PATH\\effective_price_amazon_flipkart\\myenv\\lib\\site-packages\\tenacity\\__init__.py:382\u001b[0m, in \u001b[0;36mRetrying.__call__\u001b[1;34m(self, fn, *args, **kwargs)\u001b[0m\n\u001b[0;32m    380\u001b[0m \u001b[38;5;28;01mif\u001b[39;00m \u001b[38;5;28misinstance\u001b[39m(do, DoAttempt):\n\u001b[0;32m    381\u001b[0m     \u001b[38;5;28;01mtry\u001b[39;00m:\n\u001b[1;32m--> 382\u001b[0m         result \u001b[38;5;241m=\u001b[39m fn(\u001b[38;5;241m*\u001b[39margs, \u001b[38;5;241m*\u001b[39m\u001b[38;5;241m*\u001b[39mkwargs)\n\u001b[0;32m    383\u001b[0m     \u001b[38;5;28;01mexcept\u001b[39;00m \u001b[38;5;167;01mBaseException\u001b[39;00m:  \u001b[38;5;66;03m# noqa: B902\u001b[39;00m\n\u001b[0;32m    384\u001b[0m         retry_state\u001b[38;5;241m.\u001b[39mset_exception(sys\u001b[38;5;241m.\u001b[39mexc_info())  \u001b[38;5;66;03m# type: ignore[arg-type]\u001b[39;00m\n",
      "Cell \u001b[1;32mIn[37], line 13\u001b[0m, in \u001b[0;36mchat_completion_request\u001b[1;34m(messages, tools, tool_choice, model)\u001b[0m\n\u001b[0;32m     11\u001b[0m     json_data\u001b[38;5;241m.\u001b[39mupdate({\u001b[38;5;124m\"\u001b[39m\u001b[38;5;124mtool_choice\u001b[39m\u001b[38;5;124m\"\u001b[39m: tool_choice})\n\u001b[0;32m     12\u001b[0m \u001b[38;5;28;01mtry\u001b[39;00m:\n\u001b[1;32m---> 13\u001b[0m     response \u001b[38;5;241m=\u001b[39m \u001b[43mrequests\u001b[49m\u001b[38;5;241;43m.\u001b[39;49m\u001b[43mpost\u001b[49m\u001b[43m(\u001b[49m\n\u001b[0;32m     14\u001b[0m \u001b[43m        \u001b[49m\u001b[38;5;124;43m\"\u001b[39;49m\u001b[38;5;124;43mhttps://api.openai.com/v1/chat/completions\u001b[39;49m\u001b[38;5;124;43m\"\u001b[39;49m\u001b[43m,\u001b[49m\n\u001b[0;32m     15\u001b[0m \u001b[43m        \u001b[49m\u001b[43mheaders\u001b[49m\u001b[38;5;241;43m=\u001b[39;49m\u001b[43mheaders\u001b[49m\u001b[43m,\u001b[49m\n\u001b[0;32m     16\u001b[0m \u001b[43m        \u001b[49m\u001b[43mjson\u001b[49m\u001b[38;5;241;43m=\u001b[39;49m\u001b[43mjson_data\u001b[49m\u001b[43m,\u001b[49m\n\u001b[0;32m     17\u001b[0m \u001b[43m    \u001b[49m\u001b[43m)\u001b[49m\n\u001b[0;32m     18\u001b[0m     \u001b[38;5;28;01mreturn\u001b[39;00m response\n\u001b[0;32m     19\u001b[0m \u001b[38;5;28;01mexcept\u001b[39;00m \u001b[38;5;167;01mException\u001b[39;00m \u001b[38;5;28;01mas\u001b[39;00m e:\n",
      "File \u001b[1;32m~\\ML_PATH\\effective_price_amazon_flipkart\\myenv\\lib\\site-packages\\requests\\api.py:115\u001b[0m, in \u001b[0;36mpost\u001b[1;34m(url, data, json, **kwargs)\u001b[0m\n\u001b[0;32m    103\u001b[0m \u001b[38;5;28;01mdef\u001b[39;00m \u001b[38;5;21mpost\u001b[39m(url, data\u001b[38;5;241m=\u001b[39m\u001b[38;5;28;01mNone\u001b[39;00m, json\u001b[38;5;241m=\u001b[39m\u001b[38;5;28;01mNone\u001b[39;00m, \u001b[38;5;241m*\u001b[39m\u001b[38;5;241m*\u001b[39mkwargs):\n\u001b[0;32m    104\u001b[0m \u001b[38;5;250m    \u001b[39m\u001b[38;5;124mr\u001b[39m\u001b[38;5;124;03m\"\"\"Sends a POST request.\u001b[39;00m\n\u001b[0;32m    105\u001b[0m \n\u001b[0;32m    106\u001b[0m \u001b[38;5;124;03m    :param url: URL for the new :class:`Request` object.\u001b[39;00m\n\u001b[1;32m   (...)\u001b[0m\n\u001b[0;32m    112\u001b[0m \u001b[38;5;124;03m    :rtype: requests.Response\u001b[39;00m\n\u001b[0;32m    113\u001b[0m \u001b[38;5;124;03m    \"\"\"\u001b[39;00m\n\u001b[1;32m--> 115\u001b[0m     \u001b[38;5;28;01mreturn\u001b[39;00m request(\u001b[38;5;124m\"\u001b[39m\u001b[38;5;124mpost\u001b[39m\u001b[38;5;124m\"\u001b[39m, url, data\u001b[38;5;241m=\u001b[39mdata, json\u001b[38;5;241m=\u001b[39mjson, \u001b[38;5;241m*\u001b[39m\u001b[38;5;241m*\u001b[39mkwargs)\n",
      "File \u001b[1;32m~\\ML_PATH\\effective_price_amazon_flipkart\\myenv\\lib\\site-packages\\requests\\api.py:59\u001b[0m, in \u001b[0;36mrequest\u001b[1;34m(method, url, **kwargs)\u001b[0m\n\u001b[0;32m     55\u001b[0m \u001b[38;5;66;03m# By using the 'with' statement we are sure the session is closed, thus we\u001b[39;00m\n\u001b[0;32m     56\u001b[0m \u001b[38;5;66;03m# avoid leaving sockets open which can trigger a ResourceWarning in some\u001b[39;00m\n\u001b[0;32m     57\u001b[0m \u001b[38;5;66;03m# cases, and look like a memory leak in others.\u001b[39;00m\n\u001b[0;32m     58\u001b[0m \u001b[38;5;28;01mwith\u001b[39;00m sessions\u001b[38;5;241m.\u001b[39mSession() \u001b[38;5;28;01mas\u001b[39;00m session:\n\u001b[1;32m---> 59\u001b[0m     \u001b[38;5;28;01mreturn\u001b[39;00m session\u001b[38;5;241m.\u001b[39mrequest(method\u001b[38;5;241m=\u001b[39mmethod, url\u001b[38;5;241m=\u001b[39murl, \u001b[38;5;241m*\u001b[39m\u001b[38;5;241m*\u001b[39mkwargs)\n",
      "File \u001b[1;32m~\\ML_PATH\\effective_price_amazon_flipkart\\myenv\\lib\\site-packages\\requests\\sessions.py:589\u001b[0m, in \u001b[0;36mSession.request\u001b[1;34m(self, method, url, params, data, headers, cookies, files, auth, timeout, allow_redirects, proxies, hooks, stream, verify, cert, json)\u001b[0m\n\u001b[0;32m    584\u001b[0m send_kwargs \u001b[38;5;241m=\u001b[39m {\n\u001b[0;32m    585\u001b[0m     \u001b[38;5;124m\"\u001b[39m\u001b[38;5;124mtimeout\u001b[39m\u001b[38;5;124m\"\u001b[39m: timeout,\n\u001b[0;32m    586\u001b[0m     \u001b[38;5;124m\"\u001b[39m\u001b[38;5;124mallow_redirects\u001b[39m\u001b[38;5;124m\"\u001b[39m: allow_redirects,\n\u001b[0;32m    587\u001b[0m }\n\u001b[0;32m    588\u001b[0m send_kwargs\u001b[38;5;241m.\u001b[39mupdate(settings)\n\u001b[1;32m--> 589\u001b[0m resp \u001b[38;5;241m=\u001b[39m \u001b[38;5;28mself\u001b[39m\u001b[38;5;241m.\u001b[39msend(prep, \u001b[38;5;241m*\u001b[39m\u001b[38;5;241m*\u001b[39msend_kwargs)\n\u001b[0;32m    591\u001b[0m \u001b[38;5;28;01mreturn\u001b[39;00m resp\n",
      "File \u001b[1;32m~\\ML_PATH\\effective_price_amazon_flipkart\\myenv\\lib\\site-packages\\requests\\sessions.py:703\u001b[0m, in \u001b[0;36mSession.send\u001b[1;34m(self, request, **kwargs)\u001b[0m\n\u001b[0;32m    700\u001b[0m start \u001b[38;5;241m=\u001b[39m preferred_clock()\n\u001b[0;32m    702\u001b[0m \u001b[38;5;66;03m# Send the request\u001b[39;00m\n\u001b[1;32m--> 703\u001b[0m r \u001b[38;5;241m=\u001b[39m adapter\u001b[38;5;241m.\u001b[39msend(request, \u001b[38;5;241m*\u001b[39m\u001b[38;5;241m*\u001b[39mkwargs)\n\u001b[0;32m    705\u001b[0m \u001b[38;5;66;03m# Total elapsed time of the request (approximately)\u001b[39;00m\n\u001b[0;32m    706\u001b[0m elapsed \u001b[38;5;241m=\u001b[39m preferred_clock() \u001b[38;5;241m-\u001b[39m start\n",
      "File \u001b[1;32m~\\ML_PATH\\effective_price_amazon_flipkart\\myenv\\lib\\site-packages\\requests\\adapters.py:486\u001b[0m, in \u001b[0;36mHTTPAdapter.send\u001b[1;34m(self, request, stream, timeout, verify, cert, proxies)\u001b[0m\n\u001b[0;32m    483\u001b[0m     timeout \u001b[38;5;241m=\u001b[39m TimeoutSauce(connect\u001b[38;5;241m=\u001b[39mtimeout, read\u001b[38;5;241m=\u001b[39mtimeout)\n\u001b[0;32m    485\u001b[0m \u001b[38;5;28;01mtry\u001b[39;00m:\n\u001b[1;32m--> 486\u001b[0m     resp \u001b[38;5;241m=\u001b[39m \u001b[43mconn\u001b[49m\u001b[38;5;241;43m.\u001b[39;49m\u001b[43murlopen\u001b[49m\u001b[43m(\u001b[49m\n\u001b[0;32m    487\u001b[0m \u001b[43m        \u001b[49m\u001b[43mmethod\u001b[49m\u001b[38;5;241;43m=\u001b[39;49m\u001b[43mrequest\u001b[49m\u001b[38;5;241;43m.\u001b[39;49m\u001b[43mmethod\u001b[49m\u001b[43m,\u001b[49m\n\u001b[0;32m    488\u001b[0m \u001b[43m        \u001b[49m\u001b[43murl\u001b[49m\u001b[38;5;241;43m=\u001b[39;49m\u001b[43murl\u001b[49m\u001b[43m,\u001b[49m\n\u001b[0;32m    489\u001b[0m \u001b[43m        \u001b[49m\u001b[43mbody\u001b[49m\u001b[38;5;241;43m=\u001b[39;49m\u001b[43mrequest\u001b[49m\u001b[38;5;241;43m.\u001b[39;49m\u001b[43mbody\u001b[49m\u001b[43m,\u001b[49m\n\u001b[0;32m    490\u001b[0m \u001b[43m        \u001b[49m\u001b[43mheaders\u001b[49m\u001b[38;5;241;43m=\u001b[39;49m\u001b[43mrequest\u001b[49m\u001b[38;5;241;43m.\u001b[39;49m\u001b[43mheaders\u001b[49m\u001b[43m,\u001b[49m\n\u001b[0;32m    491\u001b[0m \u001b[43m        \u001b[49m\u001b[43mredirect\u001b[49m\u001b[38;5;241;43m=\u001b[39;49m\u001b[38;5;28;43;01mFalse\u001b[39;49;00m\u001b[43m,\u001b[49m\n\u001b[0;32m    492\u001b[0m \u001b[43m        \u001b[49m\u001b[43massert_same_host\u001b[49m\u001b[38;5;241;43m=\u001b[39;49m\u001b[38;5;28;43;01mFalse\u001b[39;49;00m\u001b[43m,\u001b[49m\n\u001b[0;32m    493\u001b[0m \u001b[43m        \u001b[49m\u001b[43mpreload_content\u001b[49m\u001b[38;5;241;43m=\u001b[39;49m\u001b[38;5;28;43;01mFalse\u001b[39;49;00m\u001b[43m,\u001b[49m\n\u001b[0;32m    494\u001b[0m \u001b[43m        \u001b[49m\u001b[43mdecode_content\u001b[49m\u001b[38;5;241;43m=\u001b[39;49m\u001b[38;5;28;43;01mFalse\u001b[39;49;00m\u001b[43m,\u001b[49m\n\u001b[0;32m    495\u001b[0m \u001b[43m        \u001b[49m\u001b[43mretries\u001b[49m\u001b[38;5;241;43m=\u001b[39;49m\u001b[38;5;28;43mself\u001b[39;49m\u001b[38;5;241;43m.\u001b[39;49m\u001b[43mmax_retries\u001b[49m\u001b[43m,\u001b[49m\n\u001b[0;32m    496\u001b[0m \u001b[43m        \u001b[49m\u001b[43mtimeout\u001b[49m\u001b[38;5;241;43m=\u001b[39;49m\u001b[43mtimeout\u001b[49m\u001b[43m,\u001b[49m\n\u001b[0;32m    497\u001b[0m \u001b[43m        \u001b[49m\u001b[43mchunked\u001b[49m\u001b[38;5;241;43m=\u001b[39;49m\u001b[43mchunked\u001b[49m\u001b[43m,\u001b[49m\n\u001b[0;32m    498\u001b[0m \u001b[43m    \u001b[49m\u001b[43m)\u001b[49m\n\u001b[0;32m    500\u001b[0m \u001b[38;5;28;01mexcept\u001b[39;00m (ProtocolError, \u001b[38;5;167;01mOSError\u001b[39;00m) \u001b[38;5;28;01mas\u001b[39;00m err:\n\u001b[0;32m    501\u001b[0m     \u001b[38;5;28;01mraise\u001b[39;00m \u001b[38;5;167;01mConnectionError\u001b[39;00m(err, request\u001b[38;5;241m=\u001b[39mrequest)\n",
      "File \u001b[1;32m~\\ML_PATH\\effective_price_amazon_flipkart\\myenv\\lib\\site-packages\\urllib3\\connectionpool.py:790\u001b[0m, in \u001b[0;36mHTTPConnectionPool.urlopen\u001b[1;34m(self, method, url, body, headers, retries, redirect, assert_same_host, timeout, pool_timeout, release_conn, chunked, body_pos, preload_content, decode_content, **response_kw)\u001b[0m\n\u001b[0;32m    787\u001b[0m response_conn \u001b[38;5;241m=\u001b[39m conn \u001b[38;5;28;01mif\u001b[39;00m \u001b[38;5;129;01mnot\u001b[39;00m release_conn \u001b[38;5;28;01melse\u001b[39;00m \u001b[38;5;28;01mNone\u001b[39;00m\n\u001b[0;32m    789\u001b[0m \u001b[38;5;66;03m# Make the request on the HTTPConnection object\u001b[39;00m\n\u001b[1;32m--> 790\u001b[0m response \u001b[38;5;241m=\u001b[39m \u001b[38;5;28mself\u001b[39m\u001b[38;5;241m.\u001b[39m_make_request(\n\u001b[0;32m    791\u001b[0m     conn,\n\u001b[0;32m    792\u001b[0m     method,\n\u001b[0;32m    793\u001b[0m     url,\n\u001b[0;32m    794\u001b[0m     timeout\u001b[38;5;241m=\u001b[39mtimeout_obj,\n\u001b[0;32m    795\u001b[0m     body\u001b[38;5;241m=\u001b[39mbody,\n\u001b[0;32m    796\u001b[0m     headers\u001b[38;5;241m=\u001b[39mheaders,\n\u001b[0;32m    797\u001b[0m     chunked\u001b[38;5;241m=\u001b[39mchunked,\n\u001b[0;32m    798\u001b[0m     retries\u001b[38;5;241m=\u001b[39mretries,\n\u001b[0;32m    799\u001b[0m     response_conn\u001b[38;5;241m=\u001b[39mresponse_conn,\n\u001b[0;32m    800\u001b[0m     preload_content\u001b[38;5;241m=\u001b[39mpreload_content,\n\u001b[0;32m    801\u001b[0m     decode_content\u001b[38;5;241m=\u001b[39mdecode_content,\n\u001b[0;32m    802\u001b[0m     \u001b[38;5;241m*\u001b[39m\u001b[38;5;241m*\u001b[39mresponse_kw,\n\u001b[0;32m    803\u001b[0m )\n\u001b[0;32m    805\u001b[0m \u001b[38;5;66;03m# Everything went great!\u001b[39;00m\n\u001b[0;32m    806\u001b[0m clean_exit \u001b[38;5;241m=\u001b[39m \u001b[38;5;28;01mTrue\u001b[39;00m\n",
      "File \u001b[1;32m~\\ML_PATH\\effective_price_amazon_flipkart\\myenv\\lib\\site-packages\\urllib3\\connectionpool.py:536\u001b[0m, in \u001b[0;36mHTTPConnectionPool._make_request\u001b[1;34m(self, conn, method, url, body, headers, retries, timeout, chunked, response_conn, preload_content, decode_content, enforce_content_length)\u001b[0m\n\u001b[0;32m    534\u001b[0m \u001b[38;5;66;03m# Receive the response from the server\u001b[39;00m\n\u001b[0;32m    535\u001b[0m \u001b[38;5;28;01mtry\u001b[39;00m:\n\u001b[1;32m--> 536\u001b[0m     response \u001b[38;5;241m=\u001b[39m \u001b[43mconn\u001b[49m\u001b[38;5;241;43m.\u001b[39;49m\u001b[43mgetresponse\u001b[49m\u001b[43m(\u001b[49m\u001b[43m)\u001b[49m\n\u001b[0;32m    537\u001b[0m \u001b[38;5;28;01mexcept\u001b[39;00m (BaseSSLError, \u001b[38;5;167;01mOSError\u001b[39;00m) \u001b[38;5;28;01mas\u001b[39;00m e:\n\u001b[0;32m    538\u001b[0m     \u001b[38;5;28mself\u001b[39m\u001b[38;5;241m.\u001b[39m_raise_timeout(err\u001b[38;5;241m=\u001b[39me, url\u001b[38;5;241m=\u001b[39murl, timeout_value\u001b[38;5;241m=\u001b[39mread_timeout)\n",
      "File \u001b[1;32m~\\ML_PATH\\effective_price_amazon_flipkart\\myenv\\lib\\site-packages\\urllib3\\connection.py:461\u001b[0m, in \u001b[0;36mHTTPConnection.getresponse\u001b[1;34m(self)\u001b[0m\n\u001b[0;32m    458\u001b[0m \u001b[38;5;28;01mfrom\u001b[39;00m \u001b[38;5;21;01m.\u001b[39;00m\u001b[38;5;21;01mresponse\u001b[39;00m \u001b[38;5;28;01mimport\u001b[39;00m HTTPResponse\n\u001b[0;32m    460\u001b[0m \u001b[38;5;66;03m# Get the response from http.client.HTTPConnection\u001b[39;00m\n\u001b[1;32m--> 461\u001b[0m httplib_response \u001b[38;5;241m=\u001b[39m \u001b[38;5;28;43msuper\u001b[39;49m\u001b[43m(\u001b[49m\u001b[43m)\u001b[49m\u001b[38;5;241;43m.\u001b[39;49m\u001b[43mgetresponse\u001b[49m\u001b[43m(\u001b[49m\u001b[43m)\u001b[49m\n\u001b[0;32m    463\u001b[0m \u001b[38;5;28;01mtry\u001b[39;00m:\n\u001b[0;32m    464\u001b[0m     assert_header_parsing(httplib_response\u001b[38;5;241m.\u001b[39mmsg)\n",
      "File \u001b[1;32m~\\AppData\\Local\\Programs\\Python\\Python310\\lib\\http\\client.py:1374\u001b[0m, in \u001b[0;36mHTTPConnection.getresponse\u001b[1;34m(self)\u001b[0m\n\u001b[0;32m   1372\u001b[0m \u001b[38;5;28;01mtry\u001b[39;00m:\n\u001b[0;32m   1373\u001b[0m     \u001b[38;5;28;01mtry\u001b[39;00m:\n\u001b[1;32m-> 1374\u001b[0m         \u001b[43mresponse\u001b[49m\u001b[38;5;241;43m.\u001b[39;49m\u001b[43mbegin\u001b[49m\u001b[43m(\u001b[49m\u001b[43m)\u001b[49m\n\u001b[0;32m   1375\u001b[0m     \u001b[38;5;28;01mexcept\u001b[39;00m \u001b[38;5;167;01mConnectionError\u001b[39;00m:\n\u001b[0;32m   1376\u001b[0m         \u001b[38;5;28mself\u001b[39m\u001b[38;5;241m.\u001b[39mclose()\n",
      "File \u001b[1;32m~\\AppData\\Local\\Programs\\Python\\Python310\\lib\\http\\client.py:318\u001b[0m, in \u001b[0;36mHTTPResponse.begin\u001b[1;34m(self)\u001b[0m\n\u001b[0;32m    316\u001b[0m \u001b[38;5;66;03m# read until we get a non-100 response\u001b[39;00m\n\u001b[0;32m    317\u001b[0m \u001b[38;5;28;01mwhile\u001b[39;00m \u001b[38;5;28;01mTrue\u001b[39;00m:\n\u001b[1;32m--> 318\u001b[0m     version, status, reason \u001b[38;5;241m=\u001b[39m \u001b[38;5;28;43mself\u001b[39;49m\u001b[38;5;241;43m.\u001b[39;49m\u001b[43m_read_status\u001b[49m\u001b[43m(\u001b[49m\u001b[43m)\u001b[49m\n\u001b[0;32m    319\u001b[0m     \u001b[38;5;28;01mif\u001b[39;00m status \u001b[38;5;241m!=\u001b[39m CONTINUE:\n\u001b[0;32m    320\u001b[0m         \u001b[38;5;28;01mbreak\u001b[39;00m\n",
      "File \u001b[1;32m~\\AppData\\Local\\Programs\\Python\\Python310\\lib\\http\\client.py:279\u001b[0m, in \u001b[0;36mHTTPResponse._read_status\u001b[1;34m(self)\u001b[0m\n\u001b[0;32m    278\u001b[0m \u001b[38;5;28;01mdef\u001b[39;00m \u001b[38;5;21m_read_status\u001b[39m(\u001b[38;5;28mself\u001b[39m):\n\u001b[1;32m--> 279\u001b[0m     line \u001b[38;5;241m=\u001b[39m \u001b[38;5;28mstr\u001b[39m(\u001b[38;5;28;43mself\u001b[39;49m\u001b[38;5;241;43m.\u001b[39;49m\u001b[43mfp\u001b[49m\u001b[38;5;241;43m.\u001b[39;49m\u001b[43mreadline\u001b[49m\u001b[43m(\u001b[49m\u001b[43m_MAXLINE\u001b[49m\u001b[43m \u001b[49m\u001b[38;5;241;43m+\u001b[39;49m\u001b[43m \u001b[49m\u001b[38;5;241;43m1\u001b[39;49m\u001b[43m)\u001b[49m, \u001b[38;5;124m\"\u001b[39m\u001b[38;5;124miso-8859-1\u001b[39m\u001b[38;5;124m\"\u001b[39m)\n\u001b[0;32m    280\u001b[0m     \u001b[38;5;28;01mif\u001b[39;00m \u001b[38;5;28mlen\u001b[39m(line) \u001b[38;5;241m>\u001b[39m _MAXLINE:\n\u001b[0;32m    281\u001b[0m         \u001b[38;5;28;01mraise\u001b[39;00m LineTooLong(\u001b[38;5;124m\"\u001b[39m\u001b[38;5;124mstatus line\u001b[39m\u001b[38;5;124m\"\u001b[39m)\n",
      "File \u001b[1;32m~\\AppData\\Local\\Programs\\Python\\Python310\\lib\\socket.py:705\u001b[0m, in \u001b[0;36mSocketIO.readinto\u001b[1;34m(self, b)\u001b[0m\n\u001b[0;32m    703\u001b[0m \u001b[38;5;28;01mwhile\u001b[39;00m \u001b[38;5;28;01mTrue\u001b[39;00m:\n\u001b[0;32m    704\u001b[0m     \u001b[38;5;28;01mtry\u001b[39;00m:\n\u001b[1;32m--> 705\u001b[0m         \u001b[38;5;28;01mreturn\u001b[39;00m \u001b[38;5;28;43mself\u001b[39;49m\u001b[38;5;241;43m.\u001b[39;49m\u001b[43m_sock\u001b[49m\u001b[38;5;241;43m.\u001b[39;49m\u001b[43mrecv_into\u001b[49m\u001b[43m(\u001b[49m\u001b[43mb\u001b[49m\u001b[43m)\u001b[49m\n\u001b[0;32m    706\u001b[0m     \u001b[38;5;28;01mexcept\u001b[39;00m timeout:\n\u001b[0;32m    707\u001b[0m         \u001b[38;5;28mself\u001b[39m\u001b[38;5;241m.\u001b[39m_timeout_occurred \u001b[38;5;241m=\u001b[39m \u001b[38;5;28;01mTrue\u001b[39;00m\n",
      "File \u001b[1;32m~\\AppData\\Local\\Programs\\Python\\Python310\\lib\\ssl.py:1273\u001b[0m, in \u001b[0;36mSSLSocket.recv_into\u001b[1;34m(self, buffer, nbytes, flags)\u001b[0m\n\u001b[0;32m   1269\u001b[0m     \u001b[38;5;28;01mif\u001b[39;00m flags \u001b[38;5;241m!=\u001b[39m \u001b[38;5;241m0\u001b[39m:\n\u001b[0;32m   1270\u001b[0m         \u001b[38;5;28;01mraise\u001b[39;00m \u001b[38;5;167;01mValueError\u001b[39;00m(\n\u001b[0;32m   1271\u001b[0m           \u001b[38;5;124m\"\u001b[39m\u001b[38;5;124mnon-zero flags not allowed in calls to recv_into() on \u001b[39m\u001b[38;5;132;01m%s\u001b[39;00m\u001b[38;5;124m\"\u001b[39m \u001b[38;5;241m%\u001b[39m\n\u001b[0;32m   1272\u001b[0m           \u001b[38;5;28mself\u001b[39m\u001b[38;5;241m.\u001b[39m\u001b[38;5;18m__class__\u001b[39m)\n\u001b[1;32m-> 1273\u001b[0m     \u001b[38;5;28;01mreturn\u001b[39;00m \u001b[38;5;28;43mself\u001b[39;49m\u001b[38;5;241;43m.\u001b[39;49m\u001b[43mread\u001b[49m\u001b[43m(\u001b[49m\u001b[43mnbytes\u001b[49m\u001b[43m,\u001b[49m\u001b[43m \u001b[49m\u001b[43mbuffer\u001b[49m\u001b[43m)\u001b[49m\n\u001b[0;32m   1274\u001b[0m \u001b[38;5;28;01melse\u001b[39;00m:\n\u001b[0;32m   1275\u001b[0m     \u001b[38;5;28;01mreturn\u001b[39;00m \u001b[38;5;28msuper\u001b[39m()\u001b[38;5;241m.\u001b[39mrecv_into(buffer, nbytes, flags)\n",
      "File \u001b[1;32m~\\AppData\\Local\\Programs\\Python\\Python310\\lib\\ssl.py:1129\u001b[0m, in \u001b[0;36mSSLSocket.read\u001b[1;34m(self, len, buffer)\u001b[0m\n\u001b[0;32m   1127\u001b[0m \u001b[38;5;28;01mtry\u001b[39;00m:\n\u001b[0;32m   1128\u001b[0m     \u001b[38;5;28;01mif\u001b[39;00m buffer \u001b[38;5;129;01mis\u001b[39;00m \u001b[38;5;129;01mnot\u001b[39;00m \u001b[38;5;28;01mNone\u001b[39;00m:\n\u001b[1;32m-> 1129\u001b[0m         \u001b[38;5;28;01mreturn\u001b[39;00m \u001b[38;5;28;43mself\u001b[39;49m\u001b[38;5;241;43m.\u001b[39;49m\u001b[43m_sslobj\u001b[49m\u001b[38;5;241;43m.\u001b[39;49m\u001b[43mread\u001b[49m\u001b[43m(\u001b[49m\u001b[38;5;28;43mlen\u001b[39;49m\u001b[43m,\u001b[49m\u001b[43m \u001b[49m\u001b[43mbuffer\u001b[49m\u001b[43m)\u001b[49m\n\u001b[0;32m   1130\u001b[0m     \u001b[38;5;28;01melse\u001b[39;00m:\n\u001b[0;32m   1131\u001b[0m         \u001b[38;5;28;01mreturn\u001b[39;00m \u001b[38;5;28mself\u001b[39m\u001b[38;5;241m.\u001b[39m_sslobj\u001b[38;5;241m.\u001b[39mread(\u001b[38;5;28mlen\u001b[39m)\n",
      "\u001b[1;31mKeyboardInterrupt\u001b[0m: "
     ]
    }
   ],
   "source": [
    "for i in range(len(input_data)):\n",
    "    print(\"value of i\", i)\n",
    "    sku_price = input_data['Current Price'][i]\n",
    "    sku_offers = input_data['Bank Offers'][i]\n",
    "    content = create_content(sku_price, sku_offers)\n",
    "    messages = [\n",
    "    {\"role\": \"system\", \"content\": \"You are a helpful assistant which helps in the identification of the best offer. If any offer have more than one discount % always take the higher one. Ignore the offer with EMI Plan\"},\n",
    "    {\"role\": \"user\", \"content\": \"The Price of SKU is 17999\\n\\nOffers:\\n\\n1. Get 5% back with Amazon Pay ICICI Bank credit card for Prime members. 3% back for others. Not applicable on Amazon business transactions.\\n2. ₹100 cashback & ₹500 welcome rewards on Amazon Pay Later. Activate now. Pay next month at Zero interest or in EMIs! T&C apply.\\n3. Flat INR 500 Instant Discount on ICICI Bank Credit Cards (excluding Amazon Pay ICICI Credit Card) Credit Card Txn. Minimum purchase 4. value INR 15999\\n4. Flat INR 750 Instant Discount on OneCard Credit Card Non EMI Txn. Minimum purchase value INR 15999\\n5. Flat ₹3,000 off on HDFC Bank Credit Card EMI Trxns on orders priced ₹50,000 and above\\n\\nWhich is the best offer?\"},\n",
    "    {\"role\": \"assistant\", \"content\": \"Assuming prime member from the first offer the maximum discount applicable is 5%, since 5% is greater than 3%. So the discount amount is 5% of price of sku, which is 17999. This equals 900. From the second offer the maximum discount is 100 cashback + 500 welcome rewards= 600. so the discount from this offer is 600. From the third offer since the purchase value 17999 is greater than Minimum purchase value of ₹15999, hence the discount amount is applicable & it is equal to ₹500. From the fourth offer the discount = ₹750 since the Minimum pucrhase value of ₹15999 is less than than ₹17999. From the fifth offer the discount is not applicable since sku price (17999) is less than 50000. Comparing the discounts from all offers the maximum discount is ₹900. So, \\nthe maximum discount applicable = ₹900\\nBank Name = Amazon Pay ICICI Bank\\nMinimum Swipe for availing maximum discount = 0\"},\n",
    "    {\"role\": \"user\", \"content\": \"The Price of the SKU is 18999\\n\\nOffers:\\n\\n1. Flat INR 2000 Instant Discount on HDFC Bank Credit CardTxn. Minimum purchase value INR 17999\\n\\n2. Flat INR 2100 Instant Discount on ICICI Bank Credit Cards (excluding Amazon Pay ICICI Credit Card) Credit CardTxn. Minimum purchase value INR 17999\\n\\n3. Flat INR 2000 Instant Discount on HDFC Bank Debit Card EMI Txn. Minimum purchase value INR 19999\\n\\n4. 5% Instant Discount up to INR 250 on HSBC Cashback Card Credit Card Transactions. Minimum purchase value INR 1000\\n\\n5. Get 5% back with Amazon Pay ICICI Bank credit card for Prime members. 3% back for others. Not applicable on Amazon business transactions.\\n\\n6. ₹100 cashback & ₹2150 welcome rewards on Amazon Pay Later.\\n\\nWhich is the best Offer\"},\n",
    "    {\"role\": \"assistant\", \"content\": \"From the first offer since the price value of 18999 is greater than 17999 the discount amount is applicable & it is equal to 2000 . From the second offer since the price value of 18999 is greater than 17999 the discount amount is 2100. From the third offer since the price value of 18999 is less than minimum purchase value of 19999, the discount value is not applicable. From the fourth offer, the discount amount is 5% of the price of the SKU, up to a maximum of 250. Since the price of the SKU is 18999, the discount amount will be 250. Assuming prime member, from the fifth offer, the maximum discount applicable is 5%, since 5% is greater than 3%. So the discount amount is 5% of the price of the SKU, which is 18999. This equals 950.From the sixth offer, the discount amount is 100 cashback + 2150 welcome rewards = 2250. Comparing the discounts from the offers, the maximum discount is 2250. So, \\nthe maximum discount applicable = 2250\\nBank Name = Amazon Pay Later\\nMinimum Swipe for availing maximum Discount = 0\"},\n",
    "    {\"role\": \"user\", \"content\": \"The Price of the SKU is 18999\\n\\nOffers:\\n\\n1. Flat INR 2000 Instant Discount on HDFC Bank Credit CardTxn. Minimum purchase value INR 17999\\n\\n2. Flat INR 2100 Instant Discount on ICICI Bank Credit Cards (excluding Amazon Pay ICICI Credit Card) Credit CardTxn. Minimum purchase value INR 17999\\n\\n3. Flat INR 2000 Instant Discount on HDFC Bank Debit Card EMI Txn. Minimum purchase value INR 19999\\n\\n4. 5% Instant Discount up to INR 250 on HSBC Cashback Card Credit Card Transactions. Minimum purchase value INR 1000\\n\\n5. Get 5% back with Amazon Pay ICICI Bank credit card for Prime members. 3% back for others. Not applicable on Amazon business transactions.\\n\\n6. ₹100 cashback & ₹500 welcome rewards on Amazon Pay Later.\\n\\nWhich is the best Offer?\"},\n",
    "    {\"role\": \"assistant\", \"content\": \"From the first offer since the price value of 18999 is greater than 17999 the discount amount is applicable & it is equal to 2000 . From the second offer since the price value of 18999 is greater than 17999 the discount amount is applicable & it is equal to 2100. From the third offer since the price value of 18999 is less than minimum purchase value of 19999, the discount value is not applicable. From the fourth offer, the discount amount is 5% of the price of the SKU, up to a maximum of 250. Since the price of the SKU is 18999, the discount amount will be 250. Assuming prime member, from the fifth offer, the maximum discount applicable is 5%, since 5% is greater than 3%. So the discount amount is 5% of the price of the SKU, which is 18999. This equals 950.From the sixth offer, the discount amount is 100 cashback + 500 welcome rewards = 600. Comparing the discounts from the offers, the maximum discount is 2000. So, \\nthe maximum discount applicable = 2000\\nBank Name = HDFC Bank Credit Card\\nMinimum Swipe for availing maximum Discount = 17999\"},\n",
    "    {\"role\": \"user\", \"content\": content}\n",
    "    ]\n",
    "    output=chat_completion_request(messages, tools=tools, tool_choice={\"type\": \"function\", \"function\": {\"name\": \"offer_formatted_output\"}})\n",
    "    bank_name = \"\"\n",
    "    max_discount=0\n",
    "    min_swipe=0\n",
    "    if 'choices' in output.json():\n",
    "        print(f\"FEW SHOT INTERFERENCE-OPEN AI: \\n{output.json()['choices'][0]['message']}\")\n",
    "        response = output.json()['choices'][0]['message']\n",
    "        if response.get(\"tool_calls\"):\n",
    "            bank_name, max_discount, min_swipe = extract_discount_details(response)\n",
    "        else:\n",
    "             response = output.json()['choices'][0]['message']['content']\n",
    "             max_discount, bank_name, min_swipe = extract_discount_details_content(response)\n",
    "        output_data[\"Max Discount\"][i] = max_discount\n",
    "        output_data['IBD Bank Name/UPI'][i] = bank_name\n",
    "        output_data['Min Swipe'][i]= min_swipe\n",
    "    \n",
    "    if input_data[\"BUP\"][i] != None and pd.isna(input_data[\"BUP\"][i])==False:\n",
    "        bup= extract_bup_details(input_data[\"BUP\"][i])\n",
    "        print(bup)\n",
    "        output_data.at[i, 'Bump up']=bup\n",
    "\n",
    "    if input_data[\"VPC\"][i] != None and pd.isna(input_data[\"VPC\"][i])==False:\n",
    "        print(\"VPC value from input file\", input_data[\"VPC\"][i])\n",
    "        vpc= extract_vpc_details(input_data[\"VPC\"][i])\n",
    "        output_data.at[i, 'VPC(Amazon)']=vpc\n",
    "\n",
    "    if input_data[\"SuperCoins\"][i] != None and pd.isna(input_data[\"SuperCoins\"][i])==False:\n",
    "        print('supercoins', input_data[\"SuperCoins\"][i])\n",
    "        supercoins= extract_supercoins_details(input_data[\"SuperCoins\"][i])\n",
    "        output_data.at[i, 'SuperCoins(Flipkart)']=supercoins\n",
    "    output_data.to_excel('output_data.xlsx')"
   ]
  },
  {
   "cell_type": "code",
   "execution_count": null,
   "id": "ce81c8ee-f021-4f7e-a87b-43066cf5a072",
   "metadata": {},
   "outputs": [],
   "source": []
  },
  {
   "cell_type": "code",
   "execution_count": null,
   "id": "3c727e2a-4c89-4994-b391-9ebea5f9af22",
   "metadata": {},
   "outputs": [],
   "source": []
  }
 ],
 "metadata": {
  "kernelspec": {
   "display_name": "Python 3 (ipykernel)",
   "language": "python",
   "name": "python3"
  },
  "language_info": {
   "codemirror_mode": {
    "name": "ipython",
    "version": 3
   },
   "file_extension": ".py",
   "mimetype": "text/x-python",
   "name": "python",
   "nbconvert_exporter": "python",
   "pygments_lexer": "ipython3",
   "version": "3.10.2"
  }
 },
 "nbformat": 4,
 "nbformat_minor": 5
}
