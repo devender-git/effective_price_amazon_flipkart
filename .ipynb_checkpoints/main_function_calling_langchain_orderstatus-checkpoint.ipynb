{
 "cells": [
  {
   "cell_type": "code",
   "execution_count": 13,
   "id": "0c5a5c19-ed4f-4172-9f4a-1045e26f2a6b",
   "metadata": {},
   "outputs": [],
   "source": [
    "import openai\n",
    "import pandas as pd\n",
    "import json\n",
    "from langchain.agents import tool"
   ]
  },
  {
   "cell_type": "code",
   "execution_count": 14,
   "id": "0698ed60-f8ff-47c7-86ea-543abefa2c85",
   "metadata": {},
   "outputs": [],
   "source": [
    "input_data = pd.read_excel('RPA Pricing Extraction.xlsx')"
   ]
  },
  {
   "cell_type": "code",
   "execution_count": 15,
   "id": "8a98dedf-7532-4274-ae07-8aa5329af5be",
   "metadata": {},
   "outputs": [],
   "source": [
    "output_data = input_data.copy()"
   ]
  },
  {
   "cell_type": "code",
   "execution_count": 16,
   "id": "21ee00e1-c9d9-4487-9528-0f7303afcdd7",
   "metadata": {},
   "outputs": [
    {
     "data": {
      "text/html": [
       "<div>\n",
       "<style scoped>\n",
       "    .dataframe tbody tr th:only-of-type {\n",
       "        vertical-align: middle;\n",
       "    }\n",
       "\n",
       "    .dataframe tbody tr th {\n",
       "        vertical-align: top;\n",
       "    }\n",
       "\n",
       "    .dataframe thead th {\n",
       "        text-align: right;\n",
       "    }\n",
       "</style>\n",
       "<table border=\"1\" class=\"dataframe\">\n",
       "  <thead>\n",
       "    <tr style=\"text-align: right;\">\n",
       "      <th></th>\n",
       "      <th>Market Place</th>\n",
       "      <th>FSN /ASIN</th>\n",
       "      <th>Description</th>\n",
       "      <th>MRP</th>\n",
       "      <th>Current Price</th>\n",
       "      <th>Bank Offers</th>\n",
       "      <th>URL</th>\n",
       "      <th>Max Discount</th>\n",
       "      <th>IBD Bank Name/UPI</th>\n",
       "      <th>Min Swipe</th>\n",
       "      <th>Bump up</th>\n",
       "      <th>VPC(Amazon)</th>\n",
       "      <th>SuperCoins(Flipkart)</th>\n",
       "    </tr>\n",
       "  </thead>\n",
       "  <tbody>\n",
       "    <tr>\n",
       "      <th>0</th>\n",
       "      <td>Amazon</td>\n",
       "      <td>B0BKKHFGCP</td>\n",
       "      <td>Lava Blaze 5G (Glass Blue, 6GB RAM, UFS 2.2 12...</td>\n",
       "      <td>16349</td>\n",
       "      <td>11999</td>\n",
       "      <td>1. 7.5% Instant Discount up to INR 1000 on Cit...</td>\n",
       "      <td>https://www.amazon.in/dp/B0BSTTK7HS?th=1</td>\n",
       "      <td>None</td>\n",
       "      <td>None</td>\n",
       "      <td>None</td>\n",
       "      <td>None</td>\n",
       "      <td>None</td>\n",
       "      <td>None</td>\n",
       "    </tr>\n",
       "    <tr>\n",
       "      <th>1</th>\n",
       "      <td>Flipkart</td>\n",
       "      <td>MOBGHDXFPWKFSFJ2</td>\n",
       "      <td>REDMI Note 11 Pro (Stealth Black, 128 GB)  (8 ...</td>\n",
       "      <td>24999</td>\n",
       "      <td>23999</td>\n",
       "      <td>1. 10% off on Federal Bank Credit Card Txns, u...</td>\n",
       "      <td>https://www.flipkart.com/redmi-note-11-pro-ste...</td>\n",
       "      <td>None</td>\n",
       "      <td>None</td>\n",
       "      <td>None</td>\n",
       "      <td>None</td>\n",
       "      <td>None</td>\n",
       "      <td>None</td>\n",
       "    </tr>\n",
       "  </tbody>\n",
       "</table>\n",
       "</div>"
      ],
      "text/plain": [
       "  Market Place         FSN /ASIN  \\\n",
       "0       Amazon        B0BKKHFGCP   \n",
       "1     Flipkart  MOBGHDXFPWKFSFJ2   \n",
       "\n",
       "                                         Description    MRP  Current Price  \\\n",
       "0  Lava Blaze 5G (Glass Blue, 6GB RAM, UFS 2.2 12...  16349          11999   \n",
       "1  REDMI Note 11 Pro (Stealth Black, 128 GB)  (8 ...  24999          23999   \n",
       "\n",
       "                                         Bank Offers  \\\n",
       "0  1. 7.5% Instant Discount up to INR 1000 on Cit...   \n",
       "1  1. 10% off on Federal Bank Credit Card Txns, u...   \n",
       "\n",
       "                                                 URL Max Discount  \\\n",
       "0           https://www.amazon.in/dp/B0BSTTK7HS?th=1         None   \n",
       "1  https://www.flipkart.com/redmi-note-11-pro-ste...         None   \n",
       "\n",
       "  IBD Bank Name/UPI Min Swipe Bump up VPC(Amazon) SuperCoins(Flipkart)  \n",
       "0              None      None    None        None                 None  \n",
       "1              None      None    None        None                 None  "
      ]
     },
     "execution_count": 16,
     "metadata": {},
     "output_type": "execute_result"
    }
   ],
   "source": [
    "output_data[\"Max Discount\"]=None\n",
    "output_data[\"IBD Bank Name/UPI\"]=None\n",
    "output_data[\"Min Swipe\"]=None\n",
    "output_data[\"Bump up\"]=None\n",
    "output_data[\"VPC(Amazon)\"]=None\n",
    "output_data[\"SuperCoins(Flipkart)\"]=None\n",
    "output_data.drop('BUP', axis=1, inplace=True)\n",
    "output_data.drop('VPC', axis=1, inplace=True)\n",
    "output_data.drop('SuperCoins', axis=1, inplace=True)\n",
    "output_data"
   ]
  },
  {
   "cell_type": "code",
   "execution_count": 17,
   "id": "d6e9df72-7675-44f0-a887-7e0aca832107",
   "metadata": {},
   "outputs": [],
   "source": [
    "def create_content(price, offers):\n",
    "    content=f\"The Price of the SKU is {price}\\n\\nOffers:\\n\\n{offers}\\n\\nWhich is the best Offer?\"\n",
    "    return content"
   ]
  },
  {
   "cell_type": "code",
   "execution_count": 18,
   "id": "4681405c-c068-4a76-9679-126977b63ab3",
   "metadata": {},
   "outputs": [],
   "source": [
    "@tool\n",
    "def get_order_details(order_no):\n",
    "    ''' Get the order details like status, value of order, item names & order date\n",
    "\n",
    "    Inputs:\n",
    "    order_no: Order number which will be used to get the order details\n",
    "    '''\n",
    "    \n",
    "    order_details = {\"order status\":\"In Transit\",\n",
    "    \"order value\":\"Rs. 20999\",\n",
    "    \"SKU name\":\"Redmi 12 Pro\",\n",
    "    \"Order Date\":\"2023-09-25\"\n",
    "    }\n",
    "    return json.dumps(order_details)\n",
    "\n",
    "tools = [get_order_details]"
   ]
  },
  {
   "cell_type": "code",
   "execution_count": 19,
   "id": "23b1747a-9b17-45ce-9ecf-2ba16e4ddd16",
   "metadata": {},
   "outputs": [],
   "source": [
    "#Load the LLM\n",
    "from langchain.chat_models import ChatOpenAI\n",
    "llm = ChatOpenAI(model='gpt-4-0613', temperature=0)"
   ]
  },
  {
   "cell_type": "code",
   "execution_count": 20,
   "id": "13c1e4df-f901-41bc-ab08-5c398ad5d848",
   "metadata": {},
   "outputs": [],
   "source": [
    "#Create the prompt\n",
    "\n",
    "from langchain.prompts import ChatPromptTemplate, MessagesPlaceholder\n",
    "prompt = ChatPromptTemplate.from_messages([\n",
    "    (\"system\", \"You are a helpful assistant which helps users with their order details & any other queries regarding discount & products\"),\n",
    "    (\"human\", \"{input}\"),\n",
    "    MessagesPlaceholder(variable_name=\"agent_scratchpad\"),\n",
    "])"
   ]
  },
  {
   "cell_type": "code",
   "execution_count": 21,
   "id": "ae30d948-37cb-4056-a2b0-4e744cfb16b8",
   "metadata": {},
   "outputs": [],
   "source": [
    "#Bind the tool with the LLM\n",
    "from langchain.tools.render import format_tool_to_openai_function\n",
    "llm_with_tools = llm.bind(\n",
    "    functions=[format_tool_to_openai_function(t) for t in tools]\n",
    ")"
   ]
  },
  {
   "cell_type": "code",
   "execution_count": 22,
   "id": "da217691-0dea-4145-a92a-2287c729f1e1",
   "metadata": {},
   "outputs": [],
   "source": [
    "#Create the Agent\n",
    "\n",
    "from langchain.agents.format_scratchpad import format_to_openai_functions\n",
    "from langchain.agents.output_parsers import OpenAIFunctionsAgentOutputParser\n",
    "agent = {\n",
    "    \"input\": lambda x: x[\"input\"],\n",
    "    \"agent_scratchpad\": lambda x: format_to_openai_functions(x['intermediate_steps'])\n",
    "} | prompt | llm_with_tools | OpenAIFunctionsAgentOutputParser()"
   ]
  },
  {
   "cell_type": "code",
   "execution_count": 23,
   "id": "50ce8b28-9ad4-4ddf-bc6d-1af439d5483f",
   "metadata": {},
   "outputs": [],
   "source": [
    "#Create the agent_executor\n",
    "\n",
    "from langchain.agents import AgentExecutor\n",
    "agent_executor = AgentExecutor(agent=agent, tools=tools, verbose=True, return_intermediate_steps=True)"
   ]
  },
  {
   "cell_type": "code",
   "execution_count": 25,
   "id": "5dfa1aa8-c662-44ab-8501-baabfb1dc5d5",
   "metadata": {},
   "outputs": [
    {
     "name": "stdout",
     "output_type": "stream",
     "text": [
      "\n",
      "\n",
      "\u001b[1m> Entering new AgentExecutor chain...\u001b[0m\n",
      "\u001b[32;1m\u001b[1;3m\n",
      "Invoking: `get_order_details` with `{'order_no': 523791702190}`\n",
      "\n",
      "\n",
      "\u001b[0m\u001b[36;1m\u001b[1;3m{\"order status\": \"In Transit\", \"order value\": \"Rs. 20999\", \"SKU name\": \"Redmi 12 Pro\", \"Order Date\": \"2023-09-25\"}\u001b[0m\u001b[32;1m\u001b[1;3mThe status of your order no 523791702190 is \"In Transit\". You ordered a \"Redmi 12 Pro\" on \"2023-09-25\" and the order value is Rs. 20999.\u001b[0m\n",
      "\n",
      "\u001b[1m> Finished chain.\u001b[0m\n"
     ]
    }
   ],
   "source": [
    "response = agent_executor.invoke({\"input\": \"what is the status of my order no 523791702190?\"})"
   ]
  },
  {
   "cell_type": "code",
   "execution_count": 26,
   "id": "d5075acb-5fa2-42ab-996e-2316029f9ff0",
   "metadata": {},
   "outputs": [
    {
     "data": {
      "text/plain": [
       "{'order_no': 523791702190}"
      ]
     },
     "execution_count": 26,
     "metadata": {},
     "output_type": "execute_result"
    }
   ],
   "source": [
    "response['intermediate_steps'][0][0].tool_input"
   ]
  },
  {
   "cell_type": "code",
   "execution_count": null,
   "id": "a122b4b6-9dfc-4247-b974-749a8f46d5dc",
   "metadata": {},
   "outputs": [],
   "source": []
  }
 ],
 "metadata": {
  "kernelspec": {
   "display_name": "Python 3 (ipykernel)",
   "language": "python",
   "name": "python3"
  },
  "language_info": {
   "codemirror_mode": {
    "name": "ipython",
    "version": 3
   },
   "file_extension": ".py",
   "mimetype": "text/x-python",
   "name": "python",
   "nbconvert_exporter": "python",
   "pygments_lexer": "ipython3",
   "version": "3.10.2"
  }
 },
 "nbformat": 4,
 "nbformat_minor": 5
}
