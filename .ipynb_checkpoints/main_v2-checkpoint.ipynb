{
 "cells": [
  {
   "cell_type": "code",
   "execution_count": 2,
   "id": "cbef7542",
   "metadata": {},
   "outputs": [],
   "source": [
    "## Install from command prompt. Jupyter installation is loading the packages to wrong library\n",
    "\n",
    "# %pip install --upgrade pip\n",
    "# %pip install --disable-pip-version-check \\\n",
    "\n",
    "#%pip install transformers==4.27.2"
   ]
  },
  {
   "cell_type": "code",
   "execution_count": 90,
   "id": "7037f119",
   "metadata": {},
   "outputs": [],
   "source": [
    "#!pip show transformers"
   ]
  },
  {
   "cell_type": "code",
   "execution_count": 4,
   "id": "35e2cd0e-70c7-4069-8983-8ab660044dcf",
   "metadata": {},
   "outputs": [],
   "source": [
    "#pip install torch==1.13.1"
   ]
  },
  {
   "cell_type": "code",
   "execution_count": 2,
   "id": "010e44ed-cea9-4825-97f2-6cbeb82811f3",
   "metadata": {},
   "outputs": [],
   "source": [
    "import openai"
   ]
  },
  {
   "cell_type": "markdown",
   "id": "7e6a7bd5-b298-46f4-98d7-590c2d5168ef",
   "metadata": {},
   "source": [
    "### using openai - gpt-3.5-turbo"
   ]
  },
  {
   "cell_type": "markdown",
   "id": "65808b33-98dd-45da-a572-0a3080429954",
   "metadata": {},
   "source": [
    "#### zero-shot inference"
   ]
  },
  {
   "cell_type": "code",
   "execution_count": 18,
   "id": "4e1bfeed-5de8-4961-acec-4f016f3f38bf",
   "metadata": {},
   "outputs": [],
   "source": [
    "messages = [\n",
    "    {\"role\": \"system\", \"content\": \"You are a helpful assistant.\"},\n",
    "    {\"role\": \"user\", \"content\": \"The Price of SKU is 17999\\n\\nOffers:\\n\\n1. Get 5% back with Amazon Pay ICICI Bank credit card for Prime members. 3% back for others. Not applicable on Amazon business transactions.\\n2. ₹100 cashback & ₹500 welcome rewards on Amazon Pay Later. Activate now. Pay next month at Zero interest or in EMIs! T&C apply.\\n3. Flat INR 500 Instant Discount on ICICI Bank Credit Cards (excluding Amazon Pay ICICI Credit Card) Credit Card Txn. Minimum purchase 4. value INR 15999\\n4. Flat INR 750 Instant Discount on OneCard Credit Card Non EMI Txn. Minimum purchase value INR 15999\\n\\nWhat is the maximum discount applicable?\"}\n",
    "]"
   ]
  },
  {
   "cell_type": "code",
   "execution_count": 19,
   "id": "6ca99602-1bea-4129-887f-839195c9e0fa",
   "metadata": {},
   "outputs": [
    {
     "data": {
      "text/plain": [
       "<OpenAIObject chat.completion id=chatcmpl-7iHv5NFxP9Z07xZkoOKbVub7J29uV at 0x262771bbab0> JSON: {\n",
       "  \"id\": \"chatcmpl-7iHv5NFxP9Z07xZkoOKbVub7J29uV\",\n",
       "  \"object\": \"chat.completion\",\n",
       "  \"created\": 1690789671,\n",
       "  \"model\": \"gpt-3.5-turbo-0613\",\n",
       "  \"choices\": [\n",
       "    {\n",
       "      \"index\": 0,\n",
       "      \"message\": {\n",
       "        \"role\": \"assistant\",\n",
       "        \"content\": \"The maximum discount applicable is INR 750, which is offered through the \\\"Flat INR 750 Instant Discount on OneCard Credit Card Non EMI Txn\\\" offer.\"\n",
       "      },\n",
       "      \"finish_reason\": \"stop\"\n",
       "    }\n",
       "  ],\n",
       "  \"usage\": {\n",
       "    \"prompt_tokens\": 172,\n",
       "    \"completion_tokens\": 36,\n",
       "    \"total_tokens\": 208\n",
       "  }\n",
       "}"
      ]
     },
     "execution_count": 19,
     "metadata": {},
     "output_type": "execute_result"
    }
   ],
   "source": [
    "openai.ChatCompletion.create(\n",
    "  model=\"gpt-3.5-turbo\",\n",
    "  messages=messages\n",
    ")"
   ]
  },
  {
   "cell_type": "markdown",
   "id": "a0a6d527-ec71-49c6-a641-7ee222fad636",
   "metadata": {},
   "source": [
    "#### one-shot inference"
   ]
  },
  {
   "cell_type": "code",
   "execution_count": 13,
   "id": "e3c827c6-213b-4201-87eb-1c04026413b6",
   "metadata": {},
   "outputs": [],
   "source": [
    "messages = [\n",
    "    {\"role\": \"system\", \"content\": \"You are a helpful assistant which helps in the calculation of the maximum discount. End your answer with maximum discount amount\"},\n",
    "    {\"role\": \"user\", \"content\": \"The Price of SKU is 17999\\n\\nOffers:\\n\\n1. Get 5% back with Amazon Pay ICICI Bank credit card for Prime members. 3% back for others. Not applicable on Amazon business transactions.\\n2. ₹100 cashback & ₹500 welcome rewards on Amazon Pay Later. Activate now. Pay next month at Zero interest or in EMIs! T&C apply.\\n3. Flat INR 500 Instant Discount on ICICI Bank Credit Cards (excluding Amazon Pay ICICI Credit Card) Credit Card Txn. Minimum purchase 4. value INR 15999\\n4. Flat INR 750 Instant Discount on OneCard Credit Card Non EMI Txn. Minimum purchase value INR 15999\\n\\nWhat is the maximum discount applicable?\"},\n",
    "    {\"role\": \"assistant\", \"content\": \"Assuming prime member from the first offer the maximum discount applicable is 5%, since 5% is greater than 3%. So the discount amount is 5% of price of sku, which is 17999. This equals 900. From the second offer the maximum discount is 100+500=600. From the third offer since the purchase value 17999 is greater than Minimum purchase value of 15999, hence the discount amount is applicable & it is equal to 500. From the fourth offer the discount = 750 since the Minimum pucrhase value of 15999 is less than than 17999. Out of the 4 offers the maximum discount is 900. So the answer is 900\"},\n",
    "    {\"role\": \"user\", \"content\": \"The Price of SKU is 15899\\n\\nOffers:\\n\\n1. Get 5% back with Amazon Pay ICICI Bank credit card for Prime members. 3% back for others. Not applicable on Amazon business transactions.\\n2. ₹100 cashback & ₹500 welcome rewards on Amazon Pay Later. Activate now. Pay next month at Zero interest or in EMIs! T&C apply.\\n3. Flat INR 500 Instant Discount on ICICI Bank Credit Cards (excluding Amazon Pay ICICI Credit Card) Credit Card Txn. Minimum purchase value INR 15999\\n4. Flat INR 750 Instant Discount on OneCard Credit Card Non EMI Txn. Minimum purchase value INR 15999\\n\\nwhat is the maximum discount applicable?\"}\n",
    "]\n"
   ]
  },
  {
   "cell_type": "code",
   "execution_count": 14,
   "id": "18eadedb-7896-4ff5-9326-9485fa25e7d0",
   "metadata": {},
   "outputs": [
    {
     "name": "stdout",
     "output_type": "stream",
     "text": [
      "ONE SHOT INTERFERENCE-OPEN AI: \n",
      "{\n",
      "  \"id\": \"chatcmpl-7iFkXzVLirzOwhn8PanuZplfzYUFy\",\n",
      "  \"object\": \"chat.completion\",\n",
      "  \"created\": 1690781329,\n",
      "  \"model\": \"gpt-3.5-turbo-0613\",\n",
      "  \"choices\": [\n",
      "    {\n",
      "      \"index\": 0,\n",
      "      \"message\": {\n",
      "        \"role\": \"assistant\",\n",
      "        \"content\": \"Assuming the customer is a Prime member from the first offer, the maximum discount applicable is 5% since it is greater than 3%. So, the discount amount is 5% of the price of the SKU, which is 15899. This equals 794. From the second offer, the maximum discount is 100 + 500 = 600. From the third offer, since the purchase value of 15899 is less than the minimum purchase value of 15999, the discount is not applicable. From the fourth offer, the discount is also not applicable since the minimum purchase value of 15999 is not met. Out of the four offers, the maximum discount is 794. So, the maximum discount applicable is 794.\"\n",
      "      },\n",
      "      \"finish_reason\": \"stop\"\n",
      "    }\n",
      "  ],\n",
      "  \"usage\": {\n",
      "    \"prompt_tokens\": 497,\n",
      "    \"completion_tokens\": 152,\n",
      "    \"total_tokens\": 649\n",
      "  }\n",
      "}\n"
     ]
    }
   ],
   "source": [
    "import openai\n",
    "\n",
    "output=openai.ChatCompletion.create(\n",
    "  model=\"gpt-3.5-turbo\",\n",
    "  messages=messages\n",
    ")\n",
    "\n",
    "print(f\"ONE SHOT INTERFERENCE-OPEN AI: \\n{output}\")"
   ]
  },
  {
   "cell_type": "markdown",
   "id": "b084ae01-db75-4098-9961-39bce0df2618",
   "metadata": {},
   "source": [
    "#### few-shots inference"
   ]
  },
  {
   "cell_type": "code",
   "execution_count": 9,
   "id": "c540c27c-6395-4006-b5e8-a1c335e3b70b",
   "metadata": {},
   "outputs": [
    {
     "ename": "SyntaxError",
     "evalue": "unterminated string literal (detected at line 6) (1486624615.py, line 6)",
     "output_type": "error",
     "traceback": [
      "\u001b[1;36m  Cell \u001b[1;32mIn[9], line 6\u001b[1;36m\u001b[0m\n\u001b[1;33m    {\"role\": \"assistant\", \"content\": \"From the first bank offer since the price value of 18999 is greater than 17999 the discount amount is 2000 . From the second bank offer since the price value of 18999 is greater than 17999 the discount amount is 2100. From the third bank offer since the price value of 18999 is less than minimum purchase value of 19999, the discount value is not applicable. From the fourth bank offer, the discount amount is 5% of the price of the SKU, up to a maximum of 250. Since the price of the SKU is 18999, the discount amount will be 250. Assuming prime member, from the fifth bank offer, the maximum discount applicable is 5%, since 5% is greater than 3%. So the discount amount is 5% of the price of the SKU, which is 18999. This equals 950. From the first cashback offer, the discount amount is 100 cashback + 2150 welcome rewards = 2250. Comparing the discounts from the six offers, the maximum bank discount is 2100 and maximum cashback offer is 2250. So the answer is: \\nMaximum Bank Discount is 2100. \\nMaximum cashback is 2250.\"\"},\u001b[0m\n\u001b[1;37m                                                                                                                                                                                                                                                                                                                                                                                                                                                                                                                                                                                                                                                                                                                                                                                                                                                                                                                                                                                                                                                                                                           ^\u001b[0m\n\u001b[1;31mSyntaxError\u001b[0m\u001b[1;31m:\u001b[0m unterminated string literal (detected at line 6)\n"
     ]
    }
   ],
   "source": [
    "messages_2 = [\n",
    "    {\"role\": \"system\", \"content\": \"You are a helpful assistant which helps in the calculation of the Bank & Cashback discounts. If any offer have more than one discount % take the higher one. End your answer with discount amounts\"},\n",
    "    {\"role\": \"user\", \"content\": \"The Price of SKU is 17999\\n\\nBank Offers:\\n\\n1. Get 5% back with Amazon Pay ICICI Bank credit card for Prime members. 3% back for others. Not applicable on Amazon business transactions.\\n2. Flat INR 500 Instant Discount on ICICI Bank Credit Cards (excluding Amazon Pay ICICI Credit Card) Credit Card Txn. Minimum purchase 4. value INR 15999\\n4. Flat INR 750 Instant Discount on OneCard Credit Card Non EMI Txn. Minimum purchase value INR 15999.\\nCashback offers: \\n1.₹100 cashback & ₹500 welcome rewards on Amazon Pay Later. Activate now. Pay next month at Zero interest or in EMIs! T&C apply.\\n\\nWhat is the maximum bank discount and cashbacks applicable?\"},\n",
    "    {\"role\": \"assistant\", \"content\": \"Assuming prime member from the first bank offer the maximum discount applicable is 5%, since 5% is greater than 3%. So the discount amount is 5% of price of sku, which is 17999. This equals 900. From the second bank offer since the purchase value 17999 is greater than Minimum purchase value of ₹15999, hence the discount amount is applicable & it is equal to ₹500. From the third bank offer the discount = ₹750 since the Minimum pucrhase value of ₹15999 is less than than ₹17999.  From the first cashback offer the maximum cashback is 100 cashback + 500 welcome rewards= 600. so the cashback from this offer is 600.Comparing the discounts from the offers the maximum bank discount is ₹900 & the maximum cashback cashback is ₹600. So the answer is: \\nMaximum Bank Discount is 900. \\nMaximum cashback is 600.\"},\n",
    "    {\"role\": \"user\", \"content\": \"The Price of the SKU is 18999\\n\\nBank Offers:\\n1. Flat INR 2000 Instant Discount on HDFC Bank Credit CardTxn. Minimum purchase value INR 17999\\n2. Flat INR 2100 Instant Discount on ICICI Bank Credit Cards (excluding Amazon Pay ICICI Credit Card) Credit CardTxn. Minimum purchase value INR 17999\\n3. Flat INR 2000 Instant Discount on HDFC Bank Debit Card EMI Txn. Minimum purchase value INR 19999\\n4. 5% Instant Discount up to INR 250 on HSBC Cashback Card Credit Card Transactions. Minimum purchase value INR 1000\\n5. Get 5% back with Amazon Pay ICICI Bank credit card for Prime members. 3% back for others. Not applicable on Amazon business transactions.\\n\\nCashback Offers: \\n1. ₹100 cashback & ₹2150 welcome rewards on Amazon Pay Later.\\n\\nwhat is the maximum bank discount and cashback applicable?\"},\n",
    "    {\"role\": \"assistant\", \"content\": \"From the first bank offer since the price value of 18999 is greater than 17999 the discount amount is 2000 . From the second bank offer since the price value of 18999 is greater than 17999 the discount amount is 2100. From the third bank offer since the price value of 18999 is less than minimum purchase value of 19999, the discount value is not applicable. From the fourth bank offer, the discount amount is 5% of the price of the SKU, up to a maximum of 250. Since the price of the SKU is 18999, the discount amount will be 250. Assuming prime member, from the fifth bank offer, the maximum discount applicable is 5%, since 5% is greater than 3%. So the discount amount is 5% of the price of the SKU, which is 18999. This equals 950. From the first cashback offer, the discount amount is 100 cashback + 2150 welcome rewards = 2250. Comparing the discounts from the six offers, the maximum bank discount is 2100 and maximum cashback offer is 2250. So the answer is: \\nMaximum Bank Discount is 2100. \\nMaximum cashback is 2250.\"\"},\n",
    "    {\"role\": \"user\", \"content\": \"The Price of SKU is 15899\\n\\n Bank Offers:\\n1. Get 5% back with Amazon Pay ICICI Bank credit card for Prime members. 3% back for others. Not applicable on Amazon business transactions.\\n2. Flat INR 500 Instant Discount on ICICI Bank Credit Cards (excluding Amazon Pay ICICI Credit Card) Credit Card Txn. Minimum purchase value INR 15999\\n4. Flat INR 750 Instant Discount on OneCard Credit Card Non EMI Txn. Minimum purchase value INR 15999. \\n1. ₹100 cashback & ₹500 welcome rewards on Amazon Pay Later. Activate now. Pay next month at Zero interest or in EMIs! T&C apply.\\n\\nwhat is the maximum bank discount and cashback applicable?\"}\n",
    "]"
   ]
  },
  {
   "cell_type": "code",
   "execution_count": 10,
   "id": "e8006266-3c6e-4860-8b00-b59dd96e4904",
   "metadata": {},
   "outputs": [
    {
     "data": {
      "text/plain": [
       "[{'role': 'system',\n",
       "  'content': 'You are a helpful assistant which helps in the calculation of the Bank & Cashback discounts. If any offer have more than one discount % take the higher one. End your answer with discount amounts'},\n",
       " {'role': 'user',\n",
       "  'content': 'The Price of SKU is 17999\\n\\nBank Offers:\\n\\n1. Get 5% back with Amazon Pay ICICI Bank credit card for Prime members. 3% back for others. Not applicable on Amazon business transactions.\\n2. Flat INR 500 Instant Discount on ICICI Bank Credit Cards (excluding Amazon Pay ICICI Credit Card) Credit Card Txn. Minimum purchase 4. value INR 15999\\n4. Flat INR 750 Instant Discount on OneCard Credit Card Non EMI Txn. Minimum purchase value INR 15999.\\nCashback offers: \\n1.₹100 cashback & ₹500 welcome rewards on Amazon Pay Later. Activate now. Pay next month at Zero interest or in EMIs! T&C apply.\\n\\nWhat is the discount and cashbacks applicable?'},\n",
       " {'role': 'assistant',\n",
       "  'content': 'Assuming prime member from the first bank offer the maximum discount applicable is 5%, since 5% is greater than 3%. So the discount amount is 5% of price of sku, which is 17999. This equals 900. From the second bank offer since the purchase value 17999 is greater than Minimum purchase value of ₹15999, hence the discount amount is applicable & it is equal to ₹500. From the third bank offer the discount = ₹750 since the Minimum pucrhase value of ₹15999 is less than than ₹17999.  From the first cashback offer the maximum cashback is 100 cashback + 500 welcome rewards= 600. so the cashback from this offer is 600.Comparing the discounts from the offers the maximum bank discount is ₹900 & the maximum cashback cashback is ₹600. So the answer is: \\nMaximum Bank Discount is 900. \\nMaximum cashback is 600.'},\n",
       " {'role': 'user',\n",
       "  'content': 'The Price of the SKU is 18999\\n\\nBank Offers:\\n1. Flat INR 2000 Instant Discount on HDFC Bank Credit CardTxn. Minimum purchase value INR 17999\\n2. Flat INR 2100 Instant Discount on ICICI Bank Credit Cards (excluding Amazon Pay ICICI Credit Card) Credit CardTxn. Minimum purchase value INR 17999\\n3. Flat INR 2000 Instant Discount on HDFC Bank Debit Card EMI Txn. Minimum purchase value INR 19999\\n4. 5% Instant Discount up to INR 250 on HSBC Cashback Card Credit Card Transactions. Minimum purchase value INR 1000\\n5. Get 5% back with Amazon Pay ICICI Bank credit card for Prime members. 3% back for others. Not applicable on Amazon business transactions.\\n\\nCashback Offers: \\n1. ₹100 cashback & ₹2150 welcome rewards on Amazon Pay Later.\\n\\nwhat is the discount and cashback applicable?'},\n",
       " {'role': 'assistant',\n",
       "  'content': 'From the first bank offer since the price value of 18999 is greater than 17999 the discount amount is 2000 . From the second bank offer since the price value of 18999 is greater than 17999 the discount amount is 2100. From the third bank offer since the price value of 18999 is less than minimum purchase value of 19999, the discount value is not applicable. From the fourth bank offer, the discount amount is 5% of the price of the SKU, up to a maximum of 250. Since the price of the SKU is 18999, the discount amount will be 250. Assuming prime member, from the fifth bank offer, the maximum discount applicable is 5%, since 5% is greater than 3%. So the discount amount is 5% of the price of the SKU, which is 18999. This equals 950. From the first cashback offer, the discount amount is 100 cashback + 2150 welcome rewards = 2250. Comparing the discounts from the six offers, the maximum bank discount is 2100 and maximum cashback offer is 2250. So the answer is: \\nMaximum Bank Discount is 2100. \\nMaximum cashback is 2250.'},\n",
       " {'role': 'user',\n",
       "  'content': 'The Price of SKU is 15899\\n\\n Bank Offers:\\n1. Get 5% back with Amazon Pay ICICI Bank credit card for Prime members. 3% back for others. Not applicable on Amazon business transactions.\\n2. Flat INR 500 Instant Discount on ICICI Bank Credit Cards (excluding Amazon Pay ICICI Credit Card) Credit Card Txn. Minimum purchase value INR 15999\\n4. Flat INR 750 Instant Discount on OneCard Credit Card Non EMI Txn. Minimum purchase value INR 15999. \\n1. ₹100 cashback & ₹500 welcome rewards on Amazon Pay Later. Activate now. Pay next month at Zero interest or in EMIs! T&C apply.\\n\\nwhat is the discount and cashback applicable?'}]"
      ]
     },
     "execution_count": 10,
     "metadata": {},
     "output_type": "execute_result"
    }
   ],
   "source": [
    "messages_2"
   ]
  },
  {
   "cell_type": "code",
   "execution_count": 11,
   "id": "f19da733-840a-4307-a4d0-1c3e192a73f0",
   "metadata": {},
   "outputs": [
    {
     "name": "stdout",
     "output_type": "stream",
     "text": [
      "FEW SHOT INTERFERENCE-OPEN AI: \n",
      "From the first bank offer, assuming prime member, the maximum discount applicable is 5%, since 5% is greater than 3%. So the discount amount is 5% of the price of the SKU, which is 15899. This equals 794. From the second bank offer, since the purchase value of 15899 is less than the minimum purchase value of INR 15999, the discount amount is not applicable. From the third bank offer, since the purchase value of 15899 is less than the minimum purchase value of INR 15999, the discount amount is not applicable. From the first cashback offer, the cashback amount is ₹100 cashback + ₹500 welcome rewards, which equals 600. Comparing the discounts from the bank offers, the maximum bank discount applicable is 794. The maximum cashback amount applicable is 600. \n",
      "\n",
      "So, the answer is:\n",
      "Maximum Bank Discount is 794.\n",
      "Maximum cashback is 600.\n"
     ]
    }
   ],
   "source": [
    "output=openai.ChatCompletion.create(\n",
    "  model=\"gpt-3.5-turbo\",\n",
    "  messages=messages_2\n",
    ")\n",
    "\n",
    "print(f\"FEW SHOT INTERFERENCE-OPEN AI: \\n{output['choices'][0]['message']['content']}\")"
   ]
  },
  {
   "cell_type": "code",
   "execution_count": null,
   "id": "27daa4b0-85e9-4679-a930-d76eeb365af3",
   "metadata": {},
   "outputs": [],
   "source": []
  }
 ],
 "metadata": {
  "kernelspec": {
   "display_name": "Python 3 (ipykernel)",
   "language": "python",
   "name": "python3"
  },
  "language_info": {
   "codemirror_mode": {
    "name": "ipython",
    "version": 3
   },
   "file_extension": ".py",
   "mimetype": "text/x-python",
   "name": "python",
   "nbconvert_exporter": "python",
   "pygments_lexer": "ipython3",
   "version": "3.10.2"
  }
 },
 "nbformat": 4,
 "nbformat_minor": 5
}
