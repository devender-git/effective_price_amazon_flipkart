{
 "cells": [
  {
   "cell_type": "code",
   "execution_count": 18,
   "id": "57d5b7aa-6b24-4cf0-9762-118c69579426",
   "metadata": {},
   "outputs": [],
   "source": [
    "def create_data_string(price_of_sku, offers):\n",
    "    data_string = f\"The Price of SKU is {price_of_sku}Offers:\"\"\".join(offers)\n",
    "    return data_string\n"
   ]
  },
  {
   "cell_type": "code",
   "execution_count": 19,
   "id": "cd461e1c-ff30-4469-8e50-52395c78b977",
   "metadata": {},
   "outputs": [
    {
     "name": "stdout",
     "output_type": "stream",
     "text": [
      "The Price of SKU is 15899\n",
      "\n",
      "Offers:\n",
      "1. Get 5% back with Amazon Pay ICICI Bank credit card for Prime members. 3% back for others. Not applicable on Amazon business transactions.\n",
      "2. ₹100 cashback & ₹500 welcome rewards on Amazon Pay Later. Activate now. Pay next month at Zero interest or in EMIs! T&C apply.\n",
      "3. Flat INR 500 Instant Discount on ICICI Bank Credit Cards (excluding Amazon Pay ICICI Credit Card) Credit Card Txn. Minimum purchase value INR 15999\n",
      "4. Flat INR 750 Instant Discount on OneCard Credit Card Non EMI Txn. Minimum purchase value INR 15999\n"
     ]
    }
   ],
   "source": [
    "\n",
    "# Example usage:\n",
    "price_of_sku = 15899\n",
    "offers = [\n",
    "    \"1. Get 5% back with Amazon Pay ICICI Bank credit card for Prime members. 3% back for others. Not applicable on Amazon business transactions.\",\n",
    "    \"2. ₹100 cashback & ₹500 welcome rewards on Amazon Pay Later. Activate now. Pay next month at Zero interest or in EMIs! T&C apply.\",\n",
    "    \"3. Flat INR 500 Instant Discount on ICICI Bank Credit Cards (excluding Amazon Pay ICICI Credit Card) Credit Card Txn. Minimum purchase value INR 15999\",\n",
    "    \"4. Flat INR 750 Instant Discount on OneCard Credit Card Non EMI Txn. Minimum purchase value INR 15999\"\n",
    "]\n",
    "\n",
    "data_string = create_data_string(price_of_sku, offers)\n",
    "print(data_string)\n"
   ]
  },
  {
   "cell_type": "code",
   "execution_count": 14,
   "id": "1137159f-53e3-43b1-8e5f-a4ca275d9815",
   "metadata": {},
   "outputs": [],
   "source": [
    "xyz=create_data_string(price_of_sku, offers)"
   ]
  },
  {
   "cell_type": "code",
   "execution_count": 15,
   "id": "6c8a5ab0-902a-46ff-be41-f4b9b1a57507",
   "metadata": {},
   "outputs": [
    {
     "name": "stdout",
     "output_type": "stream",
     "text": [
      "1. Get 5% back with Amazon Pay ICICI Bank credit card for Prime members. 3% back for others. Not applicable on Amazon business transactions.The Price of SKU is 15899\n",
      "\n",
      "Offers:2. ₹100 cashback & ₹500 welcome rewards on Amazon Pay Later. Activate now. Pay next month at Zero interest or in EMIs! T&C apply.The Price of SKU is 15899\n",
      "\n",
      "Offers:3. Flat INR 500 Instant Discount on ICICI Bank Credit Cards (excluding Amazon Pay ICICI Credit Card) Credit Card Txn. Minimum purchase value INR 15999The Price of SKU is 15899\n",
      "\n",
      "Offers:4. Flat INR 750 Instant Discount on OneCard Credit Card Non EMI Txn. Minimum purchase value INR 15999\n"
     ]
    }
   ],
   "source": [
    "print(xyz)"
   ]
  },
  {
   "cell_type": "code",
   "execution_count": null,
   "id": "1b07bda3-4326-45c3-aef5-2a47ac22aa16",
   "metadata": {},
   "outputs": [],
   "source": []
  }
 ],
 "metadata": {
  "kernelspec": {
   "display_name": "Python 3 (ipykernel)",
   "language": "python",
   "name": "python3"
  },
  "language_info": {
   "codemirror_mode": {
    "name": "ipython",
    "version": 3
   },
   "file_extension": ".py",
   "mimetype": "text/x-python",
   "name": "python",
   "nbconvert_exporter": "python",
   "pygments_lexer": "ipython3",
   "version": "3.10.2"
  }
 },
 "nbformat": 4,
 "nbformat_minor": 5
}
