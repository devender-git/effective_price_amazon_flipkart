{
 "cells": [
  {
   "cell_type": "code",
   "execution_count": 2,
   "id": "49217e3d-a912-4a11-b252-b3e97e1a9b41",
   "metadata": {},
   "outputs": [],
   "source": [
    "import folium"
   ]
  },
  {
   "cell_type": "code",
   "execution_count": 3,
   "id": "4b470da9-811a-4040-b33d-d3558722a5b8",
   "metadata": {},
   "outputs": [],
   "source": [
    "#pip install folium"
   ]
  },
  {
   "cell_type": "code",
   "execution_count": 5,
   "id": "020c8e8a-aed5-42ec-bda0-2820df6ba028",
   "metadata": {},
   "outputs": [],
   "source": [
    "# Sample store data with addresses and coordinates\n",
    "store_data = [\n",
    "    {\"name\": \"Store A\", \"address\": \"Kanagal S.O\", \"lat\": 12.5615, \"lon\": 75.9921 },\n",
    "    {\"name\": \"Store B\", \"address\": \"Kattemalalavadi S.O\", \"lat\": 12.3179, \"lon\": 76.3363},\n",
    "    # Add more store data here...\n",
    "]\n",
    "\n",
    "# Create a map centered at an initial location\n",
    "initial_location = [store_data[0][\"lat\"], store_data[0][\"lon\"]]\n",
    "m = folium.Map(location=initial_location, zoom_start=10)\n",
    "\n",
    "# Add markers for each store\n",
    "for store in store_data:\n",
    "    folium.Marker(\n",
    "        location=[store[\"lat\"], store[\"lon\"]],\n",
    "        popup=store[\"name\"],\n",
    "        tooltip=store[\"address\"]\n",
    "    ).add_to(m)\n",
    "\n",
    "# Save the map to an HTML file\n",
    "m.save(\"store_map.html\")"
   ]
  },
  {
   "cell_type": "code",
   "execution_count": null,
   "id": "705672d8-2d3d-4c49-9f27-7cfd5ef24c8c",
   "metadata": {},
   "outputs": [],
   "source": []
  }
 ],
 "metadata": {
  "kernelspec": {
   "display_name": "Python 3 (ipykernel)",
   "language": "python",
   "name": "python3"
  },
  "language_info": {
   "codemirror_mode": {
    "name": "ipython",
    "version": 3
   },
   "file_extension": ".py",
   "mimetype": "text/x-python",
   "name": "python",
   "nbconvert_exporter": "python",
   "pygments_lexer": "ipython3",
   "version": "3.10.2"
  }
 },
 "nbformat": 4,
 "nbformat_minor": 5
}
