{
 "cells": [
  {
   "cell_type": "code",
   "execution_count": 2,
   "id": "49217e3d-a912-4a11-b252-b3e97e1a9b41",
   "metadata": {},
   "outputs": [],
   "source": [
    "import folium"
   ]
  },
  {
   "cell_type": "code",
   "execution_count": 3,
   "id": "4b470da9-811a-4040-b33d-d3558722a5b8",
   "metadata": {},
   "outputs": [],
   "source": [
    "#pip install folium"
   ]
  },
  {
   "cell_type": "code",
   "execution_count": 6,
   "id": "020c8e8a-aed5-42ec-bda0-2820df6ba028",
   "metadata": {},
   "outputs": [],
   "source": [
    "# Sample store data with addresses and coordinates\n",
    "store_data = [\n",
    "    {\"name\": \"Store A\", \"address\": \"Kanagal S.O\", \"lat\": 12.5615, \"lon\": 75.9921 },\n",
    "    {\"name\": \"Store B\", \"address\": \"Kattemalalavadi S.O\", \"lat\": 12.3179, \"lon\": 76.3363},\n",
    "    # Add more store data here...\n",
    "]\n",
    "\n",
    "# Create a map centered at an initial location\n",
    "initial_location = [store_data[0][\"lat\"], store_data[0][\"lon\"]]\n",
    "m = folium.Map(location=initial_location, zoom_start=10)\n",
    "\n",
    "# Add markers for each store\n",
    "for store in store_data:\n",
    "    folium.Marker(\n",
    "        location=[store[\"lat\"], store[\"lon\"]],\n",
    "        popup=store[\"name\"],\n",
    "        tooltip=store[\"address\"]\n",
    "    ).add_to(m)\n",
    "\n",
    "# Save the map to an HTML file\n",
    "m.save(\"store_map.html\")"
   ]
  },
  {
   "cell_type": "code",
   "execution_count": 2,
   "id": "705672d8-2d3d-4c49-9f27-7cfd5ef24c8c",
   "metadata": {},
   "outputs": [],
   "source": [
    "import openai"
   ]
  },
  {
   "cell_type": "code",
   "execution_count": 11,
   "id": "9bbc0965-1601-4f0d-8cf2-f3236716026b",
   "metadata": {},
   "outputs": [],
   "source": [
    "messages=[\n",
    "        {\"role\": \"system\", \"content\": \"You are a helpful assistant.\"},\n",
    "        {\"role\": \"user\", \"content\": \"Knock knock.\"},\n",
    "        {\"role\": \"assistant\", \"content\": \"Who's there?\"},\n",
    "        {\"role\": \"user\", \"content\": \"Orange.\"}\n",
    "    ],\n",
    "temperature=0"
   ]
  },
  {
   "cell_type": "code",
   "execution_count": 15,
   "id": "696bdfdc-8c2d-4925-9e25-da9d70c3569d",
   "metadata": {},
   "outputs": [
    {
     "data": {
      "text/plain": [
       "<OpenAIObject chat.completion id=chatcmpl-8AAmgM4FEhOYRgFBBny0EJK7bkH6n at 0x1384c609da0> JSON: {\n",
       "  \"id\": \"chatcmpl-8AAmgM4FEhOYRgFBBny0EJK7bkH6n\",\n",
       "  \"object\": \"chat.completion\",\n",
       "  \"created\": 1697435426,\n",
       "  \"model\": \"gpt-3.5-turbo-0613\",\n",
       "  \"choices\": [\n",
       "    {\n",
       "      \"index\": 0,\n",
       "      \"message\": {\n",
       "        \"role\": \"assistant\",\n",
       "        \"content\": \"Orange who?\"\n",
       "      },\n",
       "      \"finish_reason\": \"stop\"\n",
       "    }\n",
       "  ],\n",
       "  \"usage\": {\n",
       "    \"prompt_tokens\": 35,\n",
       "    \"completion_tokens\": 3,\n",
       "    \"total_tokens\": 38\n",
       "  }\n",
       "}"
      ]
     },
     "execution_count": 15,
     "metadata": {},
     "output_type": "execute_result"
    }
   ],
   "source": [
    "output = openai.ChatCompletion.create(model=\"gpt-4\", messages=[\n",
    "        {\"role\": \"system\", \"content\": \"You are a helpful assistant.\"},\n",
    "        {\"role\": \"user\", \"content\": \"Knock knock.\"},\n",
    "        {\"role\": \"assistant\", \"content\": \"Who's there?\"},\n",
    "        {\"role\": \"user\", \"content\": \"Orange.\"}\n",
    "    ],\n",
    "temperature=0)\n",
    "\n",
    "output"
   ]
  },
  {
   "cell_type": "code",
   "execution_count": 8,
   "id": "e7f4a56a-418d-48ca-ada7-4bd2b94f5efe",
   "metadata": {},
   "outputs": [
    {
     "data": {
      "text/plain": [
       "<OpenAIObject chat.completion id=chatcmpl-8AAjdvtAFYnFyRtzIyUzLjEfyT0HV at 0x1384c568180> JSON: {\n",
       "  \"id\": \"chatcmpl-8AAjdvtAFYnFyRtzIyUzLjEfyT0HV\",\n",
       "  \"object\": \"chat.completion\",\n",
       "  \"created\": 1697435237,\n",
       "  \"model\": \"gpt-3.5-turbo-0613\",\n",
       "  \"choices\": [\n",
       "    {\n",
       "      \"index\": 0,\n",
       "      \"message\": {\n",
       "        \"role\": \"assistant\",\n",
       "        \"content\": \"Orange who?\"\n",
       "      },\n",
       "      \"finish_reason\": \"stop\"\n",
       "    }\n",
       "  ],\n",
       "  \"usage\": {\n",
       "    \"prompt_tokens\": 35,\n",
       "    \"completion_tokens\": 3,\n",
       "    \"total_tokens\": 38\n",
       "  }\n",
       "}"
      ]
     },
     "execution_count": 8,
     "metadata": {},
     "output_type": "execute_result"
    }
   ],
   "source": [
    "MODEL = \"gpt-3.5-turbo\"\n",
    "response = openai.ChatCompletion.create(\n",
    "    model=MODEL,\n",
    "    messages=[\n",
    "        {\"role\": \"system\", \"content\": \"You are a helpful assistant.\"},\n",
    "        {\"role\": \"user\", \"content\": \"Knock knock.\"},\n",
    "        {\"role\": \"assistant\", \"content\": \"Who's there?\"},\n",
    "        {\"role\": \"user\", \"content\": \"Orange.\"},\n",
    "    ],\n",
    "    temperature=0,\n",
    ")\n",
    "\n",
    "response"
   ]
  },
  {
   "cell_type": "code",
   "execution_count": null,
   "id": "820a79d6-2838-48c4-847d-c1a0942ce599",
   "metadata": {},
   "outputs": [],
   "source": []
  }
 ],
 "metadata": {
  "kernelspec": {
   "display_name": "Python 3 (ipykernel)",
   "language": "python",
   "name": "python3"
  },
  "language_info": {
   "codemirror_mode": {
    "name": "ipython",
    "version": 3
   },
   "file_extension": ".py",
   "mimetype": "text/x-python",
   "name": "python",
   "nbconvert_exporter": "python",
   "pygments_lexer": "ipython3",
   "version": "3.10.2"
  }
 },
 "nbformat": 4,
 "nbformat_minor": 5
}
