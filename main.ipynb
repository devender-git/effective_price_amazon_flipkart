{
 "cells": [
  {
   "cell_type": "code",
   "execution_count": 2,
   "id": "cbef7542",
   "metadata": {},
   "outputs": [],
   "source": [
    "## Install from command prompt. Jupyter installation is loading the packages to wrong library\n",
    "\n",
    "# %pip install --upgrade pip\n",
    "# %pip install --disable-pip-version-check \\\n",
    "\n",
    "#%pip install transformers==4.27.2"
   ]
  },
  {
   "cell_type": "code",
   "execution_count": 90,
   "id": "7037f119",
   "metadata": {},
   "outputs": [],
   "source": [
    "#!pip show transformers"
   ]
  },
  {
   "cell_type": "code",
   "execution_count": 4,
   "id": "35e2cd0e-70c7-4069-8983-8ab660044dcf",
   "metadata": {},
   "outputs": [],
   "source": [
    "#pip install torch==1.13.1"
   ]
  },
  {
   "cell_type": "markdown",
   "id": "2b633c51-c16e-48ea-a741-d2111e8c401e",
   "metadata": {},
   "source": [
    "### Using Open source flan model"
   ]
  },
  {
   "cell_type": "code",
   "execution_count": 1,
   "id": "0d2e18b4",
   "metadata": {},
   "outputs": [],
   "source": [
    "from transformers import AutoModelForSeq2SeqLM\n",
    "from transformers import AutoTokenizer\n",
    "from transformers import GenerationConfig"
   ]
  },
  {
   "cell_type": "code",
   "execution_count": 2,
   "id": "7ca92640",
   "metadata": {},
   "outputs": [
    {
     "data": {
      "application/vnd.jupyter.widget-view+json": {
       "model_id": "fb5487f5c5974fc1a73d4b0609a1ce32",
       "version_major": 2,
       "version_minor": 0
      },
      "text/plain": [
       "Loading checkpoint shards:   0%|          | 0/2 [00:00<?, ?it/s]"
      ]
     },
     "metadata": {},
     "output_type": "display_data"
    }
   ],
   "source": [
    "model_name='google/flan-t5-xl'\n",
    "\n",
    "model = AutoModelForSeq2SeqLM.from_pretrained(model_name)"
   ]
  },
  {
   "cell_type": "code",
   "execution_count": 3,
   "id": "e606e4d8-703b-4ab4-809f-ceaaea340d03",
   "metadata": {},
   "outputs": [],
   "source": [
    "tokenizer = AutoTokenizer.from_pretrained(model_name, use_fast=True)"
   ]
  },
  {
   "cell_type": "markdown",
   "id": "85611e74-be14-45a6-b02d-03d5fb89d929",
   "metadata": {},
   "source": [
    "#### Zero-shot inference"
   ]
  },
  {
   "cell_type": "code",
   "execution_count": 15,
   "id": "138442ae-8ccb-454a-8cfd-aac479527256",
   "metadata": {},
   "outputs": [],
   "source": [
    "zero_shot_prompt = f\"\"\"\n",
    "\n",
    "The Price of SKU is 15899\n",
    "\n",
    "Offers:\n",
    "1. Get 5% back with Amazon Pay ICICI Bank credit card for Prime members. 3% back for others. Not applicable on Amazon business transactions.\n",
    "2. ₹100 cashback & ₹500 welcome rewards on Amazon Pay Later. Activate now. Pay next month at Zero interest or in EMIs! T&C apply.\n",
    "3. Flat INR 500 Instant Discount on ICICI Bank Credit Cards (excluding Amazon Pay ICICI Credit Card) Credit Card Txn. Minimum purchase value INR 15999\n",
    "4. Flat INR 750 Instant Discount on OneCard Credit Card Non EMI Txn. Minimum purchase value INR 15999\n",
    "\n",
    "what is the maximum discount? \n",
    "\"\"\""
   ]
  },
  {
   "cell_type": "code",
   "execution_count": 16,
   "id": "85b65fbc-82d1-4a0b-89d9-68e2d6ace092",
   "metadata": {},
   "outputs": [
    {
     "name": "stdout",
     "output_type": "stream",
     "text": [
      "\n",
      "\n",
      "The Price of SKU is 15899\n",
      "\n",
      "Offers:\n",
      "1. Get 5% back with Amazon Pay ICICI Bank credit card for Prime members. 3% back for others. Not applicable on Amazon business transactions.\n",
      "2. ₹100 cashback & ₹500 welcome rewards on Amazon Pay Later. Activate now. Pay next month at Zero interest or in EMIs! T&C apply.\n",
      "3. Flat INR 500 Instant Discount on ICICI Bank Credit Cards (excluding Amazon Pay ICICI Credit Card) Credit Card Txn. Minimum purchase value INR 15999\n",
      "4. Flat INR 750 Instant Discount on OneCard Credit Card Non EMI Txn. Minimum purchase value INR 15999\n",
      "\n",
      "what is the maximum discount? \n",
      "\n"
     ]
    }
   ],
   "source": [
    "print(zero_shot_prompt)"
   ]
  },
  {
   "cell_type": "code",
   "execution_count": 17,
   "id": "85805387-3f33-419f-ad09-3a6109c5f744",
   "metadata": {},
   "outputs": [
    {
     "name": "stdout",
     "output_type": "stream",
     "text": [
      "MODEL GENERATION - ZERO SHOT:\n",
      "750\n"
     ]
    }
   ],
   "source": [
    "inputs = tokenizer(zero_shot_prompt, return_tensors='pt')\n",
    "output = tokenizer.decode(\n",
    "    model.generate(\n",
    "        inputs[\"input_ids\"],\n",
    "        max_new_tokens=500,\n",
    "    )[0], \n",
    "    skip_special_tokens=True\n",
    ")\n",
    "print(f'MODEL GENERATION - ZERO SHOT:\\n{output}')"
   ]
  },
  {
   "cell_type": "markdown",
   "id": "d7809a4c-dfa2-4840-831a-59b51ce6c02b",
   "metadata": {},
   "source": [
    "#### One-shot inference"
   ]
  },
  {
   "cell_type": "code",
   "execution_count": 7,
   "id": "6adf0bfb-9d04-4754-8408-081533de0058",
   "metadata": {},
   "outputs": [],
   "source": [
    "prompt = f\"\"\"\n",
    "\n",
    "Q. \n",
    "\n",
    "The Price of SKU is 17999\n",
    "\n",
    "Offers:\n",
    "\n",
    "1. Get 5% back with Amazon Pay ICICI Bank credit card for Prime members. 3% back for others. Not applicable on Amazon business transactions.\n",
    "2. ₹100 cashback & ₹500 welcome rewards on Amazon Pay Later. Activate now. Pay next month at Zero interest or in EMIs! T&C apply.\n",
    "3. Flat INR 500 Instant Discount on ICICI Bank Credit Cards (excluding Amazon Pay ICICI Credit Card) Credit Card Txn. Minimum purchase 4. value INR 15999\n",
    "5. Flat INR 750 Instant Discount on OneCard Credit Card Non EMI Txn. Minimum purchase value INR 15999\n",
    "\n",
    "A: The price of the SKU is 17999. From the first offer the maximum dicount is 5% of price if SKU which is 17999) = 900. From the second offer the maximum discount is 100+500=600. From the third offer discount = 500 since the purchase value 17999 is greater than Minimum purchase value of 15999. From the fourth offer the discount = 750 since the Minimum pucrhase value of 15999 is less than than sku price of 17999. Out of the 4 offers the maximum discount is 900. So the answer is 900.\n",
    "\n",
    "\n",
    "Q.\n",
    "\n",
    "The Price of SKU is 15899\n",
    "\n",
    "Offers:\n",
    "1. Get 5% back with Amazon Pay ICICI Bank credit card for Prime members. 3% back for others. Not applicable on Amazon business transactions.\n",
    "2. ₹100 cashback & ₹500 welcome rewards on Amazon Pay Later. Activate now. Pay next month at Zero interest or in EMIs! T&C apply.\n",
    "3. Flat INR 500 Instant Discount on ICICI Bank Credit Cards (excluding Amazon Pay ICICI Credit Card) Credit Card Txn. Minimum purchase value INR 15999\n",
    "4. Flat INR 750 Instant Discount on OneCard Credit Card Non EMI Txn. Minimum purchase value INR 15999\n",
    "\n",
    "A: \n",
    "\"\"\""
   ]
  },
  {
   "cell_type": "code",
   "execution_count": 8,
   "id": "12b1026d-128d-4b43-8d39-921e04e860ab",
   "metadata": {},
   "outputs": [
    {
     "name": "stdout",
     "output_type": "stream",
     "text": [
      "\n",
      "\n",
      "Q. \n",
      "\n",
      "The Price of SKU is 17999\n",
      "\n",
      "Offers:\n",
      "\n",
      "1. Get 5% back with Amazon Pay ICICI Bank credit card for Prime members. 3% back for others. Not applicable on Amazon business transactions.\n",
      "2. ₹100 cashback & ₹500 welcome rewards on Amazon Pay Later. Activate now. Pay next month at Zero interest or in EMIs! T&C apply.\n",
      "3. Flat INR 500 Instant Discount on ICICI Bank Credit Cards (excluding Amazon Pay ICICI Credit Card) Credit Card Txn. Minimum purchase 4. value INR 15999\n",
      "5. Flat INR 750 Instant Discount on OneCard Credit Card Non EMI Txn. Minimum purchase value INR 15999\n",
      "\n",
      "A: The price of the SKU is 17999. From the first offer the maximum dicount is 5% of price if SKU which is 17999) = 900. From the second offer the maximum discount is 100+500=600. From the third offer discount = 500 since the purchase value 17999 is greater than Minimum purchase value of 15999. From the fourth offer the discount = 750 since the Minimum pucrhase value of 15999 is less than than sku price of 17999. Out of the 4 offers the maximum discount is 900. So the answer is 900.\n",
      "\n",
      "\n",
      "Q.\n",
      "\n",
      "The Price of SKU is 15899\n",
      "\n",
      "Offers:\n",
      "1. Get 5% back with Amazon Pay ICICI Bank credit card for Prime members. 3% back for others. Not applicable on Amazon business transactions.\n",
      "2. ₹100 cashback & ₹500 welcome rewards on Amazon Pay Later. Activate now. Pay next month at Zero interest or in EMIs! T&C apply.\n",
      "3. Flat INR 500 Instant Discount on ICICI Bank Credit Cards (excluding Amazon Pay ICICI Credit Card) Credit Card Txn. Minimum purchase value INR 15999\n",
      "4. Flat INR 750 Instant Discount on OneCard Credit Card Non EMI Txn. Minimum purchase value INR 15999\n",
      "\n",
      "A: \n",
      "\n"
     ]
    }
   ],
   "source": [
    "print(prompt)"
   ]
  },
  {
   "cell_type": "code",
   "execution_count": 9,
   "id": "53eabbbe-eb37-48a8-aa9d-4f00f6e5209a",
   "metadata": {},
   "outputs": [
    {
     "name": "stdout",
     "output_type": "stream",
     "text": [
      "MODEL GENERATION - ONE SHOT:\n",
      "The price of the SKU is 15899. From the first offer the maximum dicount is 5% of price if SKU which is 15899) = 900. From the second offer the maximum discount is 100+500 = 600. From the third offer the discount = 500 since the purchase value 15999 is less than than sku price of 15899. From the fourth offer the discount = 750 since the minimum purchase value is 15999. So the answer is 750.\n"
     ]
    }
   ],
   "source": [
    "inputs = tokenizer(prompt, return_tensors='pt')\n",
    "output = tokenizer.decode(\n",
    "    model.generate(\n",
    "        inputs[\"input_ids\"],\n",
    "        max_new_tokens=500,\n",
    "    )[0], \n",
    "    skip_special_tokens=True\n",
    ")\n",
    "print(f'MODEL GENERATION - ONE SHOT:\\n{output}')"
   ]
  },
  {
   "cell_type": "markdown",
   "id": "d136b527-8ac8-4e6f-8b45-9988f2e1d0b0",
   "metadata": {},
   "source": [
    "#### few shots inference"
   ]
  },
  {
   "cell_type": "code",
   "execution_count": 10,
   "id": "222c4067-47b9-4f6f-a2fe-ed01a7a3a954",
   "metadata": {},
   "outputs": [],
   "source": [
    "prompt = f\"\"\"\n",
    "\n",
    "Q. \n",
    "\n",
    "The Price of SKU is 17999\n",
    "\n",
    "Offers:\n",
    "\n",
    "1. Get 5% back with Amazon Pay ICICI Bank credit card for Prime members. 3% back for others. Not applicable on Amazon business transactions.\n",
    "2. ₹100 cashback & ₹500 welcome rewards on Amazon Pay Later. Activate now. Pay next month at Zero interest or in EMIs! T&C apply.\n",
    "3. Flat INR 500 Instant Discount on ICICI Bank Credit Cards (excluding Amazon Pay ICICI Credit Card) Credit Card Txn. Minimum purchase 4. value INR 15999\n",
    "5. Flat INR 750 Instant Discount on OneCard Credit Card Non EMI Txn. Minimum purchase value INR 15999\n",
    "\n",
    "A: The price of the SKU is 17999. From the first offer the maximum dicount is 5% of price if SKU which is 17999) = 900. From the second offer the maximum discount is 100+500=600. From the third offer discount = 500 since the purchase value 17999 is greater than Minimum purchase value of 15999. From the fourth offer the discount = 750 since the Minimum pucrhase value of 15999 is less than than sku price of 17999. Out of the 4 offers the maximum discount is 900. So the answer is 900.\n",
    "\n",
    "\n",
    "Q.\n",
    "\n",
    "The Price of SKU is 15899\n",
    "\n",
    "Offers:\n",
    "1. Get 5% back with Amazon Pay ICICI Bank credit card for Prime members. 3% back for others. Not applicable on Amazon business transactions.\n",
    "2. ₹100 cashback & ₹500 welcome rewards on Amazon Pay Later. Activate now. Pay next month at Zero interest or in EMIs! T&C apply.\n",
    "3. Flat INR 500 Instant Discount on ICICI Bank Credit Cards (excluding Amazon Pay ICICI Credit Card) Credit Card Txn. Minimum purchase value INR 15999\n",
    "4. Flat INR 750 Instant Discount on OneCard Credit Card Non EMI Txn. Minimum purchase value INR 15999\n",
    "\n",
    "A: The price of the SKU is 15899. From the first offer the maximum dicount is 5% of price if SKU which is 15899) = 795. From the second offer the maximum discount is 100+500=600. From the third offer since the purchase value 15899 is less than minimum sku purchase value of 15999, hence the discount is not applicable. From the fourth offer since the minimum pucrhase value of 15999 is greater than the sku price of 15899, hence the discount is not applicable. Out of the 4 offers the maximum discount is 795. So the answer is 795.\n",
    "\"\"\""
   ]
  },
  {
   "cell_type": "code",
   "execution_count": null,
   "id": "fcfa3c31-1757-46d3-9a68-63a80e2c13f2",
   "metadata": {},
   "outputs": [],
   "source": []
  },
  {
   "cell_type": "code",
   "execution_count": null,
   "id": "2258ffa9-7154-4cbe-80d9-a45c4868c70f",
   "metadata": {},
   "outputs": [],
   "source": []
  },
  {
   "cell_type": "markdown",
   "id": "7e6a7bd5-b298-46f4-98d7-590c2d5168ef",
   "metadata": {},
   "source": [
    "### using openai - gpt-3.5-turbo"
   ]
  },
  {
   "cell_type": "markdown",
   "id": "65808b33-98dd-45da-a572-0a3080429954",
   "metadata": {},
   "source": [
    "#### zero-shot inference"
   ]
  },
  {
   "cell_type": "code",
   "execution_count": 18,
   "id": "4e1bfeed-5de8-4961-acec-4f016f3f38bf",
   "metadata": {},
   "outputs": [],
   "source": [
    "messages = [\n",
    "    {\"role\": \"system\", \"content\": \"You are a helpful assistant.\"},\n",
    "    {\"role\": \"user\", \"content\": \"The Price of SKU is 17999\\n\\nOffers:\\n\\n1. Get 5% back with Amazon Pay ICICI Bank credit card for Prime members. 3% back for others. Not applicable on Amazon business transactions.\\n2. ₹100 cashback & ₹500 welcome rewards on Amazon Pay Later. Activate now. Pay next month at Zero interest or in EMIs! T&C apply.\\n3. Flat INR 500 Instant Discount on ICICI Bank Credit Cards (excluding Amazon Pay ICICI Credit Card) Credit Card Txn. Minimum purchase 4. value INR 15999\\n4. Flat INR 750 Instant Discount on OneCard Credit Card Non EMI Txn. Minimum purchase value INR 15999\\n\\nWhat is the maximum discount applicable?\"}\n",
    "]"
   ]
  },
  {
   "cell_type": "code",
   "execution_count": 19,
   "id": "6ca99602-1bea-4129-887f-839195c9e0fa",
   "metadata": {},
   "outputs": [
    {
     "data": {
      "text/plain": [
       "<OpenAIObject chat.completion id=chatcmpl-7iHv5NFxP9Z07xZkoOKbVub7J29uV at 0x262771bbab0> JSON: {\n",
       "  \"id\": \"chatcmpl-7iHv5NFxP9Z07xZkoOKbVub7J29uV\",\n",
       "  \"object\": \"chat.completion\",\n",
       "  \"created\": 1690789671,\n",
       "  \"model\": \"gpt-3.5-turbo-0613\",\n",
       "  \"choices\": [\n",
       "    {\n",
       "      \"index\": 0,\n",
       "      \"message\": {\n",
       "        \"role\": \"assistant\",\n",
       "        \"content\": \"The maximum discount applicable is INR 750, which is offered through the \\\"Flat INR 750 Instant Discount on OneCard Credit Card Non EMI Txn\\\" offer.\"\n",
       "      },\n",
       "      \"finish_reason\": \"stop\"\n",
       "    }\n",
       "  ],\n",
       "  \"usage\": {\n",
       "    \"prompt_tokens\": 172,\n",
       "    \"completion_tokens\": 36,\n",
       "    \"total_tokens\": 208\n",
       "  }\n",
       "}"
      ]
     },
     "execution_count": 19,
     "metadata": {},
     "output_type": "execute_result"
    }
   ],
   "source": [
    "import openai\n",
    "\n",
    "openai.ChatCompletion.create(\n",
    "  model=\"gpt-3.5-turbo\",\n",
    "  messages=messages\n",
    ")"
   ]
  },
  {
   "cell_type": "markdown",
   "id": "a0a6d527-ec71-49c6-a641-7ee222fad636",
   "metadata": {},
   "source": [
    "#### one-shot inference"
   ]
  },
  {
   "cell_type": "code",
   "execution_count": 13,
   "id": "e3c827c6-213b-4201-87eb-1c04026413b6",
   "metadata": {},
   "outputs": [],
   "source": [
    "messages = [\n",
    "    {\"role\": \"system\", \"content\": \"You are a helpful assistant which helps in the calculation of the maximum discount. End your answer with maximum discount amount\"},\n",
    "    {\"role\": \"user\", \"content\": \"The Price of SKU is 17999\\n\\nOffers:\\n\\n1. Get 5% back with Amazon Pay ICICI Bank credit card for Prime members. 3% back for others. Not applicable on Amazon business transactions.\\n2. ₹100 cashback & ₹500 welcome rewards on Amazon Pay Later. Activate now. Pay next month at Zero interest or in EMIs! T&C apply.\\n3. Flat INR 500 Instant Discount on ICICI Bank Credit Cards (excluding Amazon Pay ICICI Credit Card) Credit Card Txn. Minimum purchase 4. value INR 15999\\n4. Flat INR 750 Instant Discount on OneCard Credit Card Non EMI Txn. Minimum purchase value INR 15999\\n\\nWhat is the maximum discount applicable?\"},\n",
    "    {\"role\": \"assistant\", \"content\": \"Assuming prime member from the first offer the maximum discount applicable is 5%, since 5% is greater than 3%. So the discount amount is 5% of price of sku, which is 17999. This equals 900. From the second offer the maximum discount is 100+500=600. From the third offer since the purchase value 17999 is greater than Minimum purchase value of 15999, hence the discount amount is applicable & it is equal to 500. From the fourth offer the discount = 750 since the Minimum pucrhase value of 15999 is less than than 17999. Out of the 4 offers the maximum discount is 900. So the answer is 900\"},\n",
    "    {\"role\": \"user\", \"content\": \"The Price of SKU is 15899\\n\\nOffers:\\n\\n1. Get 5% back with Amazon Pay ICICI Bank credit card for Prime members. 3% back for others. Not applicable on Amazon business transactions.\\n2. ₹100 cashback & ₹500 welcome rewards on Amazon Pay Later. Activate now. Pay next month at Zero interest or in EMIs! T&C apply.\\n3. Flat INR 500 Instant Discount on ICICI Bank Credit Cards (excluding Amazon Pay ICICI Credit Card) Credit Card Txn. Minimum purchase value INR 15999\\n4. Flat INR 750 Instant Discount on OneCard Credit Card Non EMI Txn. Minimum purchase value INR 15999\\n\\nwhat is the maximum discount applicable?\"}\n",
    "]\n"
   ]
  },
  {
   "cell_type": "code",
   "execution_count": 14,
   "id": "18eadedb-7896-4ff5-9326-9485fa25e7d0",
   "metadata": {},
   "outputs": [
    {
     "name": "stdout",
     "output_type": "stream",
     "text": [
      "ONE SHOT INTERFERENCE-OPEN AI: \n",
      "{\n",
      "  \"id\": \"chatcmpl-7iFkXzVLirzOwhn8PanuZplfzYUFy\",\n",
      "  \"object\": \"chat.completion\",\n",
      "  \"created\": 1690781329,\n",
      "  \"model\": \"gpt-3.5-turbo-0613\",\n",
      "  \"choices\": [\n",
      "    {\n",
      "      \"index\": 0,\n",
      "      \"message\": {\n",
      "        \"role\": \"assistant\",\n",
      "        \"content\": \"Assuming the customer is a Prime member from the first offer, the maximum discount applicable is 5% since it is greater than 3%. So, the discount amount is 5% of the price of the SKU, which is 15899. This equals 794. From the second offer, the maximum discount is 100 + 500 = 600. From the third offer, since the purchase value of 15899 is less than the minimum purchase value of 15999, the discount is not applicable. From the fourth offer, the discount is also not applicable since the minimum purchase value of 15999 is not met. Out of the four offers, the maximum discount is 794. So, the maximum discount applicable is 794.\"\n",
      "      },\n",
      "      \"finish_reason\": \"stop\"\n",
      "    }\n",
      "  ],\n",
      "  \"usage\": {\n",
      "    \"prompt_tokens\": 497,\n",
      "    \"completion_tokens\": 152,\n",
      "    \"total_tokens\": 649\n",
      "  }\n",
      "}\n"
     ]
    }
   ],
   "source": [
    "import openai\n",
    "\n",
    "output=openai.ChatCompletion.create(\n",
    "  model=\"gpt-3.5-turbo\",\n",
    "  messages=messages\n",
    ")\n",
    "\n",
    "print(f\"ONE SHOT INTERFERENCE-OPEN AI: \\n{output}\")"
   ]
  },
  {
   "cell_type": "markdown",
   "id": "b084ae01-db75-4098-9961-39bce0df2618",
   "metadata": {},
   "source": [
    "#### few-shots inference"
   ]
  },
  {
   "cell_type": "code",
   "execution_count": 2,
   "id": "c540c27c-6395-4006-b5e8-a1c335e3b70b",
   "metadata": {},
   "outputs": [],
   "source": [
    "messages_2 = [\n",
    "    {\"role\": \"system\", \"content\": \"You are a helpful assistant which helps in the calculation of the maximum discount. If any offer have more than one discount % take the higher one. End your answer with maximum discount amount\"},\n",
    "    {\"role\": \"user\", \"content\": \"The Price of SKU is 17999\\n\\nOffers:\\n\\n1. Get 5% back with Amazon Pay ICICI Bank credit card for Prime members. 3% back for others. Not applicable on Amazon business transactions.\\n2. ₹100 cashback & ₹500 welcome rewards on Amazon Pay Later. Activate now. Pay next month at Zero interest or in EMIs! T&C apply.\\n3. Flat INR 500 Instant Discount on ICICI Bank Credit Cards (excluding Amazon Pay ICICI Credit Card) Credit Card Txn. Minimum purchase 4. value INR 15999\\n4. Flat INR 750 Instant Discount on OneCard Credit Card Non EMI Txn. Minimum purchase value INR 15999\\n\\nWhat is the maximum discount applicable?\"},\n",
    "    {\"role\": \"assistant\", \"content\": \"Assuming prime member from the first offer the maximum discount applicable is 5%, since 5% is greater than 3%. So the discount amount is 5% of price of sku, which is 17999. This equals 900. From the second offer the maximum discount is 100 cashback + 500 welcome rewards= 600. so the discount from this offer is 600. From the third offer since the purchase value 17999 is greater than Minimum purchase value of ₹15999, hence the discount amount is applicable & it is equal to ₹500. From the fourth offer the discount = ₹750 since the Minimum pucrhase value of ₹15999 is less than than ₹17999. Comparing the discounts from the 4 offers the maximum discount is ₹900. So the answer is ₹900\"},\n",
    "    {\"role\": \"user\", \"content\": \"The Price of the SKU is 18999\\n\\nOffers:\\n\\n1. Flat INR 2000 Instant Discount on HDFC Bank Credit CardTxn. Minimum purchase value INR 17999\\n\\n2. Flat INR 2100 Instant Discount on ICICI Bank Credit Cards (excluding Amazon Pay ICICI Credit Card) Credit CardTxn. Minimum purchase value INR 17999\\n\\n3. Flat INR 2000 Instant Discount on HDFC Bank Debit Card EMI Txn. Minimum purchase value INR 19999\\n\\n4. 5% Instant Discount up to INR 250 on HSBC Cashback Card Credit Card Transactions. Minimum purchase value INR 1000\\n\\n5. Get 5% back with Amazon Pay ICICI Bank credit card for Prime members. 3% back for others. Not applicable on Amazon business transactions.\\n\\n6. ₹100 cashback & ₹2150 welcome rewards on Amazon Pay Later.\\n\\nwhat is the maximum discount applicable?\"},\n",
    "    {\"role\": \"assistant\", \"content\": \"From the first offer since the price value of 18999 is greater than 17999 the discount amount is 2000 . From the second offer since the price value of 18999 is greater than 17999 the discount amount is 2100. From the third offer since the price value of 18999 is less than minimum purchase value of 19999, the discount value is not applicable. From the fourth offer, the discount amount is 5% of the price of the SKU, up to a maximum of 250. Since the price of the SKU is 18999, the discount amount will be 250. Assuming prime member, from the fifth offer, the maximum discount applicable is 5%, since 5% is greater than 3%. So the discount amount is 5% of the price of the SKU, which is 18999. This equals 950.From the sixth offer, the discount amount is 100 cashback + 2150 welcome rewards = 2250. Comparing the discounts from the six offers, the maximum discount is 2250. So,the maximum discount applicable is 2250.\"},\n",
    "    {\"role\": \"user\", \"content\": \"The Price of SKU is 15899\\n\\nOffers:\\n1. Get 5% back with Amazon Pay ICICI Bank credit card for Prime members. 3% back for others. Not applicable on Amazon business transactions.\\n2. ₹100 cashback & ₹500 welcome rewards on Amazon Pay Later. Activate now. Pay next month at Zero interest or in EMIs! T&C apply.\\n3. Flat INR 500 Instant Discount on ICICI Bank Credit Cards (excluding Amazon Pay ICICI Credit Card) Credit Card Txn. Minimum purchase value INR 15999\\n4. Flat INR 750 Instant Discount on OneCard Credit Card Non EMI Txn. Minimum purchase value INR 15999\\n\\nwhat is the maximum discount?\"}\n",
    "]\n"
   ]
  },
  {
   "cell_type": "code",
   "execution_count": 3,
   "id": "f19da733-840a-4307-a4d0-1c3e192a73f0",
   "metadata": {},
   "outputs": [
    {
     "name": "stdout",
     "output_type": "stream",
     "text": [
      "FEW SHOT INTERFERENCE-OPEN AI: \n",
      "From the first offer assuming prime member, the discount amount is 5% of the price of the SKU, which is 15899. This equals 794. From the second offer, the discount amount is 100 cashback + 500 welcome rewards= 600. So the discount from this offer is 600. From the third offer, since the purchase value 15899 is less than the minimum purchase value of ₹15999, the discount amount is not applicable. From the fourth offer, the discount is ₹750 since the minimum purchase value of ₹15999 is greater than the price of SKU. Comparing the discounts from the four offers, the maximum discount is ₹794. So, the maximum discount applicable is ₹794.\n"
     ]
    }
   ],
   "source": [
    "import openai\n",
    "\n",
    "output=openai.ChatCompletion.create(\n",
    "  model=\"gpt-3.5-turbo\",\n",
    "  messages=messages_2\n",
    ")\n",
    "\n",
    "print(f\"FEW SHOT INTERFERENCE-OPEN AI: \\n{output['choices'][0]['message']['content']}\")"
   ]
  },
  {
   "cell_type": "code",
   "execution_count": null,
   "id": "27daa4b0-85e9-4679-a930-d76eeb365af3",
   "metadata": {},
   "outputs": [],
   "source": []
  }
 ],
 "metadata": {
  "kernelspec": {
   "display_name": "Python 3 (ipykernel)",
   "language": "python",
   "name": "python3"
  },
  "language_info": {
   "codemirror_mode": {
    "name": "ipython",
    "version": 3
   },
   "file_extension": ".py",
   "mimetype": "text/x-python",
   "name": "python",
   "nbconvert_exporter": "python",
   "pygments_lexer": "ipython3",
   "version": "3.10.2"
  }
 },
 "nbformat": 4,
 "nbformat_minor": 5
}
