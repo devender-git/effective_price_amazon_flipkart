{
 "cells": [
  {
   "cell_type": "code",
   "execution_count": 1,
   "id": "d17737fd-95ca-4383-bb75-31214c065dc8",
   "metadata": {},
   "outputs": [],
   "source": [
    "from langchain.llms import CTransformers\n",
    "from langchain import PromptTemplate, HuggingFaceHub, LLMChain"
   ]
  },
  {
   "cell_type": "code",
   "execution_count": 2,
   "id": "f903644a-3b71-445b-acd3-7c2e6635dd72",
   "metadata": {},
   "outputs": [
    {
     "name": "stdout",
     "output_type": "stream",
     "text": [
      "Name: langchain\n",
      "Version: 0.0.251\n",
      "Summary: Building applications with LLMs through composability\n",
      "Home-page: https://www.github.com/hwchase17/langchain\n",
      "Author: \n",
      "Author-email: \n",
      "License: MIT\n",
      "Location: c:\\users\\devenderjhinkwan\\ml_path\\effective_price_amazon_flipkart\\myenv\\lib\\site-packages\n",
      "Requires: aiohttp, async-timeout, dataclasses-json, langsmith, numexpr, numpy, openapi-schema-pydantic, pydantic, PyYAML, requests, SQLAlchemy, tenacity\n",
      "Required-by: \n"
     ]
    }
   ],
   "source": [
    "!pip show langchain"
   ]
  },
  {
   "cell_type": "code",
   "execution_count": 29,
   "id": "21d3b22f-3828-49d1-b6b2-c182c4615e0a",
   "metadata": {},
   "outputs": [],
   "source": [
    "#pip install langchain==0.0.251"
   ]
  },
  {
   "cell_type": "code",
   "execution_count": 11,
   "id": "e8b7b800-f159-42f1-bf4d-612c41ec4881",
   "metadata": {},
   "outputs": [],
   "source": [
    "#pip install ctransformers==0.2.5"
   ]
  },
  {
   "cell_type": "code",
   "execution_count": 13,
   "id": "40e3d058-e39e-43b7-ae5a-be78a4517065",
   "metadata": {},
   "outputs": [],
   "source": [
    "#pip install sentence-transformers==2.2.2"
   ]
  },
  {
   "cell_type": "code",
   "execution_count": 2,
   "id": "eb76b9c7-91c8-4b7e-a66c-138baf88c83a",
   "metadata": {},
   "outputs": [],
   "source": [
    "# Local CTransformers wrapper for Llama-2-7B-Chat\n",
    "llm = CTransformers(model='models/llama-2-7b-chat.ggmlv3.q8_0.bin', # Location of downloaded GGML model\n",
    "                    model_type='llama', # Model type Llama\n",
    "                    config={'max_new_tokens': 256,\n",
    "                            'temperature': 0.01})"
   ]
  },
  {
   "cell_type": "code",
   "execution_count": 3,
   "id": "5ef807e4-f3d7-4abf-bc61-f3b6b56b180a",
   "metadata": {},
   "outputs": [
    {
     "data": {
      "text/plain": [
       "CTransformers(cache=None, verbose=False, callbacks=None, callback_manager=None, tags=None, metadata=None, client=<ctransformers.llm.LLM object at 0x00000184010FFB50>, model='models/llama-2-7b-chat.ggmlv3.q8_0.bin', model_type='llama', model_file=None, config={'max_new_tokens': 256, 'temperature': 0.01}, lib=None)"
      ]
     },
     "execution_count": 3,
     "metadata": {},
     "output_type": "execute_result"
    }
   ],
   "source": [
    "llm"
   ]
  },
  {
   "cell_type": "code",
   "execution_count": null,
   "id": "1c600935-1fe5-4318-b2bb-2b22a1cc78b6",
   "metadata": {},
   "outputs": [],
   "source": []
  },
  {
   "cell_type": "markdown",
   "id": "270359dc-7934-4068-b708-c8fc0706fb02",
   "metadata": {},
   "source": [
    "#### Zero Shot Inference with Instruction prompting"
   ]
  },
  {
   "cell_type": "code",
   "execution_count": 5,
   "id": "26ac4f22-adbc-4a35-a02a-333059604f40",
   "metadata": {},
   "outputs": [],
   "source": [
    "from langchain import PromptTemplate, LLMChain\n",
    "\n",
    "template = \"\"\"Calculate the maximum discount out of all the offers: {scenario}\n",
    "\n",
    "Maximum Discount:\"\"\"\n",
    "\n",
    "prompt = PromptTemplate(template=template, input_variables=[\"scenario\"])\n"
   ]
  },
  {
   "cell_type": "code",
   "execution_count": 13,
   "id": "2488827d-5ede-4c0a-8e70-06f268474ee3",
   "metadata": {},
   "outputs": [],
   "source": [
    "prompt_zero_shot = f\"\"\"\n",
    "\n",
    "The Price of SKU is 15899\n",
    "\n",
    "Offers:\n",
    "1. Get 5% back with Amazon Pay ICICI Bank credit card for Prime members. 3% back for others. Not applicable on Amazon business transactions.\n",
    "2. ₹100 cashback & ₹500 welcome rewards on Amazon Pay Later. Activate now. Pay next month at Zero interest or in EMIs! T&C apply.\n",
    "3. Flat INR 500 Instant Discount on ICICI Bank Credit Cards (excluding Amazon Pay ICICI Credit Card) Credit Card Txn. Minimum purchase value INR 15999\n",
    "4. Flat INR 750 Instant Discount on OneCard Credit Card Non EMI Txn. Minimum purchase value INR 15999\n",
    "\n",
    "what is the maximum discount? \n",
    "\"\"\""
   ]
  },
  {
   "cell_type": "code",
   "execution_count": 14,
   "id": "76c5333b-5b81-4232-bf62-be4ca5c3d480",
   "metadata": {},
   "outputs": [
    {
     "data": {
      "text/plain": [
       "'\\n\\nThe Price of SKU is 15899\\n\\nOffers:\\n1. Get 5% back with Amazon Pay ICICI Bank credit card for Prime members. 3% back for others. Not applicable on Amazon business transactions.\\n2. ₹100 cashback & ₹500 welcome rewards on Amazon Pay Later. Activate now. Pay next month at Zero interest or in EMIs! T&C apply.\\n3. Flat INR 500 Instant Discount on ICICI Bank Credit Cards (excluding Amazon Pay ICICI Credit Card) Credit Card Txn. Minimum purchase value INR 15999\\n4. Flat INR 750 Instant Discount on OneCard Credit Card Non EMI Txn. Minimum purchase value INR 15999\\n\\nwhat is the maximum discount? \\n'"
      ]
     },
     "execution_count": 14,
     "metadata": {},
     "output_type": "execute_result"
    }
   ],
   "source": [
    "prompt_zero_shot"
   ]
  },
  {
   "cell_type": "code",
   "execution_count": 15,
   "id": "475a38d5-f942-4b0d-96c5-74232b69d768",
   "metadata": {},
   "outputs": [],
   "source": [
    "\n",
    "llm_chain = LLMChain(prompt=prompt, llm=llm)\n",
    "\n",
    "response = llm_chain.run(prompt_zero_shot)"
   ]
  },
  {
   "cell_type": "code",
   "execution_count": 16,
   "id": "03de2002-9de5-43e5-a7ab-9fa39cf931c2",
   "metadata": {},
   "outputs": [
    {
     "data": {
      "text/plain": [
       "' ₹750\\n\\nExplanation:\\nThe maximum discount that can be availed is ₹750, which is offered by Offer 4. This offer provides a flat ₹750 instant discount on OneCard Credit Card non-EMI transactions with a minimum purchase value of ₹15999. As the price of SKU is ₹15899, which is less than the minimum purchase value required for this offer, the maximum discount that can be availed is ₹750.'"
      ]
     },
     "execution_count": 16,
     "metadata": {},
     "output_type": "execute_result"
    }
   ],
   "source": [
    "response"
   ]
  },
  {
   "cell_type": "markdown",
   "id": "33c32d6e-4412-4de7-84dc-194ebe764509",
   "metadata": {},
   "source": [
    "#### One shot Inference"
   ]
  },
  {
   "cell_type": "code",
   "execution_count": 6,
   "id": "6a49e388-6e25-48c2-ab05-e0368086b38c",
   "metadata": {},
   "outputs": [],
   "source": [
    "template_oneshot = \"\"\"You are an AI assistant which helps in evaluating the offers for maximum discount. Considering the SKU price & offers listed calculate the maximum discount applicable \\n\\n: {scenario}\n",
    "\n",
    "Maximum Discount: {solution}\n",
    "\n",
    "\"\"\"\n",
    "\n",
    "prompt_oneshot = PromptTemplate(template=template, input_variables=[\"scenario\"])\n"
   ]
  },
  {
   "cell_type": "code",
   "execution_count": 7,
   "id": "a10d2646-f634-46c3-9ba6-97677469e938",
   "metadata": {},
   "outputs": [],
   "source": [
    "example = {\"scenario\":\"The Price of SKU is 17999. The below offers are applicable:\\n1. Get 5% back with Amazon Pay ICICI Bank credit card for Prime members. 3% back for others. Not applicable on Amazon business transactions.\\n2. ₹100 cashback & ₹500 welcome rewards on Amazon Pay Later. Activate now. Pay next month at Zero interest or in EMIs! T&C apply.\\n3. Flat INR 500 Instant Discount on ICICI Bank Credit Cards (excluding Amazon Pay ICICI Credit Card) Credit Card Txn. Minimum purchase 4. value INR 15999\\n4. Flat INR 750 Instant Discount on OneCard Credit Card Non EMI Txn. Minimum purchase value INR 15999.\\n What is the maximum discount?\",\n",
    "          \"solution\":\"Assuming prime member from the first offer the maximum discount applicable is 5%, since 5% is greater than 3%. So the discount amount is 5% of price of sku, which is 17999. This equals 900. From the second offer the maximum discount is 100 cashback + 500 welcome rewards= 600. so the discount from this offer is 600. From the third offer since the purchase value 17999 is greater than Minimum purchase value of ₹15999, hence the discount amount is applicable & it is equal to ₹500. From the fourth offer the discount = ₹750 since the Minimum pucrhase value of ₹15999 is less than than ₹17999. Comparing the discounts from the 4 offers the maximum discount is ₹900. So the answer is ₹900\"}"
   ]
  },
  {
   "cell_type": "code",
   "execution_count": 8,
   "id": "f606067c-d231-441b-9144-e3a2925cb72c",
   "metadata": {},
   "outputs": [],
   "source": [
    "# Make the prompt\n",
    "\n",
    "def make_prompt(example, example_to_solve):\n",
    "    prompt = ''\n",
    "    scenario = example['scenario']\n",
    "    solution = example['solution']\n",
    "    \n",
    "    prompt += f\"\"\"Calculate the maximum discount out of all the offers: \\n\\n{scenario}\n",
    "    \n",
    "    Maximum Discount: {solution}\n",
    "    \n",
    "    \"\"\"\n",
    "\n",
    "    #print(prompt)\n",
    "\n",
    "    scenario = example_to_solve['scenario']\n",
    "    \n",
    "    prompt += f\"\"\"Calculate the maximum discount out of all the offers: \\n\\n{scenario}\n",
    "    \n",
    "    Maximum Discount: \"\"\"\n",
    "    \n",
    "    return prompt"
   ]
  },
  {
   "cell_type": "code",
   "execution_count": 9,
   "id": "7b959c37-caaf-46ce-895f-51c0b28b9b8f",
   "metadata": {},
   "outputs": [
    {
     "name": "stdout",
     "output_type": "stream",
     "text": [
      "Calculate the maximum discount out of all the offers: \n",
      "\n",
      "The Price of SKU is 17999. The below offers are applicable:\n",
      "1. Get 5% back with Amazon Pay ICICI Bank credit card for Prime members. 3% back for others. Not applicable on Amazon business transactions.\n",
      "2. ₹100 cashback & ₹500 welcome rewards on Amazon Pay Later. Activate now. Pay next month at Zero interest or in EMIs! T&C apply.\n",
      "3. Flat INR 500 Instant Discount on ICICI Bank Credit Cards (excluding Amazon Pay ICICI Credit Card) Credit Card Txn. Minimum purchase 4. value INR 15999\n",
      "4. Flat INR 750 Instant Discount on OneCard Credit Card Non EMI Txn. Minimum purchase value INR 15999.\n",
      " What is the maximum discount?\n",
      "    \n",
      "    Maximum Discount: Assuming prime member from the first offer the maximum discount applicable is 5%, since 5% is greater than 3%. So the discount amount is 5% of price of sku, which is 17999. This equals 900. From the second offer the maximum discount is 100 cashback + 500 welcome rewards= 600. so the discount from this offer is 600. From the third offer since the purchase value 17999 is greater than Minimum purchase value of ₹15999, hence the discount amount is applicable & it is equal to ₹500. From the fourth offer the discount = ₹750 since the Minimum pucrhase value of ₹15999 is less than than ₹17999. Comparing the discounts from the 4 offers the maximum discount is ₹900. So the answer is ₹900\n",
      "    \n",
      "    Calculate the maximum discount out of all the offers: \n",
      "\n",
      "The Price of SKU is 15899. The below offers are applicable:\n",
      "1. Get 5% back with Amazon Pay ICICI Bank credit card for Prime members. 3% back for others. Not applicable on Amazon business transactions.\n",
      "2. ₹100 cashback & ₹500 welcome rewards on Amazon Pay Later. Activate now. Pay next month at Zero interest or in EMIs! T&C apply.\n",
      "3. Flat INR 500 Instant Discount on ICICI Bank Credit Cards (excluding Amazon Pay ICICI Credit Card) Credit Card Txn. Minimum purchase value INR 15999\n",
      "4. Flat INR 750 Instant Discount on OneCard Credit Card Non EMI Txn. Minimum purchase value INR 15999.\\What is the maximum discount?\n",
      "    \n",
      "    Maximum Discount: \n"
     ]
    }
   ],
   "source": [
    "example_to_solve = {\"scenario\": \"The Price of SKU is 15899. The below offers are applicable:\\n1. Get 5% back with Amazon Pay ICICI Bank credit card for Prime members. 3% back for others. Not applicable on Amazon business transactions.\\n2. ₹100 cashback & ₹500 welcome rewards on Amazon Pay Later. Activate now. Pay next month at Zero interest or in EMIs! T&C apply.\\n3. Flat INR 500 Instant Discount on ICICI Bank Credit Cards (excluding Amazon Pay ICICI Credit Card) Credit Card Txn. Minimum purchase value INR 15999\\n4. Flat INR 750 Instant Discount on OneCard Credit Card Non EMI Txn. Minimum purchase value INR 15999.\\What is the maximum discount?\"}\n",
    "\n",
    "one_shot_prompt = make_prompt(example, example_to_solve)\n",
    "\n",
    "print(one_shot_prompt)"
   ]
  },
  {
   "cell_type": "code",
   "execution_count": 10,
   "id": "0fa7c921-3024-4196-8871-9f99ae4c0df9",
   "metadata": {},
   "outputs": [
    {
     "name": "stdout",
     "output_type": "stream",
     "text": [
      " Assuming prime member from First Offer: Assuming Prime Member: Assuming prime member from first offer  Calculation: Assuming prime member from the customer can be applicable for this offer ₹5% = 5%: Assuming prime member from the maximum discount: Assuming prime member from the customer can be applicable is \n",
      "     Discount: Assuming prime member from First Offer: Assuming Prime Member: Assuming prime member from first offer  Calculation: Assuming prime member from the customer can be applicable for this offer ₹90: Assuming prime member from the customer can be applicable is 5% = 5%: Assuming prime member from the maximum discount: Assuming prime member from First Offer: Assuming Prime Member Discount: Assuming prime member from first offer \n",
      "     | Offer: Assuming prime member from the customer can be applicable for this offer  Calculation: Assuming prime member from the customer can be applicable is 5% = ₹90: Assuming prime member from the maximum discount: Assuming prime member from First Offer: Assuming Prime Member Discount: Assuming prime member from first offer \n",
      "     | Offer: Assuming prime member from the customer can be applicable for this offer  Calculation: Assuming prime member from the customer can be\n"
     ]
    }
   ],
   "source": [
    "llm_chain = LLMChain(prompt=prompt_oneshot, llm=llm)\n",
    "\n",
    "response = llm_chain.run(one_shot_prompt)\n",
    "print(response)"
   ]
  },
  {
   "cell_type": "code",
   "execution_count": null,
   "id": "40a899b6-957c-4509-9608-ed678d7cd2f3",
   "metadata": {},
   "outputs": [],
   "source": []
  }
 ],
 "metadata": {
  "kernelspec": {
   "display_name": "Python 3 (ipykernel)",
   "language": "python",
   "name": "python3"
  },
  "language_info": {
   "codemirror_mode": {
    "name": "ipython",
    "version": 3
   },
   "file_extension": ".py",
   "mimetype": "text/x-python",
   "name": "python",
   "nbconvert_exporter": "python",
   "pygments_lexer": "ipython3",
   "version": "3.10.2"
  }
 },
 "nbformat": 4,
 "nbformat_minor": 5
}
